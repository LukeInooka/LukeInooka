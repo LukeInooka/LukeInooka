{
 "cells": [
  {
   "cell_type": "code",
   "execution_count": 26,
   "metadata": {
    "collapsed": true,
    "pycharm": {
     "name": "#%%\n"
    }
   },
   "outputs": [],
   "source": [
    "from random import shuffle, randint\n",
    "def list_creator(length,l,shuf=False):\n",
    "    for i in range(length):\n",
    "        l.append(i)\n",
    "    if shuf:\n",
    "        shuffle(l)\n",
    "lis = []\n",
    "list_creator(10000000,lis)"
   ]
  },
  {
   "cell_type": "code",
   "execution_count": 25,
   "outputs": [
    {
     "data": {
      "text/plain": "'Index position:   6133776'"
     },
     "execution_count": 25,
     "metadata": {},
     "output_type": "execute_result"
    }
   ],
   "source": [
    "def linear_search(item,my_list):\n",
    "    for i in my_list:\n",
    "        if i == item:\n",
    "            return f'Index position:   {my_list[i]}'\n",
    "    print(\"Not Present in list\")\n",
    "linear_search(3326068,lis)"
   ],
   "metadata": {
    "collapsed": false,
    "pycharm": {
     "name": "#%%\n"
    }
   }
  },
  {
   "cell_type": "code",
   "execution_count": 94,
   "outputs": [
    {
     "data": {
      "text/plain": "False"
     },
     "execution_count": 94,
     "metadata": {},
     "output_type": "execute_result"
    }
   ],
   "source": [
    "def binary_search(item,my_list):\n",
    "    b,found,count = False,0,len(my_list)\n",
    "    while not found and count < b:\n",
    "        if item > my_list[-1]:\n",
    "            break\n",
    "        val = len(my_list)//2\n",
    "        if item == my_list[val]:\n",
    "            found = True\n",
    "        if item > my_list[val]:\n",
    "            my_list = my_list[val:]\n",
    "        else:\n",
    "            my_list = my_list[:val]\n",
    "        count +=1\n",
    "    return found\n",
    "\n",
    "binary_search(1,lis)"
   ],
   "metadata": {
    "collapsed": false,
    "pycharm": {
     "name": "#%%\n"
    }
   }
  },
  {
   "cell_type": "code",
   "execution_count": 28,
   "outputs": [
    {
     "data": {
      "text/plain": "5066519"
     },
     "execution_count": 28,
     "metadata": {},
     "output_type": "execute_result"
    }
   ],
   "source": [
    "randint(1,10000000)"
   ],
   "metadata": {
    "collapsed": false,
    "pycharm": {
     "name": "#%%\n"
    }
   }
  },
  {
   "cell_type": "code",
   "execution_count": null,
   "outputs": [],
   "source": [
    "def insertion_sort(item,my_list):\n",
    "    count = 0\n",
    "    last = my_list[0]\n",
    "    while count < len(my_list):\n",
    "        if my_list[count] >= last:\n",
    "            last = my_list[count]\n",
    "        else:\n",
    "            for i in "
   ],
   "metadata": {
    "collapsed": false,
    "pycharm": {
     "name": "#%%\n"
    }
   }
  }
 ],
 "metadata": {
  "kernelspec": {
   "display_name": "Python 3",
   "language": "python",
   "name": "python3"
  },
  "language_info": {
   "codemirror_mode": {
    "name": "ipython",
    "version": 2
   },
   "file_extension": ".py",
   "mimetype": "text/x-python",
   "name": "python",
   "nbconvert_exporter": "python",
   "pygments_lexer": "ipython2",
   "version": "2.7.6"
  }
 },
 "nbformat": 4,
 "nbformat_minor": 0
}