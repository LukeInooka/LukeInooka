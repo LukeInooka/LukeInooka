{
 "cells": [
  {
   "cell_type": "markdown",
   "metadata": {
    "collapsed": true,
    "pycharm": {
     "name": "#%% md\n"
    }
   },
   "source": [
    "Practice!\n",
    "\n",
    "Question 1\n",
    "Can you write a short program that will print out the version of Python\n",
    "that you are using?\n",
    "\n",
    "Question 2\n",
    "Write a program that requests five names separated by commas and create a\n",
    "list containing those names. Print your answer.\n",
    "For example James,Alison,Fred,Sally,Matthew\n",
    "should return ['James','Alison','Fred','Sally','Matthew']\n",
    "\n",
    "Question 3\n",
    "Write a program to determine whether a given number is within 10 of 100 or 200.\n",
    "\n",
    "Question 4\n",
    "Write a program that takes a list of non-negative integers and prints each integer\n",
    "to the screen the same number of times as the value of the integer, each new value\n",
    "on a new line. For example\n",
    "[2,3,4,1] would print:\n",
    "22\n",
    "333\n",
    "4444\n",
    "1\n",
    "\n",
    "Question 5\n",
    "Write some code that will return the number of CPUs in the system.\n",
    "\n",
    "Question 6\n",
    "Write a program that will return the sum of the digits of an integer.\n",
    "\n",
    "Question 7\n",
    "Write a program that converts text into pig latin. Pig latin works as follows:\n",
    "All letters before initial vowel are placed at the end of the word and then 'ay'\n",
    "is added (explanation adapted from Wikipedia), so pig becomes igpay, cat becomes\n",
    "atcay, potential becomes otentialpay etc.\n",
    "\n",
    "Question 8\n",
    "Write a function that will check for the occurrence of double letters in\n",
    "a string. If the string contains double letters next to each other it\n",
    "will return True, otherwise it will return False.\n",
    "\n",
    "Question 9\n",
    "Write a function that will check if a string is a palindrome.\n",
    "\n",
    "Question 10\n",
    "Write a function def add_commas(numbers) that will add commas to an integer and return it as a string.\n",
    "For example add_commas(1000000) will return 1,000,000 Do it first without using string fomratting\n",
    "or f strings.\n",
    "\n",
    "Question 11\n",
    "Write a function that will convert an integer into binary.\n",
    "\n",
    "Question 12\n",
    "Write a function that calculates the sum of all integers up to n. Use the iterative method\n",
    "and the formula and compare the results. (sum of n integers given by S = (n(n+1))/2)\n",
    "\n",
    "Question 13\n",
    "Go back over the TwoSum problem we covered earlier in the course. Ensure you understand it.\n",
    "\n",
    "Question 14\n",
    "Implement the TwoSum solution without referring to the solution.\n",
    "\n",
    "Question 15\n",
    "Write a function that takes a positive integer n and converts it into hours and minutes.\n",
    "45 would return 0h:45mins 135 would return 2h:15mins\n",
    "\n",
    "Question 16\n",
    "Write a function to determine whether all numbers in a list are unique.\n",
    "\n",
    "Question 17\n",
    "Write a function to add two positive integers together without using the + operator.\n",
    "(Note, this will require some research - start here https://en.wikipedia.org/wiki/Bitwise_operation)\n",
    "\n",
    "Question 18\n",
    "Write a function that will calculate the number of divisors of a positive integer and return\n",
    "those divisors.\n",
    "\n",
    "Question 19\n",
    "Write a function that uses bitwise operations to determine whether a number is odd or even.\n",
    "\n",
    "Question 20\n",
    "Write a function which prints the prime numbers in a given range."
   ]
  },
  {
   "cell_type": "markdown",
   "source": [
    "Q1"
   ],
   "metadata": {
    "collapsed": false,
    "pycharm": {
     "name": "#%% md\n"
    }
   }
  },
  {
   "cell_type": "code",
   "execution_count": 5,
   "outputs": [
    {
     "name": "stdout",
     "output_type": "stream",
     "text": [
      "3.9.7 \n"
     ]
    }
   ],
   "source": [
    "import sys\n",
    "a = sys.version.split('(')\n",
    "version = a[0]\n",
    "print(version)"
   ],
   "metadata": {
    "collapsed": false,
    "pycharm": {
     "name": "#%%\n"
    }
   }
  },
  {
   "cell_type": "markdown",
   "source": [
    "Q2"
   ],
   "metadata": {
    "collapsed": false,
    "pycharm": {
     "name": "#%% md\n"
    }
   }
  },
  {
   "cell_type": "code",
   "execution_count": 56,
   "outputs": [
    {
     "name": "stdout",
     "output_type": "stream",
     "text": [
      "0 off from 200\n"
     ]
    }
   ],
   "source": [
    "number = int(input('number: '))\n",
    "for a in range(100,201,100):\n",
    "    for i in range(0,11):\n",
    "        if number + i == a or number - i == a:\n",
    "            print(f'{i} off from {a}')\n"
   ],
   "metadata": {
    "collapsed": false,
    "pycharm": {
     "name": "#%%\n"
    }
   }
  },
  {
   "cell_type": "code",
   "execution_count": 58,
   "outputs": [
    {
     "name": "stdout",
     "output_type": "stream",
     "text": [
      "\n"
     ]
    }
   ],
   "source": [
    "nums = list(input('list').split(' '))\n",
    "for obj in nums:\n",
    "    if obj == ' ':\n",
    "        nums.remove(obj)\n",
    "for num in nums:\n",
    "    print('')\n",
    "    for i in range(int(num)):\n",
    "        print(num,end=' ')"
   ],
   "metadata": {
    "collapsed": false,
    "pycharm": {
     "name": "#%%\n"
    }
   }
  },
  {
   "cell_type": "code",
   "execution_count": 59,
   "outputs": [],
   "source": [
    "def is_even(x: int)-> bool:\n",
    "    \"\"\"\n",
    "    checks if input is even\n",
    "    :param x:\n",
    "    :return: boolean\n",
    "    \"\"\"\n",
    "    if x%2 ==0:\n",
    "        return True\n",
    "    return False"
   ],
   "metadata": {
    "collapsed": false,
    "pycharm": {
     "name": "#%%\n"
    }
   }
  },
  {
   "cell_type": "code",
   "execution_count": 60,
   "outputs": [
    {
     "data": {
      "text/plain": "True"
     },
     "execution_count": 60,
     "metadata": {},
     "output_type": "execute_result"
    }
   ],
   "source": [
    "is_even()"
   ],
   "metadata": {
    "collapsed": false,
    "pycharm": {
     "name": "#%%\n"
    }
   }
  }
 ],
 "metadata": {
  "kernelspec": {
   "display_name": "Python 3",
   "language": "python",
   "name": "python3"
  },
  "language_info": {
   "codemirror_mode": {
    "name": "ipython",
    "version": 2
   },
   "file_extension": ".py",
   "mimetype": "text/x-python",
   "name": "python",
   "nbconvert_exporter": "python",
   "pygments_lexer": "ipython2",
   "version": "2.7.6"
  }
 },
 "nbformat": 4,
 "nbformat_minor": 0
}