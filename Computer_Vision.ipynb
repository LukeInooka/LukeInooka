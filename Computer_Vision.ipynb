{
 "cells": [
  {
   "cell_type": "markdown",
   "source": [
    "# Given an image of coins, find the value of each coin and the total value"
   ],
   "metadata": {
    "collapsed": false,
    "pycharm": {
     "name": "#%% md\n"
    }
   }
  },
  {
   "cell_type": "markdown",
   "source": [
    "## 1. Identifying a Circle\n",
    "#### a. Import libraries\n",
    "Libraries used:\n",
    "numpy, opencv."
   ],
   "metadata": {
    "collapsed": false,
    "pycharm": {
     "name": "#%% md\n"
    }
   }
  },
  {
   "cell_type": "code",
   "execution_count": 1,
   "outputs": [],
   "source": [
    "import numpy as np\n",
    "import cv2 as cv"
   ],
   "metadata": {
    "collapsed": false,
    "pycharm": {
     "name": "#%%\n"
    }
   }
  },
  {
   "cell_type": "markdown",
   "source": [
    "#### Prepare image for scan\n",
    "The image is first imported followed by being converted to grayscale in order for cv2 to search for circle.\n",
    "This is done automatically through the imread flag mode set to 0 meaning it will be converted to IMREAD_GRAYSCALE\n",
    "A copy of the colour image is stored as output for overlaying the circles on."
   ],
   "metadata": {
    "collapsed": false,
    "pycharm": {
     "name": "#%% md\n"
    }
   }
  },
  {
   "cell_type": "code",
   "execution_count": 2,
   "outputs": [],
   "source": [
    "file_path = 'coindata/auscoins0.jpg'\n",
    "gray_image = cv.imread(file_path,0)\n",
    "pretty_image = cv.imread(file_path,-1)\n",
    "blurred_image = cv.GaussianBlur(gray_image,(5,5),0)\n",
    "\n",
    "cv.imshow('GaussianBlur',blurred_image)\n",
    "cv.waitKey(0)\n",
    "cv.destroyAllWindows()"
   ],
   "metadata": {
    "collapsed": false,
    "pycharm": {
     "name": "#%%\n"
    }
   }
  },
  {
   "cell_type": "markdown",
   "source": [],
   "metadata": {
    "collapsed": false
   }
  },
  {
   "cell_type": "markdown",
   "source": [
    "#### Search for circle\n",
    "This is done using the hough circles method that uses some fancy math and gradient to find out if there is a circle.\n",
    "Variables:\n",
    "Image: The grayscale image that is used to detect for circles\n",
    "Method: The way in which the circles is searched for: only HOUGH_GRADIENT currently\n",
    "dp: the\n",
    "Mindist:\n",
    "Circles:"
   ],
   "metadata": {
    "collapsed": false,
    "pycharm": {
     "name": "#%% md\n"
    }
   }
  },
  {
   "cell_type": "code",
   "execution_count": 3,
   "outputs": [],
   "source": [
    "for i in range(10):\n",
    "    file_path = f'coindata/auscoins{i}.jpg'\n",
    "    gray_image = cv.imread(file_path,0)\n",
    "    pretty_image = cv.imread(file_path,-1)\n",
    "    blurred_image = cv.GaussianBlur(gray_image,(5,5),0)\n",
    "\n",
    "    circles = cv.HoughCircles(blurred_image,cv.HOUGH_GRADIENT,1,21,\n",
    "                              param1=90,param2=190,minRadius=0,maxRadius=0)\n",
    "    if circles is not None:\n",
    "        circles = np.uint16(np.around(circles))\n",
    "        for i in circles[0,:]:\n",
    "            center = (i[0],i[1])\n",
    "            radius = i[2]\n",
    "            # draw the outer circle\n",
    "            if radius > 52:\n",
    "                cv.circle(pretty_image,center,radius,(0,255,0),2)\n",
    "            # draw the center of the circle\n",
    "            cv.circle(pretty_image,(i[0],i[1]),2,(0,0,255),3)\n",
    "        cv.imshow('Gaussian',pretty_image)\n",
    "        cv.waitKey(0)\n",
    "        cv.destroyAllWindows()"
   ],
   "metadata": {
    "collapsed": false,
    "pycharm": {
     "name": "#%%\n"
    }
   }
  },
  {
   "cell_type": "code",
   "execution_count": 4,
   "outputs": [],
   "source": [
    "file_path = f'coindata/auscoins9.jpg'\n",
    "gray_image = cv.imread(file_path,0)\n",
    "pretty_image = cv.imread(file_path,-1)\n",
    "blurred_image = cv.GaussianBlur(gray_image,(5,5),0)\n",
    "\n",
    "circles = cv.HoughCircles(blurred_image,cv.HOUGH_GRADIENT,1,21,\n",
    "                          param1=90,param2=190,minRadius=0,maxRadius=0)\n",
    "if circles is not None:\n",
    "    circles = np.uint16(np.around(circles))\n",
    "    for i in circles[0,:]:\n",
    "        center = (i[0],i[1])\n",
    "        radius = i[2]\n",
    "        # draw the outer circle\n",
    "        if radius > 52:\n",
    "            cv.circle(pretty_image,center,radius,(0,255,0),2)\n",
    "        # draw the center of the circle\n",
    "        cv.circle(pretty_image,(i[0],i[1]),2,(0,0,255),3)\n",
    "    cv.imshow('Gaussian',pretty_image)\n",
    "    cv.waitKey(0)\n",
    "    cv.destroyAllWindows()\n",
    "def get_avg_col(source):\n",
    "    return cv.color"
   ],
   "metadata": {
    "collapsed": false,
    "pycharm": {
     "name": "#%%\n"
    }
   }
  },
  {
   "cell_type": "code",
   "execution_count": 1,
   "outputs": [
    {
     "ename": "NameError",
     "evalue": "name 'cv' is not defined",
     "output_type": "error",
     "traceback": [
      "\u001B[1;31m---------------------------------------------------------------------------\u001B[0m",
      "\u001B[1;31mNameError\u001B[0m                                 Traceback (most recent call last)",
      "\u001B[1;32m~\\AppData\\Local\\Temp/ipykernel_14160/2528894160.py\u001B[0m in \u001B[0;36m<module>\u001B[1;34m\u001B[0m\n\u001B[1;32m----> 1\u001B[1;33m \u001B[0mimages\u001B[0m \u001B[1;33m=\u001B[0m \u001B[0mcv\u001B[0m\u001B[1;33m.\u001B[0m\u001B[0mimread\u001B[0m\u001B[1;33m(\u001B[0m\u001B[1;34m'coindata/auscoins.jpg'\u001B[0m\u001B[1;33m)\u001B[0m\u001B[1;33m\u001B[0m\u001B[1;33m\u001B[0m\u001B[0m\n\u001B[0m\u001B[0;32m      2\u001B[0m \u001B[1;33m\u001B[0m\u001B[0m\n\u001B[0;32m      3\u001B[0m \u001B[0mimg\u001B[0m \u001B[1;33m=\u001B[0m \u001B[0mcv\u001B[0m\u001B[1;33m.\u001B[0m\u001B[0mmedianBlur\u001B[0m\u001B[1;33m(\u001B[0m\u001B[0mimages\u001B[0m\u001B[1;33m,\u001B[0m\u001B[1;36m5\u001B[0m\u001B[1;33m)\u001B[0m\u001B[1;33m\u001B[0m\u001B[1;33m\u001B[0m\u001B[0m\n\u001B[0;32m      4\u001B[0m \u001B[0mcimg\u001B[0m \u001B[1;33m=\u001B[0m \u001B[0mcv\u001B[0m\u001B[1;33m.\u001B[0m\u001B[0mcvtColor\u001B[0m\u001B[1;33m(\u001B[0m\u001B[0mimg\u001B[0m\u001B[1;33m,\u001B[0m\u001B[0mcv\u001B[0m\u001B[1;33m.\u001B[0m\u001B[0mCOLOR_GRAY2BGR\u001B[0m\u001B[1;33m)\u001B[0m\u001B[1;33m\u001B[0m\u001B[1;33m\u001B[0m\u001B[0m\n\u001B[0;32m      5\u001B[0m \u001B[1;33m\u001B[0m\u001B[0m\n",
      "\u001B[1;31mNameError\u001B[0m: name 'cv' is not defined"
     ]
    }
   ],
   "source": [
    "images = cv.imread('coindata/auscoins.jpg')\n",
    "\n",
    "img = cv.medianBlur(images,5)\n",
    "cimg = cv.cvtColor(img,cv.COLOR_GRAY2BGR)\n",
    "\n",
    "circles = np.uint16(np.around(circles))\n",
    "for i in circles[0,:]:\n",
    "    # draw the outer circle\n",
    "    cv.circle(cimg,(i[0],i[1]),i[2],(0,255,0),2)\n",
    "    # draw the center of the circle\n",
    "    cv.circle(cimg,(i[0],i[1]),2,(0,0,255),3)\n",
    "cv.imshow('detected circles',cimg)\n",
    "cv.waitKey(0)\n",
    "cv.destroyAllWindows()"
   ],
   "metadata": {
    "collapsed": false,
    "pycharm": {
     "name": "#%%\n"
    }
   }
  }
 ],
 "metadata": {
  "kernelspec": {
   "display_name": "Python 3",
   "language": "python",
   "name": "python3"
  },
  "language_info": {
   "codemirror_mode": {
    "name": "ipython",
    "version": 2
   },
   "file_extension": ".py",
   "mimetype": "text/x-python",
   "name": "python",
   "nbconvert_exporter": "python",
   "pygments_lexer": "ipython2",
   "version": "2.7.6"
  }
 },
 "nbformat": 4,
 "nbformat_minor": 0
}