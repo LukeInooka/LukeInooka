{
 "cells": [
  {
   "cell_type": "code",
   "execution_count": 30,
   "metadata": {
    "collapsed": true
   },
   "outputs": [
    {
     "name": "stdout",
     "output_type": "stream",
     "text": [
      "['rebut', 'humph', 'blush', 'evade', 'serve', 'dwarf', 'karma', 'grade', 'bench', 'feign', 'death', 'crust', 'colon', 'marry', 'batty', 'floss', 'croak', 'paper', 'whelp', 'outdo', 'crazy', 'repay', 'crate', 'spike', 'pound', 'linen', 'flesh', 'forth', 'stand', 'ivory', 'print', 'drain', 'stout', 'crass', 'offal', 'error', 'argue', 'delta', 'totem', 'front', 'parry', 'lapel', 'greet', 'golem', 'loopy', 'audit', 'gamma', 'islet', 'forge', 'moult', 'salad', 'spicy', 'essay', 'spend', 'guild', 'motor', 'hatch', 'thumb', 'ought', 'dutch', 'tweed', 'jaunt', 'steed', 'growl', 'dozen', 'erode', 'gouge', 'briar', 'altar', 'blurt', 'duchy', 'fixer', 'rogue', 'smart', 'pithy', 'chill', 'vodka', 'surer', 'rouge', 'retch', 'clock', 'store', 'bring', 'cheat', 'exult', 'epoch', 'break', 'viral', 'masse', 'vital', 'using', 'champ', 'brake', 'craze', 'weary', 'acute', 'aside', 'troll', 'rebus', 'truss', 'tiger', 'slump', 'gorge', 'drink', 'abbey', 'panic', 'shire', 'point', 'prick', 'crimp', 'sugar', 'mount', 'could', 'light', 'moist', 'pleat', 'skill', 'frame', 'pause', 'ultra', 'cynic', 'caulk', 'dodge', 'tacit', 'thorn', 'bloke', 'spill', 'choke', 'nasty', 'ahead', 'cloth', 'sweet', 'lapse', 'today', 'smelt', 'cater', 'saute', 'renew', 'slosh', 'chest', 'epoxy', 'found', 'harry', 'lowly', 'trope', 'shawl', 'comma', 'scare', 'black', 'royal', 'mince', 'cheek', 'flair', 'cargo', 'plant', 'inert', 'heist', 'zesty', 'trash', 'larva', 'story', 'train', 'badge', 'canny', 'butch', 'slung', 'metal', 'delve', 'scour', 'gamer', 'money', 'album', 'asset', 'crept', 'atoll', 'creak', 'phase', 'depth', 'flood', 'girth', 'piety', 'goose', 'donor', 'primo', 'blown', 'loser', 'gloat', 'brink', 'beady', 'retro', 'gawky', 'pinto', 'egret', 'sever', 'fluff', 'flack', 'voice', 'stalk', 'madam', 'bland', 'wedge', 'roomy', 'flock', 'bobby', 'aphid', 'midge', 'elope', 'motto', 'upset', 'cramp', 'coyly', 'youth', 'buggy', 'smear', 'patty', 'glean', 'hunky', 'poker', 'twice', 'shrug', 'unlit', 'merit', 'octal', 'clown', 'irony', 'gauze', 'onset', 'fungi', 'gully', 'whoop', 'leery', 'theme', 'lofty', 'booze', 'thyme', 'doubt', 'chute', 'trice', 'sooth', 'saint', 'glory', 'admit', 'soggy', 'scald', 'leave', 'sting', 'marsh', 'dandy', 'howdy', 'valid', 'equal', 'floor', 'spade', 'exist', 'denim', 'spiel', 'fault', 'flout', 'sneak', 'waltz', 'piney', 'aloud', 'dream', 'vomit', 'fanny', 'snarl', 'there', 'pooch', 'spell', 'louse', 'vault', 'threw', 'grave', 'shock', 'spite', 'skimp', 'rainy', 'pique', 'quasi', 'aging', 'opium', 'stuck', 'mulch', 'plume', 'count', 'total', 'mocha', 'study', 'safer', 'funny', 'mound', 'sedan', 'swine', 'gusty', 'tough', 'chaos', 'human', 'lunch', 'stray', 'melee', 'lefty', 'paste', 'octet', 'groan', 'grind', 'loose', 'spilt', 'slack', 'final', 'eerie', 'minty', 'derby', 'spelt', 'erupt', 'price', 'fairy', 'filmy', 'chose', 'ardor', 'niece', 'handy', 'ditto', 'cream', 'diode', 'angle', 'muddy', 'reply', 'spoil', 'shade', 'arson', 'sleet', 'couch', 'bowel', 'evoke', 'lance', 'idiot', 'built', 'award', 'annul', 'frown', 'laden', 'elite', 'edify', 'reset', 'gusto', 'vapor', 'write', 'loath', 'slide', 'venom', 'sorry', 'acorn', 'pushy', 'hater', 'awoke', 'swift', 'birch', 'freer', 'ghost', 'lunar', 'snare', 'house', 'nicer', 'exalt', 'savvy', 'tunic', 'inlay', 'lanky', 'eater', 'cycle', 'kitty', 'moron', 'place', 'plush', 'index', 'clung', 'croup', 'juicy', 'decay', 'flier', 'crook', 'china', 'vowel', 'snuck', 'spiny', 'snail', 'rabid', 'thank', 'budge', 'moldy', 'kneel', 'caddy', 'dumpy', 'swore', 'scuba', 'flyer', 'mason', 'ozone', 'molar', 'beset', 'cliff', 'truce', 'fritz', 'twirl', 'llama', 'range', 'hovel', 'macaw', 'spout', 'sushi', 'fetid', 'buddy', 'scion', 'chord', 'march', 'arbor', 'musky', 'dally', 'bravo', 'title', 'kiosk', 'ennui', 'fluid', 'score', 'zebra', 'matey', 'aider', 'river', 'betel', 'bongo', 'azure', 'genie', 'glove', 'scope', 'rover', 'ocean', 'irate', 'woken', 'wreck', 'slate', 'solid', 'hazel', 'jolly', 'flint', 'civil', 'relax', 'alive', 'jetty', 'vocal', 'dolly', 'joker', 'event', 'shunt', 'poser', 'sweep', 'creed', 'leafy', 'dunce', 'pudgy', 'choir', 'spoke', 'delay', 'ideal', 'seize', 'hotly', 'sieve', 'meant', 'noose', 'shied', 'daisy', 'putty', 'burnt', 'crick', 'vixen', 'geeky', 'naive', 'stork', 'aunty', 'prime', 'outer', 'razor', 'evict', 'demur', 'haven', 'swear', 'dough', 'wagon', 'nudge', 'pitch', 'pupil', 'stony', 'unzip', 'trout', 'earth', 'until', 'enter', 'adopt', 'fatty', 'brave', 'slime', 'tread', 'regal', 'every', 'share', 'hoist', 'inner', 'dimly', 'sumac', 'stilt', 'sheet', 'fancy', 'pearl', 'porch', 'sepia', 'shady', 'friar', 'dairy', 'cross', 'tuber', 'posit', 'villa', 'piggy', 'which', 'fecal', 'would', 'large', 'agony', 'bushy', 'swoon', 'pouch', 'plane', 'urban', 'relay', 'viola', 'straw', 'crash', 'third', 'tutor', 'blurb', 'disco', 'sassy', 'sauna', 'clued', 'caste', 'snuff', 'gonad', 'prong', 'steel', 'buyer', 'utile', 'adage', 'tasty', 'trade', 'ashen', 'gaunt', 'enact', 'roast', 'sheik', 'grunt', 'party', 'mafia', 'array', 'vapid', 'skulk', 'tubal', 'crest', 'cyber', 'tardy', 'notch', 'roach', 'young', 'ready', 'strap', 'realm', 'swarm', 'seven', 'diary', 'drank', 'heady', 'junto', 'quoth', 'shalt', 'amend', 'build', 'shelf', 'suing', 'coral', 'worth', 'infer', 'mayor', 'glide', 'poise', 'chuck', 'fishy', 'ether', 'idler', 'stint', 'begat', 'slang', 'radar', 'aware', 'shift', 'bylaw', 'three', 'iliac', 'blunt', 'penal', 'bunny', 'beget', 'adept', 'stole', 'chore', 'afoot', 'bully', 'caper', 'boxer', 'lunge', 'avail', 'slurp', 'flirt', 'conch', 'droop', 'bible', 'afoul', 'steep', 'stake', 'knave', 'arose', 'smash', 'glare', 'baggy', 'swamp', 'rugby', 'quack', 'snaky', 'mange', 'ninth', 'tramp', 'medal', 'rebel', 'learn', 'maple', 'remit', 'ester', 'mogul', 'cause', 'aglow', 'gaffe', 'racer', 'thief', 'poesy', 'tweet', 'spire', 'havoc', 'truly', 'forty', 'uncle', 'giver', 'bevel', 'draft', 'annoy', 'bleak', 'curly', 'dirge', 'horde', 'shuck', 'crypt', 'stock', 'locus', 'breed', 'chafe', 'blimp', 'fiend', 'cheap', 'rigid', 'renal', 'rowdy', 'blaze', 'posse', 'never', 'mouse', 'sulky', 'media', 'yeast', 'skunk', 'bitty', 'koala', 'segue', 'super', 'after', 'ember', 'nobly', 'empty', 'gipsy', 'smock', 'merge', 'kappa', 'shaky', 'carol', 'synod', 'haunt', 'chair', 'shrew', 'plied', 'burly', 'waxen', 'jerky', 'beefy', 'hussy', 'quilt', 'bingo', 'brash', 'toast', 'saucy', 'spice', 'route', 'bawdy', 'skull', 'issue', 'swell', 'gassy', 'flora', 'latch', 'brick', 'retry', 'decal', 'shack', 'mover', 'sober', 'crier', 'nomad', 'hippo', 'drier', 'bugle', 'chalk', 'ruddy', 'scarf', 'bleat', 'slush', 'windy', 'sally', 'nerdy', 'shone', 'hymen', 'fugue', 'crumb', 'welsh', 'terse', 'gamut', 'drake', 'afire', 'grout', 'tithe', 'dummy', 'blind', 'enemy', 'tying', 'alter', 'noble', 'bride', 'decor', 'beast', 'utter', 'sixth', 'erase', 'spunk', 'scaly', 'hefty', 'sooty', 'whiny', 'quake', 'swept', 'heavy', 'femme', 'maize', 'screw', 'smoky', 'scent', 'spent', 'stoke', 'orbit', 'guilt', 'shush', 'smirk', 'noisy', 'shiny', 'resin', 'hunch', 'polar', 'sword', 'mango', 'puffy', 'billy', 'clout', 'ovate', 'chili', 'liner', 'salty', 'snake', 'cloak', 'spurt', 'balmy', 'unwed', 'churn', 'stump', 'witty', 'spoof', 'blend', 'thick', 'manic', 'squib', 'probe', 'knack', 'debut', 'haste', 'agent', 'icily', 'ingot', 'juror', 'abode', 'unity', 'slept', 'spare', 'parse', 'cacti', 'spool', 'moody', 'begin', 'patch', 'lumpy', 'omega', 'tabby', 'aisle', 'basis', 'verge', 'crawl', 'slain', 'raise', 'guide', 'cameo', 'actor', 'fraud', 'scoop', 'refer', 'clerk', 'tally', 'cairn', 'ghoul', 'crude', 'scale', 'plain', 'briny', 'rerun', 'crisp', 'befit', 'suite', 'itchy', 'bagel', 'broad', 'chard', 'leant', 'curse', 'swing', 'taste', 'gumbo', 'green', 'lipid', 'armor', 'crane', 'abled', 'bossy', 'dusky', 'lithe', 'jazzy', 'fifty', 'giant', 'legal', 'flunk', 'prune', 'slant', 'torus', 'covey', 'taken', 'vogue', 'token', 'entry', 'voter', 'elfin', 'neigh', 'melon', 'decoy', 'ankle', 'mushy', 'cease', 'birth', 'odder', 'weird', 'clack', 'rough', 'uncut', 'strip', 'minus', 'titan', 'vicar', 'ditch', 'pasta', 'flame', 'aloof', 'broke', 'chart', 'wordy', 'leper', 'bulge', 'clamp', 'foamy', 'brand', 'dingy', 'drill', 'bicep', 'krill', 'drama', 'think', 'cobra', 'scrum', 'phone', 'camel', 'heard', 'petal', 'pouty', 'maybe', 'sprig', 'shout', 'macro', 'satyr', 'binge', 'nutty', 'amiss', 'myrrh', 'sonar', 'baron', 'waver', 'belie', 'expel', 'baler', 'north', 'scant', 'awash', 'scowl', 'drift', 'fence', 'ounce', 'revel', 'prior', 'cello', 'debug', 'crime', 'scout', 'pinky', 'vague', 'fight', 'stone', 'cleft', 'prawn', 'booty', 'apnea', 'plaza', 'tweak', 'grant', 'bacon', 'brawl', 'raspy', 'drone', 'mucus', 'toddy', 'tumor', 'wrath', 'steam', 'purer', 'trail', 'mealy', 'nylon', 'merry', 'papal', 'berry', 'erect', 'leggy', 'sinew', 'penny', 'rally', 'scary', 'gross', 'greed', 'tonic', 'sniff', 'stark', 'giddy', 'taboo', 'quote', 'liken', 'gayer', 'noise', 'dealt', 'rumor', 'thigh', 'flare', 'white', 'etude', 'circa', 'inbox', 'grain', 'surge', 'belle', 'crush', 'sappy', 'tract', 'spiky', 'reedy', 'spasm', 'mambo', 'clank', 'lumen', 'spook', 'amber', 'carat', 'dirty', 'affix', 'taint', 'kinky', 'mauve', 'yacht', 'quail', 'grimy', 'cagey', 'deuce', 'grasp', 'bison', 'sandy', 'flask', 'girly', 'boney', 'endow', 'welch', 'tight', 'miser', 'cloud', 'leech', 'tenth', 'droit', 'clone', 'ralph', 'biddy', 'mower', 'serif', 'fifth', 'glaze', 'truck', 'virus', 'tepee', 'zonal', 'curry', 'banjo', 'bezel', 'chain', 'gooey', 'brace', 'pubic', 'plead', 'flaky', 'dully', 'thing', 'hurry', 'shorn', 'ranch', 'lemon', 'mamma', 'newer', 'moose', 'drown', 'chess', 'union', 'lorry', 'cabby', 'exact', 'dopey', 'cried', 'crony', 'timid', 'gauge', 'crack', 'latte', 'bunch', 'anvil', 'meter', 'madly', 'scene', 'magma', 'woman', 'punch', 'downy', 'whirl', 'clang', 'drive', 'email', 'stuff', 'rider', 'folio', 'verso', 'fauna', 'happy', 'fussy', 'guava', 'fudge', 'chirp', 'alibi', 'petty', 'plait', 'felon', 'brown', 'ficus', 'decry', 'junta', 'daunt', 'impel', 'press', 'turbo', 'speak', 'eying', 'crone', 'mossy', 'hence', 'teddy', 'snore', 'snowy', 'going', 'mouth', 'clump', 'bigot', 'piece', 'haute', 'undid', 'basal', 'gecko', 'guard', 'loamy', 'scram', 'hello', 'organ', 'knock', 'condo', 'willy', 'rayon', 'faith', 'match', 'tepid', 'riser', 'peace', 'catty', 'eject', 'rival', 'refit', 'adult', 'rower', 'rural']\n"
     ]
    }
   ],
   "source": [
    "def wordle_v1():\n",
    "    \"\"\"Simple wordle solver\"\"\"\n",
    "    words = [\"cigar\",\"rebut\",\"sissy\",\"humph\",\"awake\",\"blush\",\"focal\",\"evade\",\"naval\",\"serve\",\"heath\",\"dwarf\",\"model\",\"karma\",\"stink\",\"grade\",\"quiet\",\"bench\",\"abate\",\"feign\",\"major\",\"death\",\"fresh\",\"crust\",\"stool\",\"colon\",\"abase\",\"marry\",\"react\",\"batty\",\"pride\",\"floss\",\"helix\",\"croak\",\"staff\",\"paper\",\"unfed\",\"whelp\",\"trawl\",\"outdo\",\"adobe\",\"crazy\",\"sower\",\"repay\",\"digit\",\"crate\",\"cluck\",\"spike\",\"mimic\",\"pound\",\"maxim\",\"linen\",\"unmet\",\"flesh\",\"booby\",\"forth\",\"first\",\"stand\",\"belly\",\"ivory\",\"seedy\",\"print\",\"yearn\",\"drain\",\"bribe\",\"stout\",\"panel\",\"crass\",\"flume\",\"offal\",\"agree\",\"error\",\"swirl\",\"argue\",\"bleed\",\"delta\",\"flick\",\"totem\",\"wooer\",\"front\",\"shrub\",\"parry\",\"biome\",\"lapel\",\"start\",\"greet\",\"goner\",\"golem\",\"lusty\",\"loopy\",\"round\",\"audit\",\"lying\",\"gamma\",\"labor\",\"islet\",\"civic\",\"forge\",\"corny\",\"moult\",\"basic\",\"salad\",\"agate\",\"spicy\",\"spray\",\"essay\",\"fjord\",\"spend\",\"kebab\",\"guild\",\"aback\",\"motor\",\"alone\",\"hatch\",\"hyper\",\"thumb\",\"dowry\",\"ought\",\"belch\",\"dutch\",\"pilot\",\"tweed\",\"comet\",\"jaunt\",\"enema\",\"steed\",\"abyss\",\"growl\",\"fling\",\"dozen\",\"boozy\",\"erode\",\"world\",\"gouge\",\"click\",\"briar\",\"great\",\"altar\",\"pulpy\",\"blurt\",\"coast\",\"duchy\",\"groin\",\"fixer\",\"group\",\"rogue\",\"badly\",\"smart\",\"pithy\",\"gaudy\",\"chill\",\"heron\",\"vodka\",\"finer\",\"surer\",\"radio\",\"rouge\",\"perch\",\"retch\",\"wrote\",\"clock\",\"tilde\",\"store\",\"prove\",\"bring\",\"solve\",\"cheat\",\"grime\",\"exult\",\"usher\",\"epoch\",\"triad\",\"break\",\"rhino\",\"viral\",\"conic\",\"masse\",\"sonic\",\"vital\",\"trace\",\"using\",\"peach\",\"champ\",\"baton\",\"brake\",\"pluck\",\"craze\",\"gripe\",\"weary\",\"picky\",\"acute\",\"ferry\",\"aside\",\"tapir\",\"troll\",\"unify\",\"rebus\",\"boost\",\"truss\",\"siege\",\"tiger\",\"banal\",\"slump\",\"crank\",\"gorge\",\"query\",\"drink\",\"favor\",\"abbey\",\"tangy\",\"panic\",\"solar\",\"shire\",\"proxy\",\"point\",\"robot\",\"prick\",\"wince\",\"crimp\",\"knoll\",\"sugar\",\"whack\",\"mount\",\"perky\",\"could\",\"wrung\",\"light\",\"those\",\"moist\",\"shard\",\"pleat\",\"aloft\",\"skill\",\"elder\",\"frame\",\"humor\",\"pause\",\"ulcer\",\"ultra\",\"robin\",\"cynic\",\"aroma\",\"caulk\",\"shake\",\"dodge\",\"swill\",\"tacit\",\"other\",\"thorn\",\"trove\",\"bloke\",\"vivid\",\"spill\",\"chant\",\"choke\",\"rupee\",\"nasty\",\"mourn\",\"ahead\",\"brine\",\"cloth\",\"hoard\",\"sweet\",\"month\",\"lapse\",\"watch\",\"today\",\"focus\",\"smelt\",\"tease\",\"cater\",\"movie\",\"saute\",\"allow\",\"renew\",\"their\",\"slosh\",\"purge\",\"chest\",\"depot\",\"epoxy\",\"nymph\",\"found\",\"shall\",\"harry\",\"stove\",\"lowly\",\"snout\",\"trope\",\"fewer\",\"shawl\",\"natal\",\"comma\",\"foray\",\"scare\",\"stair\",\"black\",\"squad\",\"royal\",\"chunk\",\"mince\",\"shame\",\"cheek\",\"ample\",\"flair\",\"foyer\",\"cargo\",\"oxide\",\"plant\",\"olive\",\"inert\",\"askew\",\"heist\",\"shown\",\"zesty\",\"hasty\",\"trash\",\"fella\",\"larva\",\"forgo\",\"story\",\"hairy\",\"train\",\"homer\",\"badge\",\"midst\",\"canny\",\"fetus\",\"butch\",\"farce\",\"slung\",\"tipsy\",\"metal\",\"yield\",\"delve\",\"being\",\"scour\",\"glass\",\"gamer\",\"scrap\",\"money\",\"hinge\",\"album\",\"vouch\",\"asset\",\"tiara\",\"crept\",\"bayou\",\"atoll\",\"manor\",\"creak\",\"showy\",\"phase\",\"froth\",\"depth\",\"gloom\",\"flood\",\"trait\",\"girth\",\"piety\",\"payer\",\"goose\",\"float\",\"donor\",\"atone\",\"primo\",\"apron\",\"blown\",\"cacao\",\"loser\",\"input\",\"gloat\",\"awful\",\"brink\",\"smite\",\"beady\",\"rusty\",\"retro\",\"droll\",\"gawky\",\"hutch\",\"pinto\",\"gaily\",\"egret\",\"lilac\",\"sever\",\"field\",\"fluff\",\"hydro\",\"flack\",\"agape\",\"voice\",\"stead\",\"stalk\",\"berth\",\"madam\",\"night\",\"bland\",\"liver\",\"wedge\",\"augur\",\"roomy\",\"wacky\",\"flock\",\"angry\",\"bobby\",\"trite\",\"aphid\",\"tryst\",\"midge\",\"power\",\"elope\",\"cinch\",\"motto\",\"stomp\",\"upset\",\"bluff\",\"cramp\",\"quart\",\"coyly\",\"youth\",\"rhyme\",\"buggy\",\"alien\",\"smear\",\"unfit\",\"patty\",\"cling\",\"glean\",\"label\",\"hunky\",\"khaki\",\"poker\",\"gruel\",\"twice\",\"twang\",\"shrug\",\"treat\",\"unlit\",\"waste\",\"merit\",\"woven\",\"octal\",\"needy\",\"clown\",\"widow\",\"irony\",\"ruder\",\"gauze\",\"chief\",\"onset\",\"prize\",\"fungi\",\"charm\",\"gully\",\"inter\",\"whoop\",\"taunt\",\"leery\",\"class\",\"theme\",\"lofty\",\"tibia\",\"booze\",\"alpha\",\"thyme\",\"eclat\",\"doubt\",\"parer\",\"chute\",\"stick\",\"trice\",\"alike\",\"sooth\",\"recap\",\"saint\",\"liege\",\"glory\",\"grate\",\"admit\",\"brisk\",\"soggy\",\"usurp\",\"scald\",\"scorn\",\"leave\",\"twine\",\"sting\",\"bough\",\"marsh\",\"sloth\",\"dandy\",\"vigor\",\"howdy\",\"enjoy\",\"valid\",\"ionic\",\"equal\",\"unset\",\"floor\",\"catch\",\"spade\",\"stein\",\"exist\",\"quirk\",\"denim\",\"grove\",\"spiel\",\"mummy\",\"fault\",\"foggy\",\"flout\",\"carry\",\"sneak\",\"libel\",\"waltz\",\"aptly\",\"piney\",\"inept\",\"aloud\",\"photo\",\"dream\",\"stale\",\"vomit\",\"ombre\",\"fanny\",\"unite\",\"snarl\",\"baker\",\"there\",\"glyph\",\"pooch\",\"hippy\",\"spell\",\"folly\",\"louse\",\"gulch\",\"vault\",\"godly\",\"threw\",\"fleet\",\"grave\",\"inane\",\"shock\",\"crave\",\"spite\",\"valve\",\"skimp\",\"claim\",\"rainy\",\"musty\",\"pique\",\"daddy\",\"quasi\",\"arise\",\"aging\",\"valet\",\"opium\",\"avert\",\"stuck\",\"recut\",\"mulch\",\"genre\",\"plume\",\"rifle\",\"count\",\"incur\",\"total\",\"wrest\",\"mocha\",\"deter\",\"study\",\"lover\",\"safer\",\"rivet\",\"funny\",\"smoke\",\"mound\",\"undue\",\"sedan\",\"pagan\",\"swine\",\"guile\",\"gusty\",\"equip\",\"tough\",\"canoe\",\"chaos\",\"covet\",\"human\",\"udder\",\"lunch\",\"blast\",\"stray\",\"manga\",\"melee\",\"lefty\",\"quick\",\"paste\",\"given\",\"octet\",\"risen\",\"groan\",\"leaky\",\"grind\",\"carve\",\"loose\",\"sadly\",\"spilt\",\"apple\",\"slack\",\"honey\",\"final\",\"sheen\",\"eerie\",\"minty\",\"slick\",\"derby\",\"wharf\",\"spelt\",\"coach\",\"erupt\",\"singe\",\"price\",\"spawn\",\"fairy\",\"jiffy\",\"filmy\",\"stack\",\"chose\",\"sleep\",\"ardor\",\"nanny\",\"niece\",\"woozy\",\"handy\",\"grace\",\"ditto\",\"stank\",\"cream\",\"usual\",\"diode\",\"valor\",\"angle\",\"ninja\",\"muddy\",\"chase\",\"reply\",\"prone\",\"spoil\",\"heart\",\"shade\",\"diner\",\"arson\",\"onion\",\"sleet\",\"dowel\",\"couch\",\"palsy\",\"bowel\",\"smile\",\"evoke\",\"creek\",\"lance\",\"eagle\",\"idiot\",\"siren\",\"built\",\"embed\",\"award\",\"dross\",\"annul\",\"goody\",\"frown\",\"patio\",\"laden\",\"humid\",\"elite\",\"lymph\",\"edify\",\"might\",\"reset\",\"visit\",\"gusto\",\"purse\",\"vapor\",\"crock\",\"write\",\"sunny\",\"loath\",\"chaff\",\"slide\",\"queer\",\"venom\",\"stamp\",\"sorry\",\"still\",\"acorn\",\"aping\",\"pushy\",\"tamer\",\"hater\",\"mania\",\"awoke\",\"brawn\",\"swift\",\"exile\",\"birch\",\"lucky\",\"freer\",\"risky\",\"ghost\",\"plier\",\"lunar\",\"winch\",\"snare\",\"nurse\",\"house\",\"borax\",\"nicer\",\"lurch\",\"exalt\",\"about\",\"savvy\",\"toxin\",\"tunic\",\"pried\",\"inlay\",\"chump\",\"lanky\",\"cress\",\"eater\",\"elude\",\"cycle\",\"kitty\",\"boule\",\"moron\",\"tenet\",\"place\",\"lobby\",\"plush\",\"vigil\",\"index\",\"blink\",\"clung\",\"qualm\",\"croup\",\"clink\",\"juicy\",\"stage\",\"decay\",\"nerve\",\"flier\",\"shaft\",\"crook\",\"clean\",\"china\",\"ridge\",\"vowel\",\"gnome\",\"snuck\",\"icing\",\"spiny\",\"rigor\",\"snail\",\"flown\",\"rabid\",\"prose\",\"thank\",\"poppy\",\"budge\",\"fiber\",\"moldy\",\"dowdy\",\"kneel\",\"track\",\"caddy\",\"quell\",\"dumpy\",\"paler\",\"swore\",\"rebar\",\"scuba\",\"splat\",\"flyer\",\"horny\",\"mason\",\"doing\",\"ozone\",\"amply\",\"molar\",\"ovary\",\"beset\",\"queue\",\"cliff\",\"magic\",\"truce\",\"sport\",\"fritz\",\"edict\",\"twirl\",\"verse\",\"llama\",\"eaten\",\"range\",\"whisk\",\"hovel\",\"rehab\",\"macaw\",\"sigma\",\"spout\",\"verve\",\"sushi\",\"dying\",\"fetid\",\"brain\",\"buddy\",\"thump\",\"scion\",\"candy\",\"chord\",\"basin\",\"march\",\"crowd\",\"arbor\",\"gayly\",\"musky\",\"stain\",\"dally\",\"bless\",\"bravo\",\"stung\",\"title\",\"ruler\",\"kiosk\",\"blond\",\"ennui\",\"layer\",\"fluid\",\"tatty\",\"score\",\"cutie\",\"zebra\",\"barge\",\"matey\",\"bluer\",\"aider\",\"shook\",\"river\",\"privy\",\"betel\",\"frisk\",\"bongo\",\"begun\",\"azure\",\"weave\",\"genie\",\"sound\",\"glove\",\"braid\",\"scope\",\"wryly\",\"rover\",\"assay\",\"ocean\",\"bloom\",\"irate\",\"later\",\"woken\",\"silky\",\"wreck\",\"dwelt\",\"slate\",\"smack\",\"solid\",\"amaze\",\"hazel\",\"wrist\",\"jolly\",\"globe\",\"flint\",\"rouse\",\"civil\",\"vista\",\"relax\",\"cover\",\"alive\",\"beech\",\"jetty\",\"bliss\",\"vocal\",\"often\",\"dolly\",\"eight\",\"joker\",\"since\",\"event\",\"ensue\",\"shunt\",\"diver\",\"poser\",\"worst\",\"sweep\",\"alley\",\"creed\",\"anime\",\"leafy\",\"bosom\",\"dunce\",\"stare\",\"pudgy\",\"waive\",\"choir\",\"stood\",\"spoke\",\"outgo\",\"delay\",\"bilge\",\"ideal\",\"clasp\",\"seize\",\"hotly\",\"laugh\",\"sieve\",\"block\",\"meant\",\"grape\",\"noose\",\"hardy\",\"shied\",\"drawl\",\"daisy\",\"putty\",\"strut\",\"burnt\",\"tulip\",\"crick\",\"idyll\",\"vixen\",\"furor\",\"geeky\",\"cough\",\"naive\",\"shoal\",\"stork\",\"bathe\",\"aunty\",\"check\",\"prime\",\"brass\",\"outer\",\"furry\",\"razor\",\"elect\",\"evict\",\"imply\",\"demur\",\"quota\",\"haven\",\"cavil\",\"swear\",\"crump\",\"dough\",\"gavel\",\"wagon\",\"salon\",\"nudge\",\"harem\",\"pitch\",\"sworn\",\"pupil\",\"excel\",\"stony\",\"cabin\",\"unzip\",\"queen\",\"trout\",\"polyp\",\"earth\",\"storm\",\"until\",\"taper\",\"enter\",\"child\",\"adopt\",\"minor\",\"fatty\",\"husky\",\"brave\",\"filet\",\"slime\",\"glint\",\"tread\",\"steal\",\"regal\",\"guest\",\"every\",\"murky\",\"share\",\"spore\",\"hoist\",\"buxom\",\"inner\",\"otter\",\"dimly\",\"level\",\"sumac\",\"donut\",\"stilt\",\"arena\",\"sheet\",\"scrub\",\"fancy\",\"slimy\",\"pearl\",\"silly\",\"porch\",\"dingo\",\"sepia\",\"amble\",\"shady\",\"bread\",\"friar\",\"reign\",\"dairy\",\"quill\",\"cross\",\"brood\",\"tuber\",\"shear\",\"posit\",\"blank\",\"villa\",\"shank\",\"piggy\",\"freak\",\"which\",\"among\",\"fecal\",\"shell\",\"would\",\"algae\",\"large\",\"rabbi\",\"agony\",\"amuse\",\"bushy\",\"copse\",\"swoon\",\"knife\",\"pouch\",\"ascot\",\"plane\",\"crown\",\"urban\",\"snide\",\"relay\",\"abide\",\"viola\",\"rajah\",\"straw\",\"dilly\",\"crash\",\"amass\",\"third\",\"trick\",\"tutor\",\"woody\",\"blurb\",\"grief\",\"disco\",\"where\",\"sassy\",\"beach\",\"sauna\",\"comic\",\"clued\",\"creep\",\"caste\",\"graze\",\"snuff\",\"frock\",\"gonad\",\"drunk\",\"prong\",\"lurid\",\"steel\",\"halve\",\"buyer\",\"vinyl\",\"utile\",\"smell\",\"adage\",\"worry\",\"tasty\",\"local\",\"trade\",\"finch\",\"ashen\",\"modal\",\"gaunt\",\"clove\",\"enact\",\"adorn\",\"roast\",\"speck\",\"sheik\",\"missy\",\"grunt\",\"snoop\",\"party\",\"touch\",\"mafia\",\"emcee\",\"array\",\"south\",\"vapid\",\"jelly\",\"skulk\",\"angst\",\"tubal\",\"lower\",\"crest\",\"sweat\",\"cyber\",\"adore\",\"tardy\",\"swami\",\"notch\",\"groom\",\"roach\",\"hitch\",\"young\",\"align\",\"ready\",\"frond\",\"strap\",\"puree\",\"realm\",\"venue\",\"swarm\",\"offer\",\"seven\",\"dryer\",\"diary\",\"dryly\",\"drank\",\"acrid\",\"heady\",\"theta\",\"junto\",\"pixie\",\"quoth\",\"bonus\",\"shalt\",\"penne\",\"amend\",\"datum\",\"build\",\"piano\",\"shelf\",\"lodge\",\"suing\",\"rearm\",\"coral\",\"ramen\",\"worth\",\"psalm\",\"infer\",\"overt\",\"mayor\",\"ovoid\",\"glide\",\"usage\",\"poise\",\"randy\",\"chuck\",\"prank\",\"fishy\",\"tooth\",\"ether\",\"drove\",\"idler\",\"swath\",\"stint\",\"while\",\"begat\",\"apply\",\"slang\",\"tarot\",\"radar\",\"credo\",\"aware\",\"canon\",\"shift\",\"timer\",\"bylaw\",\"serum\",\"three\",\"steak\",\"iliac\",\"shirk\",\"blunt\",\"puppy\",\"penal\",\"joist\",\"bunny\",\"shape\",\"beget\",\"wheel\",\"adept\",\"stunt\",\"stole\",\"topaz\",\"chore\",\"fluke\",\"afoot\",\"bloat\",\"bully\",\"dense\",\"caper\",\"sneer\",\"boxer\",\"jumbo\",\"lunge\",\"space\",\"avail\",\"short\",\"slurp\",\"loyal\",\"flirt\",\"pizza\",\"conch\",\"tempo\",\"droop\",\"plate\",\"bible\",\"plunk\",\"afoul\",\"savoy\",\"steep\",\"agile\",\"stake\",\"dwell\",\"knave\",\"beard\",\"arose\",\"motif\",\"smash\",\"broil\",\"glare\",\"shove\",\"baggy\",\"mammy\",\"swamp\",\"along\",\"rugby\",\"wager\",\"quack\",\"squat\",\"snaky\",\"debit\",\"mange\",\"skate\",\"ninth\",\"joust\",\"tramp\",\"spurn\",\"medal\",\"micro\",\"rebel\",\"flank\",\"learn\",\"nadir\",\"maple\",\"comfy\",\"remit\",\"gruff\",\"ester\",\"least\",\"mogul\",\"fetch\",\"cause\",\"oaken\",\"aglow\",\"meaty\",\"gaffe\",\"shyly\",\"racer\",\"prowl\",\"thief\",\"stern\",\"poesy\",\"rocky\",\"tweet\",\"waist\",\"spire\",\"grope\",\"havoc\",\"patsy\",\"truly\",\"forty\",\"deity\",\"uncle\",\"swish\",\"giver\",\"preen\",\"bevel\",\"lemur\",\"draft\",\"slope\",\"annoy\",\"lingo\",\"bleak\",\"ditty\",\"curly\",\"cedar\",\"dirge\",\"grown\",\"horde\",\"drool\",\"shuck\",\"crypt\",\"cumin\",\"stock\",\"gravy\",\"locus\",\"wider\",\"breed\",\"quite\",\"chafe\",\"cache\",\"blimp\",\"deign\",\"fiend\",\"logic\",\"cheap\",\"elide\",\"rigid\",\"false\",\"renal\",\"pence\",\"rowdy\",\"shoot\",\"blaze\",\"envoy\",\"posse\",\"brief\",\"never\",\"abort\",\"mouse\",\"mucky\",\"sulky\",\"fiery\",\"media\",\"trunk\",\"yeast\",\"clear\",\"skunk\",\"scalp\",\"bitty\",\"cider\",\"koala\",\"duvet\",\"segue\",\"creme\",\"super\",\"grill\",\"after\",\"owner\",\"ember\",\"reach\",\"nobly\",\"empty\",\"speed\",\"gipsy\",\"recur\",\"smock\",\"dread\",\"merge\",\"burst\",\"kappa\",\"amity\",\"shaky\",\"hover\",\"carol\",\"snort\",\"synod\",\"faint\",\"haunt\",\"flour\",\"chair\",\"detox\",\"shrew\",\"tense\",\"plied\",\"quark\",\"burly\",\"novel\",\"waxen\",\"stoic\",\"jerky\",\"blitz\",\"beefy\",\"lyric\",\"hussy\",\"towel\",\"quilt\",\"below\",\"bingo\",\"wispy\",\"brash\",\"scone\",\"toast\",\"easel\",\"saucy\",\"value\",\"spice\",\"honor\",\"route\",\"sharp\",\"bawdy\",\"radii\",\"skull\",\"phony\",\"issue\",\"lager\",\"swell\",\"urine\",\"gassy\",\"trial\",\"flora\",\"upper\",\"latch\",\"wight\",\"brick\",\"retry\",\"holly\",\"decal\",\"grass\",\"shack\",\"dogma\",\"mover\",\"defer\",\"sober\",\"optic\",\"crier\",\"vying\",\"nomad\",\"flute\",\"hippo\",\"shark\",\"drier\",\"obese\",\"bugle\",\"tawny\",\"chalk\",\"feast\",\"ruddy\",\"pedal\",\"scarf\",\"cruel\",\"bleat\",\"tidal\",\"slush\",\"semen\",\"windy\",\"dusty\",\"sally\",\"igloo\",\"nerdy\",\"jewel\",\"shone\",\"whale\",\"hymen\",\"abuse\",\"fugue\",\"elbow\",\"crumb\",\"pansy\",\"welsh\",\"syrup\",\"terse\",\"suave\",\"gamut\",\"swung\",\"drake\",\"freed\",\"afire\",\"shirt\",\"grout\",\"oddly\",\"tithe\",\"plaid\",\"dummy\",\"broom\",\"blind\",\"torch\",\"enemy\",\"again\",\"tying\",\"pesky\",\"alter\",\"gazer\",\"noble\",\"ethos\",\"bride\",\"extol\",\"decor\",\"hobby\",\"beast\",\"idiom\",\"utter\",\"these\",\"sixth\",\"alarm\",\"erase\",\"elegy\",\"spunk\",\"piper\",\"scaly\",\"scold\",\"hefty\",\"chick\",\"sooty\",\"canal\",\"whiny\",\"slash\",\"quake\",\"joint\",\"swept\",\"prude\",\"heavy\",\"wield\",\"femme\",\"lasso\",\"maize\",\"shale\",\"screw\",\"spree\",\"smoky\",\"whiff\",\"scent\",\"glade\",\"spent\",\"prism\",\"stoke\",\"riper\",\"orbit\",\"cocoa\",\"guilt\",\"humus\",\"shush\",\"table\",\"smirk\",\"wrong\",\"noisy\",\"alert\",\"shiny\",\"elate\",\"resin\",\"whole\",\"hunch\",\"pixel\",\"polar\",\"hotel\",\"sword\",\"cleat\",\"mango\",\"rumba\",\"puffy\",\"filly\",\"billy\",\"leash\",\"clout\",\"dance\",\"ovate\",\"facet\",\"chili\",\"paint\",\"liner\",\"curio\",\"salty\",\"audio\",\"snake\",\"fable\",\"cloak\",\"navel\",\"spurt\",\"pesto\",\"balmy\",\"flash\",\"unwed\",\"early\",\"churn\",\"weedy\",\"stump\",\"lease\",\"witty\",\"wimpy\",\"spoof\",\"saner\",\"blend\",\"salsa\",\"thick\",\"warty\",\"manic\",\"blare\",\"squib\",\"spoon\",\"probe\",\"crepe\",\"knack\",\"force\",\"debut\",\"order\",\"haste\",\"teeth\",\"agent\",\"widen\",\"icily\",\"slice\",\"ingot\",\"clash\",\"juror\",\"blood\",\"abode\",\"throw\",\"unity\",\"pivot\",\"slept\",\"troop\",\"spare\",\"sewer\",\"parse\",\"morph\",\"cacti\",\"tacky\",\"spool\",\"demon\",\"moody\",\"annex\",\"begin\",\"fuzzy\",\"patch\",\"water\",\"lumpy\",\"admin\",\"omega\",\"limit\",\"tabby\",\"macho\",\"aisle\",\"skiff\",\"basis\",\"plank\",\"verge\",\"botch\",\"crawl\",\"lousy\",\"slain\",\"cubic\",\"raise\",\"wrack\",\"guide\",\"foist\",\"cameo\",\"under\",\"actor\",\"revue\",\"fraud\",\"harpy\",\"scoop\",\"climb\",\"refer\",\"olden\",\"clerk\",\"debar\",\"tally\",\"ethic\",\"cairn\",\"tulle\",\"ghoul\",\"hilly\",\"crude\",\"apart\",\"scale\",\"older\",\"plain\",\"sperm\",\"briny\",\"abbot\",\"rerun\",\"quest\",\"crisp\",\"bound\",\"befit\",\"drawn\",\"suite\",\"itchy\",\"cheer\",\"bagel\",\"guess\",\"broad\",\"axiom\",\"chard\",\"caput\",\"leant\",\"harsh\",\"curse\",\"proud\",\"swing\",\"opine\",\"taste\",\"lupus\",\"gumbo\",\"miner\",\"green\",\"chasm\",\"lipid\",\"topic\",\"armor\",\"brush\",\"crane\",\"mural\",\"abled\",\"habit\",\"bossy\",\"maker\",\"dusky\",\"dizzy\",\"lithe\",\"brook\",\"jazzy\",\"fifty\",\"sense\",\"giant\",\"surly\",\"legal\",\"fatal\",\"flunk\",\"began\",\"prune\",\"small\",\"slant\",\"scoff\",\"torus\",\"ninny\",\"covey\",\"viper\",\"taken\",\"moral\",\"vogue\",\"owing\",\"token\",\"entry\",\"booth\",\"voter\",\"chide\",\"elfin\",\"ebony\",\"neigh\",\"minim\",\"melon\",\"kneed\",\"decoy\",\"voila\",\"ankle\",\"arrow\",\"mushy\",\"tribe\",\"cease\",\"eager\",\"birth\",\"graph\",\"odder\",\"terra\",\"weird\",\"tried\",\"clack\",\"color\",\"rough\",\"weigh\",\"uncut\",\"ladle\",\"strip\",\"craft\",\"minus\",\"dicey\",\"titan\",\"lucid\",\"vicar\",\"dress\",\"ditch\",\"gypsy\",\"pasta\",\"taffy\",\"flame\",\"swoop\",\"aloof\",\"sight\",\"broke\",\"teary\",\"chart\",\"sixty\",\"wordy\",\"sheer\",\"leper\",\"nosey\",\"bulge\",\"savor\",\"clamp\",\"funky\",\"foamy\",\"toxic\",\"brand\",\"plumb\",\"dingy\",\"butte\",\"drill\",\"tripe\",\"bicep\",\"tenor\",\"krill\",\"worse\",\"drama\",\"hyena\",\"think\",\"ratio\",\"cobra\",\"basil\",\"scrum\",\"bused\",\"phone\",\"court\",\"camel\",\"proof\",\"heard\",\"angel\",\"petal\",\"pouty\",\"throb\",\"maybe\",\"fetal\",\"sprig\",\"spine\",\"shout\",\"cadet\",\"macro\",\"dodgy\",\"satyr\",\"rarer\",\"binge\",\"trend\",\"nutty\",\"leapt\",\"amiss\",\"split\",\"myrrh\",\"width\",\"sonar\",\"tower\",\"baron\",\"fever\",\"waver\",\"spark\",\"belie\",\"sloop\",\"expel\",\"smote\",\"baler\",\"above\",\"north\",\"wafer\",\"scant\",\"frill\",\"awash\",\"snack\",\"scowl\",\"frail\",\"drift\",\"limbo\",\"fence\",\"motel\",\"ounce\",\"wreak\",\"revel\",\"talon\",\"prior\",\"knelt\",\"cello\",\"flake\",\"debug\",\"anode\",\"crime\",\"salve\",\"scout\",\"imbue\",\"pinky\",\"stave\",\"vague\",\"chock\",\"fight\",\"video\",\"stone\",\"teach\",\"cleft\",\"frost\",\"prawn\",\"booty\",\"twist\",\"apnea\",\"stiff\",\"plaza\",\"ledge\",\"tweak\",\"board\",\"grant\",\"medic\",\"bacon\",\"cable\",\"brawl\",\"slunk\",\"raspy\",\"forum\",\"drone\",\"women\",\"mucus\",\"boast\",\"toddy\",\"coven\",\"tumor\",\"truer\",\"wrath\",\"stall\",\"steam\",\"axial\",\"purer\",\"daily\",\"trail\",\"niche\",\"mealy\",\"juice\",\"nylon\",\"plump\",\"merry\",\"flail\",\"papal\",\"wheat\",\"berry\",\"cower\",\"erect\",\"brute\",\"leggy\",\"snipe\",\"sinew\",\"skier\",\"penny\",\"jumpy\",\"rally\",\"umbra\",\"scary\",\"modem\",\"gross\",\"avian\",\"greed\",\"satin\",\"tonic\",\"parka\",\"sniff\",\"livid\",\"stark\",\"trump\",\"giddy\",\"reuse\",\"taboo\",\"avoid\",\"quote\",\"devil\",\"liken\",\"gloss\",\"gayer\",\"beret\",\"noise\",\"gland\",\"dealt\",\"sling\",\"rumor\",\"opera\",\"thigh\",\"tonga\",\"flare\",\"wound\",\"white\",\"bulky\",\"etude\",\"horse\",\"circa\",\"paddy\",\"inbox\",\"fizzy\",\"grain\",\"exert\",\"surge\",\"gleam\",\"belle\",\"salvo\",\"crush\",\"fruit\",\"sappy\",\"taker\",\"tract\",\"ovine\",\"spiky\",\"frank\",\"reedy\",\"filth\",\"spasm\",\"heave\",\"mambo\",\"right\",\"clank\",\"trust\",\"lumen\",\"borne\",\"spook\",\"sauce\",\"amber\",\"lathe\",\"carat\",\"corer\",\"dirty\",\"slyly\",\"affix\",\"alloy\",\"taint\",\"sheep\",\"kinky\",\"wooly\",\"mauve\",\"flung\",\"yacht\",\"fried\",\"quail\",\"brunt\",\"grimy\",\"curvy\",\"cagey\",\"rinse\",\"deuce\",\"state\",\"grasp\",\"milky\",\"bison\",\"graft\",\"sandy\",\"baste\",\"flask\",\"hedge\",\"girly\",\"swash\",\"boney\",\"coupe\",\"endow\",\"abhor\",\"welch\",\"blade\",\"tight\",\"geese\",\"miser\",\"mirth\",\"cloud\",\"cabal\",\"leech\",\"close\",\"tenth\",\"pecan\",\"droit\",\"grail\",\"clone\",\"guise\",\"ralph\",\"tango\",\"biddy\",\"smith\",\"mower\",\"payee\",\"serif\",\"drape\",\"fifth\",\"spank\",\"glaze\",\"allot\",\"truck\",\"kayak\",\"virus\",\"testy\",\"tepee\",\"fully\",\"zonal\",\"metro\",\"curry\",\"grand\",\"banjo\",\"axion\",\"bezel\",\"occur\",\"chain\",\"nasal\",\"gooey\",\"filer\",\"brace\",\"allay\",\"pubic\",\"raven\",\"plead\",\"gnash\",\"flaky\",\"munch\",\"dully\",\"eking\",\"thing\",\"slink\",\"hurry\",\"theft\",\"shorn\",\"pygmy\",\"ranch\",\"wring\",\"lemon\",\"shore\",\"mamma\",\"froze\",\"newer\",\"style\",\"moose\",\"antic\",\"drown\",\"vegan\",\"chess\",\"guppy\",\"union\",\"lever\",\"lorry\",\"image\",\"cabby\",\"druid\",\"exact\",\"truth\",\"dopey\",\"spear\",\"cried\",\"chime\",\"crony\",\"stunk\",\"timid\",\"batch\",\"gauge\",\"rotor\",\"crack\",\"curve\",\"latte\",\"witch\",\"bunch\",\"repel\",\"anvil\",\"soapy\",\"meter\",\"broth\",\"madly\",\"dried\",\"scene\",\"known\",\"magma\",\"roost\",\"woman\",\"thong\",\"punch\",\"pasty\",\"downy\",\"knead\",\"whirl\",\"rapid\",\"clang\",\"anger\",\"drive\",\"goofy\",\"email\",\"music\",\"stuff\",\"bleep\",\"rider\",\"mecca\",\"folio\",\"setup\",\"verso\",\"quash\",\"fauna\",\"gummy\",\"happy\",\"newly\",\"fussy\",\"relic\",\"guava\",\"ratty\",\"fudge\",\"femur\",\"chirp\",\"forte\",\"alibi\",\"whine\",\"petty\",\"golly\",\"plait\",\"fleck\",\"felon\",\"gourd\",\"brown\",\"thrum\",\"ficus\",\"stash\",\"decry\",\"wiser\",\"junta\",\"visor\",\"daunt\",\"scree\",\"impel\",\"await\",\"press\",\"whose\",\"turbo\",\"stoop\",\"speak\",\"mangy\",\"eying\",\"inlet\",\"crone\",\"pulse\",\"mossy\",\"staid\",\"hence\",\"pinch\",\"teddy\",\"sully\",\"snore\",\"ripen\",\"snowy\",\"attic\",\"going\",\"leach\",\"mouth\",\"hound\",\"clump\",\"tonal\",\"bigot\",\"peril\",\"piece\",\"blame\",\"haute\",\"spied\",\"undid\",\"intro\",\"basal\",\"shine\",\"gecko\",\"rodeo\",\"guard\",\"steer\",\"loamy\",\"scamp\",\"scram\",\"manly\",\"hello\",\"vaunt\",\"organ\",\"feral\",\"knock\",\"extra\",\"condo\",\"adapt\",\"willy\",\"polka\",\"rayon\",\"skirt\",\"faith\",\"torso\",\"match\",\"mercy\",\"tepid\",\"sleek\",\"riser\",\"twixt\",\"peace\",\"flush\",\"catty\",\"login\",\"eject\",\"roger\",\"rival\",\"untie\",\"refit\",\"aorta\",\"adult\",\"judge\",\"rower\",\"artsy\",\"rural\",\"shave\"]\n",
    "    game_over = False\n",
    "    green = {}\n",
    "    while not game_over:\n",
    "        grey = list(input('Grey letters'))\n",
    "        yellow = list(input('Yellow letters'))\n",
    "        length = len(grey)+len(yellow)\n",
    "        # If there is a left over for green\n",
    "        if length <5:\n",
    "            print('a')\n",
    "            green1 = input('green letter position:letter')\n",
    "            green[int(green1[0])] = green1[2:]\n",
    "            if length < 4:\n",
    "                # If there is two spaces for green\n",
    "                green2 = input('green letter position:letter')\n",
    "                green[int(green2[0])] = green2[2:]\n",
    "                if length < 3:\n",
    "                    # If there is three spaces for green\n",
    "                    green3 = input('green letter position:letter')\n",
    "                    green[int(green3[0])] = green3[2:]\n",
    "        for word in words:\n",
    "            remove = False\n",
    "            # IF the letter is in grey set remove to true\n",
    "            for letter in grey:\n",
    "                if letter in word:\n",
    "                    remove = True\n",
    "                    # print(f'grey{word}')\n",
    "                if not remove:\n",
    "                    # for every letter in yellow, If the letter is not in the word remove the word\n",
    "                    for letter in yellow:\n",
    "                        if letter not in word:\n",
    "                            remove = True\n",
    "                    if not remove:\n",
    "                        a = list(green.keys())\n",
    "                        b = list(green.values())\n",
    "                        keep = 0\n",
    "                        # If the word doesn't contain the letter remove\n",
    "                        for letter in green:\n",
    "                            a = list(green.keys())\n",
    "                            if word[letter] == green[letter]:\n",
    "                                keep += 1\n",
    "                            if keep != len(green):\n",
    "                                remove = True\n",
    "            if remove:\n",
    "                words.remove(word)\n",
    "        print(words)\n",
    "        game_over = True\n",
    "wordle_v1()"
   ]
  },
  {
   "cell_type": "code",
   "execution_count": 1,
   "metadata": {
    "pycharm": {
     "name": "#%%\n"
    }
   },
   "outputs": [],
   "source": [
    "words = [\"cigar\",\"rebut\",\"sissy\",\"humph\",\"awake\",\"blush\",\"focal\",\"evade\",\"naval\",\"serve\",\"heath\",\"dwarf\",\"model\",\"karma\",\"stink\",\"grade\",\"quiet\",\"bench\",\"abate\",\"feign\",\"major\",\"death\",\"fresh\",\"crust\",\"stool\",\"colon\",\"abase\",\"marry\",\"react\",\"batty\",\"pride\",\"floss\",\"helix\",\"croak\",\"staff\",\"paper\",\"unfed\",\"whelp\",\"trawl\",\"outdo\",\"adobe\",\"crazy\",\"sower\",\"repay\",\"digit\",\"crate\",\"cluck\",\"spike\",\"mimic\",\"pound\",\"maxim\",\"linen\",\"unmet\",\"flesh\",\"booby\",\"forth\",\"first\",\"stand\",\"belly\",\"ivory\",\"seedy\",\"print\",\"yearn\",\"drain\",\"bribe\",\"stout\",\"panel\",\"crass\",\"flume\",\"offal\",\"agree\",\"error\",\"swirl\",\"argue\",\"bleed\",\"delta\",\"flick\",\"totem\",\"wooer\",\"front\",\"shrub\",\"parry\",\"biome\",\"lapel\",\"start\",\"greet\",\"goner\",\"golem\",\"lusty\",\"loopy\",\"round\",\"audit\",\"lying\",\"gamma\",\"labor\",\"islet\",\"civic\",\"forge\",\"corny\",\"moult\",\"basic\",\"salad\",\"agate\",\"spicy\",\"spray\",\"essay\",\"fjord\",\"spend\",\"kebab\",\"guild\",\"aback\",\"motor\",\"alone\",\"hatch\",\"hyper\",\"thumb\",\"dowry\",\"ought\",\"belch\",\"dutch\",\"pilot\",\"tweed\",\"comet\",\"jaunt\",\"enema\",\"steed\",\"abyss\",\"growl\",\"fling\",\"dozen\",\"boozy\",\"erode\",\"world\",\"gouge\",\"click\",\"briar\",\"great\",\"altar\",\"pulpy\",\"blurt\",\"coast\",\"duchy\",\"groin\",\"fixer\",\"group\",\"rogue\",\"badly\",\"smart\",\"pithy\",\"gaudy\",\"chill\",\"heron\",\"vodka\",\"finer\",\"surer\",\"radio\",\"rouge\",\"perch\",\"retch\",\"wrote\",\"clock\",\"tilde\",\"store\",\"prove\",\"bring\",\"solve\",\"cheat\",\"grime\",\"exult\",\"usher\",\"epoch\",\"triad\",\"break\",\"rhino\",\"viral\",\"conic\",\"masse\",\"sonic\",\"vital\",\"trace\",\"using\",\"peach\",\"champ\",\"baton\",\"brake\",\"pluck\",\"craze\",\"gripe\",\"weary\",\"picky\",\"acute\",\"ferry\",\"aside\",\"tapir\",\"troll\",\"unify\",\"rebus\",\"boost\",\"truss\",\"siege\",\"tiger\",\"banal\",\"slump\",\"crank\",\"gorge\",\"query\",\"drink\",\"favor\",\"abbey\",\"tangy\",\"panic\",\"solar\",\"shire\",\"proxy\",\"point\",\"robot\",\"prick\",\"wince\",\"crimp\",\"knoll\",\"sugar\",\"whack\",\"mount\",\"perky\",\"could\",\"wrung\",\"light\",\"those\",\"moist\",\"shard\",\"pleat\",\"aloft\",\"skill\",\"elder\",\"frame\",\"humor\",\"pause\",\"ulcer\",\"ultra\",\"robin\",\"cynic\",\"aroma\",\"caulk\",\"shake\",\"dodge\",\"swill\",\"tacit\",\"other\",\"thorn\",\"trove\",\"bloke\",\"vivid\",\"spill\",\"chant\",\"choke\",\"rupee\",\"nasty\",\"mourn\",\"ahead\",\"brine\",\"cloth\",\"hoard\",\"sweet\",\"month\",\"lapse\",\"watch\",\"today\",\"focus\",\"smelt\",\"tease\",\"cater\",\"movie\",\"saute\",\"allow\",\"renew\",\"their\",\"slosh\",\"purge\",\"chest\",\"depot\",\"epoxy\",\"nymph\",\"found\",\"shall\",\"harry\",\"stove\",\"lowly\",\"snout\",\"trope\",\"fewer\",\"shawl\",\"natal\",\"comma\",\"foray\",\"scare\",\"stair\",\"black\",\"squad\",\"royal\",\"chunk\",\"mince\",\"shame\",\"cheek\",\"ample\",\"flair\",\"foyer\",\"cargo\",\"oxide\",\"plant\",\"olive\",\"inert\",\"askew\",\"heist\",\"shown\",\"zesty\",\"hasty\",\"trash\",\"fella\",\"larva\",\"forgo\",\"story\",\"hairy\",\"train\",\"homer\",\"badge\",\"midst\",\"canny\",\"fetus\",\"butch\",\"farce\",\"slung\",\"tipsy\",\"metal\",\"yield\",\"delve\",\"being\",\"scour\",\"glass\",\"gamer\",\"scrap\",\"money\",\"hinge\",\"album\",\"vouch\",\"asset\",\"tiara\",\"crept\",\"bayou\",\"atoll\",\"manor\",\"creak\",\"showy\",\"phase\",\"froth\",\"depth\",\"gloom\",\"flood\",\"trait\",\"girth\",\"piety\",\"payer\",\"goose\",\"float\",\"donor\",\"atone\",\"primo\",\"apron\",\"blown\",\"cacao\",\"loser\",\"input\",\"gloat\",\"awful\",\"brink\",\"smite\",\"beady\",\"rusty\",\"retro\",\"droll\",\"gawky\",\"hutch\",\"pinto\",\"gaily\",\"egret\",\"lilac\",\"sever\",\"field\",\"fluff\",\"hydro\",\"flack\",\"agape\",\"voice\",\"stead\",\"stalk\",\"berth\",\"madam\",\"night\",\"bland\",\"liver\",\"wedge\",\"augur\",\"roomy\",\"wacky\",\"flock\",\"angry\",\"bobby\",\"trite\",\"aphid\",\"tryst\",\"midge\",\"power\",\"elope\",\"cinch\",\"motto\",\"stomp\",\"upset\",\"bluff\",\"cramp\",\"quart\",\"coyly\",\"youth\",\"rhyme\",\"buggy\",\"alien\",\"smear\",\"unfit\",\"patty\",\"cling\",\"glean\",\"label\",\"hunky\",\"khaki\",\"poker\",\"gruel\",\"twice\",\"twang\",\"shrug\",\"treat\",\"unlit\",\"waste\",\"merit\",\"woven\",\"octal\",\"needy\",\"clown\",\"widow\",\"irony\",\"ruder\",\"gauze\",\"chief\",\"onset\",\"prize\",\"fungi\",\"charm\",\"gully\",\"inter\",\"whoop\",\"taunt\",\"leery\",\"class\",\"theme\",\"lofty\",\"tibia\",\"booze\",\"alpha\",\"thyme\",\"eclat\",\"doubt\",\"parer\",\"chute\",\"stick\",\"trice\",\"alike\",\"sooth\",\"recap\",\"saint\",\"liege\",\"glory\",\"grate\",\"admit\",\"brisk\",\"soggy\",\"usurp\",\"scald\",\"scorn\",\"leave\",\"twine\",\"sting\",\"bough\",\"marsh\",\"sloth\",\"dandy\",\"vigor\",\"howdy\",\"enjoy\",\"valid\",\"ionic\",\"equal\",\"unset\",\"floor\",\"catch\",\"spade\",\"stein\",\"exist\",\"quirk\",\"denim\",\"grove\",\"spiel\",\"mummy\",\"fault\",\"foggy\",\"flout\",\"carry\",\"sneak\",\"libel\",\"waltz\",\"aptly\",\"piney\",\"inept\",\"aloud\",\"photo\",\"dream\",\"stale\",\"vomit\",\"ombre\",\"fanny\",\"unite\",\"snarl\",\"baker\",\"there\",\"glyph\",\"pooch\",\"hippy\",\"spell\",\"folly\",\"louse\",\"gulch\",\"vault\",\"godly\",\"threw\",\"fleet\",\"grave\",\"inane\",\"shock\",\"crave\",\"spite\",\"valve\",\"skimp\",\"claim\",\"rainy\",\"musty\",\"pique\",\"daddy\",\"quasi\",\"arise\",\"aging\",\"valet\",\"opium\",\"avert\",\"stuck\",\"recut\",\"mulch\",\"genre\",\"plume\",\"rifle\",\"count\",\"incur\",\"total\",\"wrest\",\"mocha\",\"deter\",\"study\",\"lover\",\"safer\",\"rivet\",\"funny\",\"smoke\",\"mound\",\"undue\",\"sedan\",\"pagan\",\"swine\",\"guile\",\"gusty\",\"equip\",\"tough\",\"canoe\",\"chaos\",\"covet\",\"human\",\"udder\",\"lunch\",\"blast\",\"stray\",\"manga\",\"melee\",\"lefty\",\"quick\",\"paste\",\"given\",\"octet\",\"risen\",\"groan\",\"leaky\",\"grind\",\"carve\",\"loose\",\"sadly\",\"spilt\",\"apple\",\"slack\",\"honey\",\"final\",\"sheen\",\"eerie\",\"minty\",\"slick\",\"derby\",\"wharf\",\"spelt\",\"coach\",\"erupt\",\"singe\",\"price\",\"spawn\",\"fairy\",\"jiffy\",\"filmy\",\"stack\",\"chose\",\"sleep\",\"ardor\",\"nanny\",\"niece\",\"woozy\",\"handy\",\"grace\",\"ditto\",\"stank\",\"cream\",\"usual\",\"diode\",\"valor\",\"angle\",\"ninja\",\"muddy\",\"chase\",\"reply\",\"prone\",\"spoil\",\"heart\",\"shade\",\"diner\",\"arson\",\"onion\",\"sleet\",\"dowel\",\"couch\",\"palsy\",\"bowel\",\"smile\",\"evoke\",\"creek\",\"lance\",\"eagle\",\"idiot\",\"siren\",\"built\",\"embed\",\"award\",\"dross\",\"annul\",\"goody\",\"frown\",\"patio\",\"laden\",\"humid\",\"elite\",\"lymph\",\"edify\",\"might\",\"reset\",\"visit\",\"gusto\",\"purse\",\"vapor\",\"crock\",\"write\",\"sunny\",\"loath\",\"chaff\",\"slide\",\"queer\",\"venom\",\"stamp\",\"sorry\",\"still\",\"acorn\",\"aping\",\"pushy\",\"tamer\",\"hater\",\"mania\",\"awoke\",\"brawn\",\"swift\",\"exile\",\"birch\",\"lucky\",\"freer\",\"risky\",\"ghost\",\"plier\",\"lunar\",\"winch\",\"snare\",\"nurse\",\"house\",\"borax\",\"nicer\",\"lurch\",\"exalt\",\"about\",\"savvy\",\"toxin\",\"tunic\",\"pried\",\"inlay\",\"chump\",\"lanky\",\"cress\",\"eater\",\"elude\",\"cycle\",\"kitty\",\"boule\",\"moron\",\"tenet\",\"place\",\"lobby\",\"plush\",\"vigil\",\"index\",\"blink\",\"clung\",\"qualm\",\"croup\",\"clink\",\"juicy\",\"stage\",\"decay\",\"nerve\",\"flier\",\"shaft\",\"crook\",\"clean\",\"china\",\"ridge\",\"vowel\",\"gnome\",\"snuck\",\"icing\",\"spiny\",\"rigor\",\"snail\",\"flown\",\"rabid\",\"prose\",\"thank\",\"poppy\",\"budge\",\"fiber\",\"moldy\",\"dowdy\",\"kneel\",\"track\",\"caddy\",\"quell\",\"dumpy\",\"paler\",\"swore\",\"rebar\",\"scuba\",\"splat\",\"flyer\",\"horny\",\"mason\",\"doing\",\"ozone\",\"amply\",\"molar\",\"ovary\",\"beset\",\"queue\",\"cliff\",\"magic\",\"truce\",\"sport\",\"fritz\",\"edict\",\"twirl\",\"verse\",\"llama\",\"eaten\",\"range\",\"whisk\",\"hovel\",\"rehab\",\"macaw\",\"sigma\",\"spout\",\"verve\",\"sushi\",\"dying\",\"fetid\",\"brain\",\"buddy\",\"thump\",\"scion\",\"candy\",\"chord\",\"basin\",\"march\",\"crowd\",\"arbor\",\"gayly\",\"musky\",\"stain\",\"dally\",\"bless\",\"bravo\",\"stung\",\"title\",\"ruler\",\"kiosk\",\"blond\",\"ennui\",\"layer\",\"fluid\",\"tatty\",\"score\",\"cutie\",\"zebra\",\"barge\",\"matey\",\"bluer\",\"aider\",\"shook\",\"river\",\"privy\",\"betel\",\"frisk\",\"bongo\",\"begun\",\"azure\",\"weave\",\"genie\",\"sound\",\"glove\",\"braid\",\"scope\",\"wryly\",\"rover\",\"assay\",\"ocean\",\"bloom\",\"irate\",\"later\",\"woken\",\"silky\",\"wreck\",\"dwelt\",\"slate\",\"smack\",\"solid\",\"amaze\",\"hazel\",\"wrist\",\"jolly\",\"globe\",\"flint\",\"rouse\",\"civil\",\"vista\",\"relax\",\"cover\",\"alive\",\"beech\",\"jetty\",\"bliss\",\"vocal\",\"often\",\"dolly\",\"eight\",\"joker\",\"since\",\"event\",\"ensue\",\"shunt\",\"diver\",\"poser\",\"worst\",\"sweep\",\"alley\",\"creed\",\"anime\",\"leafy\",\"bosom\",\"dunce\",\"stare\",\"pudgy\",\"waive\",\"choir\",\"stood\",\"spoke\",\"outgo\",\"delay\",\"bilge\",\"ideal\",\"clasp\",\"seize\",\"hotly\",\"laugh\",\"sieve\",\"block\",\"meant\",\"grape\",\"noose\",\"hardy\",\"shied\",\"drawl\",\"daisy\",\"putty\",\"strut\",\"burnt\",\"tulip\",\"crick\",\"idyll\",\"vixen\",\"furor\",\"geeky\",\"cough\",\"naive\",\"shoal\",\"stork\",\"bathe\",\"aunty\",\"check\",\"prime\",\"brass\",\"outer\",\"furry\",\"razor\",\"elect\",\"evict\",\"imply\",\"demur\",\"quota\",\"haven\",\"cavil\",\"swear\",\"crump\",\"dough\",\"gavel\",\"wagon\",\"salon\",\"nudge\",\"harem\",\"pitch\",\"sworn\",\"pupil\",\"excel\",\"stony\",\"cabin\",\"unzip\",\"queen\",\"trout\",\"polyp\",\"earth\",\"storm\",\"until\",\"taper\",\"enter\",\"child\",\"adopt\",\"minor\",\"fatty\",\"husky\",\"brave\",\"filet\",\"slime\",\"glint\",\"tread\",\"steal\",\"regal\",\"guest\",\"every\",\"murky\",\"share\",\"spore\",\"hoist\",\"buxom\",\"inner\",\"otter\",\"dimly\",\"level\",\"sumac\",\"donut\",\"stilt\",\"arena\",\"sheet\",\"scrub\",\"fancy\",\"slimy\",\"pearl\",\"silly\",\"porch\",\"dingo\",\"sepia\",\"amble\",\"shady\",\"bread\",\"friar\",\"reign\",\"dairy\",\"quill\",\"cross\",\"brood\",\"tuber\",\"shear\",\"posit\",\"blank\",\"villa\",\"shank\",\"piggy\",\"freak\",\"which\",\"among\",\"fecal\",\"shell\",\"would\",\"algae\",\"large\",\"rabbi\",\"agony\",\"amuse\",\"bushy\",\"copse\",\"swoon\",\"knife\",\"pouch\",\"ascot\",\"plane\",\"crown\",\"urban\",\"snide\",\"relay\",\"abide\",\"viola\",\"rajah\",\"straw\",\"dilly\",\"crash\",\"amass\",\"third\",\"trick\",\"tutor\",\"woody\",\"blurb\",\"grief\",\"disco\",\"where\",\"sassy\",\"beach\",\"sauna\",\"comic\",\"clued\",\"creep\",\"caste\",\"graze\",\"snuff\",\"frock\",\"gonad\",\"drunk\",\"prong\",\"lurid\",\"steel\",\"halve\",\"buyer\",\"vinyl\",\"utile\",\"smell\",\"adage\",\"worry\",\"tasty\",\"local\",\"trade\",\"finch\",\"ashen\",\"modal\",\"gaunt\",\"clove\",\"enact\",\"adorn\",\"roast\",\"speck\",\"sheik\",\"missy\",\"grunt\",\"snoop\",\"party\",\"touch\",\"mafia\",\"emcee\",\"array\",\"south\",\"vapid\",\"jelly\",\"skulk\",\"angst\",\"tubal\",\"lower\",\"crest\",\"sweat\",\"cyber\",\"adore\",\"tardy\",\"swami\",\"notch\",\"groom\",\"roach\",\"hitch\",\"young\",\"align\",\"ready\",\"frond\",\"strap\",\"puree\",\"realm\",\"venue\",\"swarm\",\"offer\",\"seven\",\"dryer\",\"diary\",\"dryly\",\"drank\",\"acrid\",\"heady\",\"theta\",\"junto\",\"pixie\",\"quoth\",\"bonus\",\"shalt\",\"penne\",\"amend\",\"datum\",\"build\",\"piano\",\"shelf\",\"lodge\",\"suing\",\"rearm\",\"coral\",\"ramen\",\"worth\",\"psalm\",\"infer\",\"overt\",\"mayor\",\"ovoid\",\"glide\",\"usage\",\"poise\",\"randy\",\"chuck\",\"prank\",\"fishy\",\"tooth\",\"ether\",\"drove\",\"idler\",\"swath\",\"stint\",\"while\",\"begat\",\"apply\",\"slang\",\"tarot\",\"radar\",\"credo\",\"aware\",\"canon\",\"shift\",\"timer\",\"bylaw\",\"serum\",\"three\",\"steak\",\"iliac\",\"shirk\",\"blunt\",\"puppy\",\"penal\",\"joist\",\"bunny\",\"shape\",\"beget\",\"wheel\",\"adept\",\"stunt\",\"stole\",\"topaz\",\"chore\",\"fluke\",\"afoot\",\"bloat\",\"bully\",\"dense\",\"caper\",\"sneer\",\"boxer\",\"jumbo\",\"lunge\",\"space\",\"avail\",\"short\",\"slurp\",\"loyal\",\"flirt\",\"pizza\",\"conch\",\"tempo\",\"droop\",\"plate\",\"bible\",\"plunk\",\"afoul\",\"savoy\",\"steep\",\"agile\",\"stake\",\"dwell\",\"knave\",\"beard\",\"arose\",\"motif\",\"smash\",\"broil\",\"glare\",\"shove\",\"baggy\",\"mammy\",\"swamp\",\"along\",\"rugby\",\"wager\",\"quack\",\"squat\",\"snaky\",\"debit\",\"mange\",\"skate\",\"ninth\",\"joust\",\"tramp\",\"spurn\",\"medal\",\"micro\",\"rebel\",\"flank\",\"learn\",\"nadir\",\"maple\",\"comfy\",\"remit\",\"gruff\",\"ester\",\"least\",\"mogul\",\"fetch\",\"cause\",\"oaken\",\"aglow\",\"meaty\",\"gaffe\",\"shyly\",\"racer\",\"prowl\",\"thief\",\"stern\",\"poesy\",\"rocky\",\"tweet\",\"waist\",\"spire\",\"grope\",\"havoc\",\"patsy\",\"truly\",\"forty\",\"deity\",\"uncle\",\"swish\",\"giver\",\"preen\",\"bevel\",\"lemur\",\"draft\",\"slope\",\"annoy\",\"lingo\",\"bleak\",\"ditty\",\"curly\",\"cedar\",\"dirge\",\"grown\",\"horde\",\"drool\",\"shuck\",\"crypt\",\"cumin\",\"stock\",\"gravy\",\"locus\",\"wider\",\"breed\",\"quite\",\"chafe\",\"cache\",\"blimp\",\"deign\",\"fiend\",\"logic\",\"cheap\",\"elide\",\"rigid\",\"false\",\"renal\",\"pence\",\"rowdy\",\"shoot\",\"blaze\",\"envoy\",\"posse\",\"brief\",\"never\",\"abort\",\"mouse\",\"mucky\",\"sulky\",\"fiery\",\"media\",\"trunk\",\"yeast\",\"clear\",\"skunk\",\"scalp\",\"bitty\",\"cider\",\"koala\",\"duvet\",\"segue\",\"creme\",\"super\",\"grill\",\"after\",\"owner\",\"ember\",\"reach\",\"nobly\",\"empty\",\"speed\",\"gipsy\",\"recur\",\"smock\",\"dread\",\"merge\",\"burst\",\"kappa\",\"amity\",\"shaky\",\"hover\",\"carol\",\"snort\",\"synod\",\"faint\",\"haunt\",\"flour\",\"chair\",\"detox\",\"shrew\",\"tense\",\"plied\",\"quark\",\"burly\",\"novel\",\"waxen\",\"stoic\",\"jerky\",\"blitz\",\"beefy\",\"lyric\",\"hussy\",\"towel\",\"quilt\",\"below\",\"bingo\",\"wispy\",\"brash\",\"scone\",\"toast\",\"easel\",\"saucy\",\"value\",\"spice\",\"honor\",\"route\",\"sharp\",\"bawdy\",\"radii\",\"skull\",\"phony\",\"issue\",\"lager\",\"swell\",\"urine\",\"gassy\",\"trial\",\"flora\",\"upper\",\"latch\",\"wight\",\"brick\",\"retry\",\"holly\",\"decal\",\"grass\",\"shack\",\"dogma\",\"mover\",\"defer\",\"sober\",\"optic\",\"crier\",\"vying\",\"nomad\",\"flute\",\"hippo\",\"shark\",\"drier\",\"obese\",\"bugle\",\"tawny\",\"chalk\",\"feast\",\"ruddy\",\"pedal\",\"scarf\",\"cruel\",\"bleat\",\"tidal\",\"slush\",\"semen\",\"windy\",\"dusty\",\"sally\",\"igloo\",\"nerdy\",\"jewel\",\"shone\",\"whale\",\"hymen\",\"abuse\",\"fugue\",\"elbow\",\"crumb\",\"pansy\",\"welsh\",\"syrup\",\"terse\",\"suave\",\"gamut\",\"swung\",\"drake\",\"freed\",\"afire\",\"shirt\",\"grout\",\"oddly\",\"tithe\",\"plaid\",\"dummy\",\"broom\",\"blind\",\"torch\",\"enemy\",\"again\",\"tying\",\"pesky\",\"alter\",\"gazer\",\"noble\",\"ethos\",\"bride\",\"extol\",\"decor\",\"hobby\",\"beast\",\"idiom\",\"utter\",\"these\",\"sixth\",\"alarm\",\"erase\",\"elegy\",\"spunk\",\"piper\",\"scaly\",\"scold\",\"hefty\",\"chick\",\"sooty\",\"canal\",\"whiny\",\"slash\",\"quake\",\"joint\",\"swept\",\"prude\",\"heavy\",\"wield\",\"femme\",\"lasso\",\"maize\",\"shale\",\"screw\",\"spree\",\"smoky\",\"whiff\",\"scent\",\"glade\",\"spent\",\"prism\",\"stoke\",\"riper\",\"orbit\",\"cocoa\",\"guilt\",\"humus\",\"shush\",\"table\",\"smirk\",\"wrong\",\"noisy\",\"alert\",\"shiny\",\"elate\",\"resin\",\"whole\",\"hunch\",\"pixel\",\"polar\",\"hotel\",\"sword\",\"cleat\",\"mango\",\"rumba\",\"puffy\",\"filly\",\"billy\",\"leash\",\"clout\",\"dance\",\"ovate\",\"facet\",\"chili\",\"paint\",\"liner\",\"curio\",\"salty\",\"audio\",\"snake\",\"fable\",\"cloak\",\"navel\",\"spurt\",\"pesto\",\"balmy\",\"flash\",\"unwed\",\"early\",\"churn\",\"weedy\",\"stump\",\"lease\",\"witty\",\"wimpy\",\"spoof\",\"saner\",\"blend\",\"salsa\",\"thick\",\"warty\",\"manic\",\"blare\",\"squib\",\"spoon\",\"probe\",\"crepe\",\"knack\",\"force\",\"debut\",\"order\",\"haste\",\"teeth\",\"agent\",\"widen\",\"icily\",\"slice\",\"ingot\",\"clash\",\"juror\",\"blood\",\"abode\",\"throw\",\"unity\",\"pivot\",\"slept\",\"troop\",\"spare\",\"sewer\",\"parse\",\"morph\",\"cacti\",\"tacky\",\"spool\",\"demon\",\"moody\",\"annex\",\"begin\",\"fuzzy\",\"patch\",\"water\",\"lumpy\",\"admin\",\"omega\",\"limit\",\"tabby\",\"macho\",\"aisle\",\"skiff\",\"basis\",\"plank\",\"verge\",\"botch\",\"crawl\",\"lousy\",\"slain\",\"cubic\",\"raise\",\"wrack\",\"guide\",\"foist\",\"cameo\",\"under\",\"actor\",\"revue\",\"fraud\",\"harpy\",\"scoop\",\"climb\",\"refer\",\"olden\",\"clerk\",\"debar\",\"tally\",\"ethic\",\"cairn\",\"tulle\",\"ghoul\",\"hilly\",\"crude\",\"apart\",\"scale\",\"older\",\"plain\",\"sperm\",\"briny\",\"abbot\",\"rerun\",\"quest\",\"crisp\",\"bound\",\"befit\",\"drawn\",\"suite\",\"itchy\",\"cheer\",\"bagel\",\"guess\",\"broad\",\"axiom\",\"chard\",\"caput\",\"leant\",\"harsh\",\"curse\",\"proud\",\"swing\",\"opine\",\"taste\",\"lupus\",\"gumbo\",\"miner\",\"green\",\"chasm\",\"lipid\",\"topic\",\"armor\",\"brush\",\"crane\",\"mural\",\"abled\",\"habit\",\"bossy\",\"maker\",\"dusky\",\"dizzy\",\"lithe\",\"brook\",\"jazzy\",\"fifty\",\"sense\",\"giant\",\"surly\",\"legal\",\"fatal\",\"flunk\",\"began\",\"prune\",\"small\",\"slant\",\"scoff\",\"torus\",\"ninny\",\"covey\",\"viper\",\"taken\",\"moral\",\"vogue\",\"owing\",\"token\",\"entry\",\"booth\",\"voter\",\"chide\",\"elfin\",\"ebony\",\"neigh\",\"minim\",\"melon\",\"kneed\",\"decoy\",\"voila\",\"ankle\",\"arrow\",\"mushy\",\"tribe\",\"cease\",\"eager\",\"birth\",\"graph\",\"odder\",\"terra\",\"weird\",\"tried\",\"clack\",\"color\",\"rough\",\"weigh\",\"uncut\",\"ladle\",\"strip\",\"craft\",\"minus\",\"dicey\",\"titan\",\"lucid\",\"vicar\",\"dress\",\"ditch\",\"gypsy\",\"pasta\",\"taffy\",\"flame\",\"swoop\",\"aloof\",\"sight\",\"broke\",\"teary\",\"chart\",\"sixty\",\"wordy\",\"sheer\",\"leper\",\"nosey\",\"bulge\",\"savor\",\"clamp\",\"funky\",\"foamy\",\"toxic\",\"brand\",\"plumb\",\"dingy\",\"butte\",\"drill\",\"tripe\",\"bicep\",\"tenor\",\"krill\",\"worse\",\"drama\",\"hyena\",\"think\",\"ratio\",\"cobra\",\"basil\",\"scrum\",\"bused\",\"phone\",\"court\",\"camel\",\"proof\",\"heard\",\"angel\",\"petal\",\"pouty\",\"throb\",\"maybe\",\"fetal\",\"sprig\",\"spine\",\"shout\",\"cadet\",\"macro\",\"dodgy\",\"satyr\",\"rarer\",\"binge\",\"trend\",\"nutty\",\"leapt\",\"amiss\",\"split\",\"myrrh\",\"width\",\"sonar\",\"tower\",\"baron\",\"fever\",\"waver\",\"spark\",\"belie\",\"sloop\",\"expel\",\"smote\",\"baler\",\"above\",\"north\",\"wafer\",\"scant\",\"frill\",\"awash\",\"snack\",\"scowl\",\"frail\",\"drift\",\"limbo\",\"fence\",\"motel\",\"ounce\",\"wreak\",\"revel\",\"talon\",\"prior\",\"knelt\",\"cello\",\"flake\",\"debug\",\"anode\",\"crime\",\"salve\",\"scout\",\"imbue\",\"pinky\",\"stave\",\"vague\",\"chock\",\"fight\",\"video\",\"stone\",\"teach\",\"cleft\",\"frost\",\"prawn\",\"booty\",\"twist\",\"apnea\",\"stiff\",\"plaza\",\"ledge\",\"tweak\",\"board\",\"grant\",\"medic\",\"bacon\",\"cable\",\"brawl\",\"slunk\",\"raspy\",\"forum\",\"drone\",\"women\",\"mucus\",\"boast\",\"toddy\",\"coven\",\"tumor\",\"truer\",\"wrath\",\"stall\",\"steam\",\"axial\",\"purer\",\"daily\",\"trail\",\"niche\",\"mealy\",\"juice\",\"nylon\",\"plump\",\"merry\",\"flail\",\"papal\",\"wheat\",\"berry\",\"cower\",\"erect\",\"brute\",\"leggy\",\"snipe\",\"sinew\",\"skier\",\"penny\",\"jumpy\",\"rally\",\"umbra\",\"scary\",\"modem\",\"gross\",\"avian\",\"greed\",\"satin\",\"tonic\",\"parka\",\"sniff\",\"livid\",\"stark\",\"trump\",\"giddy\",\"reuse\",\"taboo\",\"avoid\",\"quote\",\"devil\",\"liken\",\"gloss\",\"gayer\",\"beret\",\"noise\",\"gland\",\"dealt\",\"sling\",\"rumor\",\"opera\",\"thigh\",\"tonga\",\"flare\",\"wound\",\"white\",\"bulky\",\"etude\",\"horse\",\"circa\",\"paddy\",\"inbox\",\"fizzy\",\"grain\",\"exert\",\"surge\",\"gleam\",\"belle\",\"salvo\",\"crush\",\"fruit\",\"sappy\",\"taker\",\"tract\",\"ovine\",\"spiky\",\"frank\",\"reedy\",\"filth\",\"spasm\",\"heave\",\"mambo\",\"right\",\"clank\",\"trust\",\"lumen\",\"borne\",\"spook\",\"sauce\",\"amber\",\"lathe\",\"carat\",\"corer\",\"dirty\",\"slyly\",\"affix\",\"alloy\",\"taint\",\"sheep\",\"kinky\",\"wooly\",\"mauve\",\"flung\",\"yacht\",\"fried\",\"quail\",\"brunt\",\"grimy\",\"curvy\",\"cagey\",\"rinse\",\"deuce\",\"state\",\"grasp\",\"milky\",\"bison\",\"graft\",\"sandy\",\"baste\",\"flask\",\"hedge\",\"girly\",\"swash\",\"boney\",\"coupe\",\"endow\",\"abhor\",\"welch\",\"blade\",\"tight\",\"geese\",\"miser\",\"mirth\",\"cloud\",\"cabal\",\"leech\",\"close\",\"tenth\",\"pecan\",\"droit\",\"grail\",\"clone\",\"guise\",\"ralph\",\"tango\",\"biddy\",\"smith\",\"mower\",\"payee\",\"serif\",\"drape\",\"fifth\",\"spank\",\"glaze\",\"allot\",\"truck\",\"kayak\",\"virus\",\"testy\",\"tepee\",\"fully\",\"zonal\",\"metro\",\"curry\",\"grand\",\"banjo\",\"axion\",\"bezel\",\"occur\",\"chain\",\"nasal\",\"gooey\",\"filer\",\"brace\",\"allay\",\"pubic\",\"raven\",\"plead\",\"gnash\",\"flaky\",\"munch\",\"dully\",\"eking\",\"thing\",\"slink\",\"hurry\",\"theft\",\"shorn\",\"pygmy\",\"ranch\",\"wring\",\"lemon\",\"shore\",\"mamma\",\"froze\",\"newer\",\"style\",\"moose\",\"antic\",\"drown\",\"vegan\",\"chess\",\"guppy\",\"union\",\"lever\",\"lorry\",\"image\",\"cabby\",\"druid\",\"exact\",\"truth\",\"dopey\",\"spear\",\"cried\",\"chime\",\"crony\",\"stunk\",\"timid\",\"batch\",\"gauge\",\"rotor\",\"crack\",\"curve\",\"latte\",\"witch\",\"bunch\",\"repel\",\"anvil\",\"soapy\",\"meter\",\"broth\",\"madly\",\"dried\",\"scene\",\"known\",\"magma\",\"roost\",\"woman\",\"thong\",\"punch\",\"pasty\",\"downy\",\"knead\",\"whirl\",\"rapid\",\"clang\",\"anger\",\"drive\",\"goofy\",\"email\",\"music\",\"stuff\",\"bleep\",\"rider\",\"mecca\",\"folio\",\"setup\",\"verso\",\"quash\",\"fauna\",\"gummy\",\"happy\",\"newly\",\"fussy\",\"relic\",\"guava\",\"ratty\",\"fudge\",\"femur\",\"chirp\",\"forte\",\"alibi\",\"whine\",\"petty\",\"golly\",\"plait\",\"fleck\",\"felon\",\"gourd\",\"brown\",\"thrum\",\"ficus\",\"stash\",\"decry\",\"wiser\",\"junta\",\"visor\",\"daunt\",\"scree\",\"impel\",\"await\",\"press\",\"whose\",\"turbo\",\"stoop\",\"speak\",\"mangy\",\"eying\",\"inlet\",\"crone\",\"pulse\",\"mossy\",\"staid\",\"hence\",\"pinch\",\"teddy\",\"sully\",\"snore\",\"ripen\",\"snowy\",\"attic\",\"going\",\"leach\",\"mouth\",\"hound\",\"clump\",\"tonal\",\"bigot\",\"peril\",\"piece\",\"blame\",\"haute\",\"spied\",\"undid\",\"intro\",\"basal\",\"shine\",\"gecko\",\"rodeo\",\"guard\",\"steer\",\"loamy\",\"scamp\",\"scram\",\"manly\",\"hello\",\"vaunt\",\"organ\",\"feral\",\"knock\",\"extra\",\"condo\",\"adapt\",\"willy\",\"polka\",\"rayon\",\"skirt\",\"faith\",\"torso\",\"match\",\"mercy\",\"tepid\",\"sleek\",\"riser\",\"twixt\",\"peace\",\"flush\",\"catty\",\"login\",\"eject\",\"roger\",\"rival\",\"untie\",\"refit\",\"aorta\",\"adult\",\"judge\",\"rower\",\"artsy\",\"rural\",\"shave\"]"
   ]
  },
  {
   "cell_type": "code",
   "execution_count": 19,
   "metadata": {
    "pycharm": {
     "name": "#%%\n"
    }
   },
   "outputs": [],
   "source": [
    "yellow = ['r','e']\n",
    "for letter in yellow:\n",
    "    for word in words:\n",
    "        if letter not in word:\n",
    "            words.remove(word)"
   ]
  },
  {
   "cell_type": "code",
   "execution_count": 20,
   "metadata": {
    "pycharm": {
     "name": "#%%\n"
    }
   },
   "outputs": [
    {
     "data": {
      "text/plain": [
       "['rebut',\n",
       " 'evade',\n",
       " 'quiet',\n",
       " 'staff',\n",
       " 'unmet',\n",
       " 'flume',\n",
       " 'agree',\n",
       " 'error',\n",
       " 'totem',\n",
       " 'wooer',\n",
       " 'greet',\n",
       " 'labor',\n",
       " 'forge',\n",
       " 'essay',\n",
       " 'motor',\n",
       " 'hyper',\n",
       " 'dutch',\n",
       " 'erode',\n",
       " 'great',\n",
       " 'fixer',\n",
       " 'rogue',\n",
       " 'rouge',\n",
       " 'retch',\n",
       " 'wrote',\n",
       " 'prove',\n",
       " 'break',\n",
       " 'trace',\n",
       " 'brake',\n",
       " 'ferry',\n",
       " 'tiger',\n",
       " 'gorge',\n",
       " 'query',\n",
       " 'robot',\n",
       " 'perky',\n",
       " 'elder',\n",
       " 'other',\n",
       " 'trove',\n",
       " 'rupee',\n",
       " 'smelt',\n",
       " 'purge',\n",
       " 'epoxy',\n",
       " 'trope',\n",
       " 'fewer',\n",
       " 'foyer',\n",
       " 'larva',\n",
       " 'homer',\n",
       " 'delve',\n",
       " 'gamer',\n",
       " 'crept',\n",
       " 'gloom',\n",
       " 'piety',\n",
       " 'rusty',\n",
       " 'retro',\n",
       " 'egret',\n",
       " 'berth',\n",
       " 'liver',\n",
       " 'power',\n",
       " 'bluff',\n",
       " 'rhyme',\n",
       " 'label',\n",
       " 'poker',\n",
       " 'gruel',\n",
       " 'merit',\n",
       " 'ruder',\n",
       " 'leery',\n",
       " 'thyme',\n",
       " 'trice',\n",
       " 'bough',\n",
       " 'grove',\n",
       " 'aptly',\n",
       " 'ombre',\n",
       " 'baker',\n",
       " 'there',\n",
       " 'threw',\n",
       " 'opium',\n",
       " 'plume',\n",
       " 'deter',\n",
       " 'lover',\n",
       " 'tough',\n",
       " 'udder',\n",
       " 'lefty',\n",
       " 'derby',\n",
       " 'erupt',\n",
       " 'sleep',\n",
       " 'cream',\n",
       " 'reply',\n",
       " 'dowel',\n",
       " 'evoke',\n",
       " 'embed',\n",
       " 'laden',\n",
       " 'gusto',\n",
       " 'queer',\n",
       " 'hater',\n",
       " 'exile',\n",
       " 'freer',\n",
       " 'elude',\n",
       " 'tenet',\n",
       " 'ridge',\n",
       " 'budge',\n",
       " 'dumpy',\n",
       " 'flyer',\n",
       " 'edict',\n",
       " 'verve',\n",
       " 'march',\n",
       " 'ruler',\n",
       " 'barge',\n",
       " 'bluer',\n",
       " 'begun',\n",
       " 'glove',\n",
       " 'rover',\n",
       " 'later',\n",
       " 'hazel',\n",
       " 'globe',\n",
       " 'relax',\n",
       " 'jetty',\n",
       " 'joker',\n",
       " 'pudgy',\n",
       " 'grape',\n",
       " 'furor',\n",
       " 'outer',\n",
       " 'demur',\n",
       " 'nudge',\n",
       " 'minor',\n",
       " 'guest',\n",
       " 'every',\n",
       " 'otter',\n",
       " 'bread',\n",
       " 'tuber',\n",
       " 'fecal',\n",
       " 'large',\n",
       " 'abide',\n",
       " 'tutor',\n",
       " 'where',\n",
       " 'graze',\n",
       " 'buyer',\n",
       " 'missy',\n",
       " 'jelly',\n",
       " 'lower',\n",
       " 'groom',\n",
       " 'ready',\n",
       " 'puree',\n",
       " 'offer',\n",
       " 'dryer',\n",
       " 'quoth',\n",
       " 'lodge',\n",
       " 'overt',\n",
       " 'ether',\n",
       " 'drove',\n",
       " 'timer',\n",
       " 'three',\n",
       " 'beget',\n",
       " 'stole',\n",
       " 'boxer',\n",
       " 'droop',\n",
       " 'dwell',\n",
       " 'beard',\n",
       " 'rugby',\n",
       " 'rebel',\n",
       " 'meaty',\n",
       " 'tweet',\n",
       " 'grope',\n",
       " 'forty',\n",
       " 'giver',\n",
       " 'lemur',\n",
       " 'horde',\n",
       " 'breed',\n",
       " 'rowdy',\n",
       " 'never',\n",
       " 'cider',\n",
       " 'ember',\n",
       " 'merge',\n",
       " 'hover',\n",
       " 'burly',\n",
       " 'jerky',\n",
       " 'towel',\n",
       " 'value',\n",
       " 'route',\n",
       " 'upper',\n",
       " 'retry',\n",
       " 'mover',\n",
       " 'defer',\n",
       " 'drier',\n",
       " 'nerdy',\n",
       " 'fugue',\n",
       " 'freed',\n",
       " 'dummy',\n",
       " 'gazer',\n",
       " 'utter',\n",
       " 'erase',\n",
       " 'hefty',\n",
       " 'prude',\n",
       " 'spree',\n",
       " 'whole',\n",
       " 'ovate',\n",
       " 'fable',\n",
       " 'weedy',\n",
       " 'probe',\n",
       " 'force',\n",
       " 'order',\n",
       " 'throw',\n",
       " 'morph',\n",
       " 'water',\n",
       " 'omega',\n",
       " 'verge',\n",
       " 'revue',\n",
       " 'refer',\n",
       " 'tulle',\n",
       " 'older',\n",
       " 'proud',\n",
       " 'lithe',\n",
       " 'surly',\n",
       " 'prune',\n",
       " 'entry',\n",
       " 'voter',\n",
       " 'melon',\n",
       " 'eager',\n",
       " 'odder',\n",
       " 'tried',\n",
       " 'gypsy',\n",
       " 'broke',\n",
       " 'leper',\n",
       " 'tripe',\n",
       " 'bused',\n",
       " 'throb',\n",
       " 'rarer',\n",
       " 'tower',\n",
       " 'fever',\n",
       " 'expel',\n",
       " 'revel',\n",
       " 'vague',\n",
       " 'board',\n",
       " 'toddy',\n",
       " 'truer',\n",
       " 'purer',\n",
       " 'merry',\n",
       " 'berry',\n",
       " 'erect',\n",
       " 'brute',\n",
       " 'umbra',\n",
       " 'greed',\n",
       " 'beret',\n",
       " 'flare',\n",
       " 'etude',\n",
       " 'exert',\n",
       " 'taker',\n",
       " 'reedy',\n",
       " 'borne',\n",
       " 'amber',\n",
       " 'corer',\n",
       " 'brunt',\n",
       " 'endow',\n",
       " 'tango',\n",
       " 'mower',\n",
       " 'glaze',\n",
       " 'metro',\n",
       " 'gooey',\n",
       " 'plead',\n",
       " 'hurry',\n",
       " 'froze',\n",
       " 'lever',\n",
       " 'truth',\n",
       " 'gauge',\n",
       " 'repel',\n",
       " 'meter',\n",
       " 'goofy',\n",
       " 'verso',\n",
       " 'femur',\n",
       " 'forte',\n",
       " 'gourd',\n",
       " 'scree',\n",
       " 'mossy',\n",
       " 'peril',\n",
       " 'rodeo',\n",
       " 'roger',\n",
       " 'refit',\n",
       " 'judge',\n",
       " 'rower']"
      ]
     },
     "execution_count": 20,
     "metadata": {},
     "output_type": "execute_result"
    }
   ],
   "source": [
    "words"
   ]
  },
  {
   "cell_type": "code",
   "execution_count": 2,
   "metadata": {
    "pycharm": {
     "name": "#%%\n"
    }
   },
   "outputs": [
    {
     "data": {
      "text/plain": [
       "['choke', 'chose', 'clove', 'chore', 'close', 'clone', 'crone']"
      ]
     },
     "execution_count": 2,
     "metadata": {},
     "output_type": "execute_result"
    }
   ],
   "source": [
    "green = {0:'c',2:'o',4:'e'}\n",
    "a = list(green.keys())\n",
    "b = list(green.values())\n",
    "new = []\n",
    "for word in words:\n",
    "    keep = 0\n",
    "    for letter in green:\n",
    "        if word[letter] == green[letter]:\n",
    "            keep += 1\n",
    "    if keep == len(green):\n",
    "        new.append(word)\n",
    "new"
   ]
  },
  {
   "cell_type": "code",
   "execution_count": 6,
   "metadata": {
    "pycharm": {
     "name": "#%%\n"
    }
   },
   "outputs": [
    {
     "data": {
      "text/plain": [
       "['civic',\n",
       " 'cynic',\n",
       " 'cutie',\n",
       " 'civil',\n",
       " 'choir',\n",
       " 'cavil',\n",
       " 'cabin',\n",
       " 'comic',\n",
       " 'cumin',\n",
       " 'chair',\n",
       " 'curio',\n",
       " 'cubic',\n",
       " 'chain']"
      ]
     },
     "execution_count": 6,
     "metadata": {},
     "output_type": "execute_result"
    }
   ],
   "source": [
    "# nots = ['l','e','a','r','o','h']\n",
    "# finale = []\n",
    "# for word in new:\n",
    "#     for letter in nots:\n",
    "#         if letter not in word:\n",
    "#             finale.append(word)\n",
    "#\n",
    "# new"
   ]
  },
  {
   "cell_type": "code",
   "execution_count": 25,
   "metadata": {
    "pycharm": {
     "name": "#%%\n"
    }
   },
   "outputs": [],
   "source": [
    "\n",
    "grey = ['a','r','n','t','s','']\n",
    "for letter in grey:\n",
    "    for word in new:\n",
    "        if letter in word:\n",
    "            new.remove(word)\n"
   ]
  },
  {
   "cell_type": "code",
   "execution_count": 26,
   "metadata": {
    "pycharm": {
     "name": "#%%\n"
    }
   },
   "outputs": [
    {
     "data": {
      "text/plain": [
       "['other', 'otter', 'ether', 'utter']"
      ]
     },
     "execution_count": 26,
     "metadata": {},
     "output_type": "execute_result"
    }
   ],
   "source": [
    "new"
   ]
  }
 ],
 "metadata": {
  "kernelspec": {
   "display_name": "Python 3",
   "language": "python",
   "name": "python3"
  },
  "language_info": {
   "codemirror_mode": {
    "name": "ipython",
    "version": 3
   },
   "file_extension": ".py",
   "mimetype": "text/x-python",
   "name": "python",
   "nbconvert_exporter": "python",
   "pygments_lexer": "ipython3",
   "version": "3.8.8"
  }
 },
 "nbformat": 4,
 "nbformat_minor": 1
}
