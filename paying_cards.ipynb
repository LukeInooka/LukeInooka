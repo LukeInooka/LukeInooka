{
 "cells": [
  {
   "cell_type": "code",
   "execution_count": 53,
   "outputs": [],
   "source": [
    "class cards(object):\n",
    "    \"\"\"A class for a playing card set incorporating the suit and the number\"\"\"\n",
    "    def __init__(self,suit,num):\n",
    "        suits = ['Diamond','Spade','heart','Club']\n",
    "        s = ['d','s','h','c']\n",
    "        nums = ['1','2','3','4','5','5','6','7','8','9','10','Jack','Queen','King']\n",
    "        if suit.lower() in s:\n",
    "            suit = suits[s.index(suit.lower())]\n",
    "        elif suit.title() in suits:\n",
    "            suit = suit\n",
    "        else:\n",
    "            suit = 'Invalid suit'\n",
    "        self.suit = suit\n",
    "        self.num = [num if num.title() in nums else 'Invalid value']\n",
    "    def card_info(self):\n",
    "        return f'This card is a {self.num} of {self.suit}s.'\n"
   ],
   "metadata": {
    "collapsed": false,
    "pycharm": {
     "name": "#%%\n"
    }
   }
  },
  {
   "cell_type": "code",
   "execution_count": 56,
   "metadata": {
    "collapsed": true
   },
   "outputs": [],
   "source": [
    "a = cards('d','5')"
   ]
  },
  {
   "cell_type": "code",
   "execution_count": 57,
   "outputs": [
    {
     "data": {
      "text/plain": "\"This card is a ['5'] of Diamonds.\""
     },
     "execution_count": 57,
     "metadata": {},
     "output_type": "execute_result"
    }
   ],
   "source": [
    "a.card_info()"
   ],
   "metadata": {
    "collapsed": false,
    "pycharm": {
     "name": "#%%\n"
    }
   }
  }
 ],
 "metadata": {
  "kernelspec": {
   "display_name": "Python 3",
   "language": "python",
   "name": "python3"
  },
  "language_info": {
   "codemirror_mode": {
    "name": "ipython",
    "version": 2
   },
   "file_extension": ".py",
   "mimetype": "text/x-python",
   "name": "python",
   "nbconvert_exporter": "python",
   "pygments_lexer": "ipython2",
   "version": "2.7.6"
  }
 },
 "nbformat": 4,
 "nbformat_minor": 0
}