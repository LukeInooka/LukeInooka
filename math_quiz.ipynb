{
 "cells": [
  {
   "cell_type": "code",
   "execution_count": 26,
   "metadata": {
    "collapsed": true
   },
   "outputs": [
    {
     "name": "stdout",
     "output_type": "stream",
     "text": [
      "49 64 66 68 11 73 59 74 22 62 20 87 48 28 73 72 59 9 54 53 45 46 45 52 61 41\n"
     ]
    }
   ],
   "source": [
    "from random import randint\n",
    "from PIL import Image\n",
    "aa,bb,cc,dd,ee,ff,gg,hh,ii,jj,kk,ll,mm,nn,oo,pp,qq,rr,ss,tt,uu,vv,ww,xx,yy,zz, = Image.open('1.jpg'), Image.open('2.jpg'), Image.open('3.jpg'), Image.open('4.jpg'), Image.open('5.jpg'), Image.open('6.jpg'), Image.open('7.jpg'), Image.open('8.jpg'), Image.open('9.jpg'), Image.open('10.jpg'), Image.open('11.jpg'), Image.open('12.jpg'), Image.open('13.jpg'), Image.open('14.jpg'), Image.open('15.jpg'), Image.open('16.jpg'), Image.open('17.jpg'), Image.open('18.jpg'), Image.open('19.jpg'), Image.open('20.jpg'), Image.open('21.jpg'), Image.open('22.jpg'), Image.open('23.jpg'), Image.open('24.jpg'), Image.open('25.jpg'), Image.open('26.jpg')\n",
    "\n",
    "a,b,c,d,e,f,g,h,i,j,k,l,m,n,o,p,q,r,s,t,u,v,w,x,y,z = randint(0,100),randint(0,100),randint(0,100),randint(0,100),randint(0,100),randint(0,100),randint(0,100),randint(0,100),randint(0,100),randint(0,100),randint(0,100),randint(0,100),randint(0,100),randint(0,100),randint(0,100),randint(0,100),randint(0,100),randint(0,100),randint(0,100),randint(0,100),randint(0,100),randint(0,100),randint(0,100),randint(0,100),randint(0,100),randint(0,100)\n",
    "questions = [f'considering a right angle with a hypotenuse of {a} and an opposite of {b}, what is the angle of theta and what is the adjacent.'\n",
    "             f'{aa} Solve the for h and x'\n",
    "             f'{bb}'\n",
    "             f'{cc}'\n",
    "             f'{dd}'\n",
    "             f'{ee}'\n",
    "             f'{ff}'\n",
    "             f'{gg}'\n",
    "             f'{hh}'\n",
    "             f'{ii}'\n",
    "             f'{jj}'\n",
    "             f'{kk}'\n",
    "             f'{ll}'\n",
    "             f'{mm}'\n",
    "             f'{nn}'\n",
    "             f'{oo}'\n",
    "             f'{pp} if a = {c}, and alpha = {d} solve for the remaining lengths and angles'\n",
    "             f'{pp} given that beta = {e},and c = {f},find b'\n",
    "             # f'{rr}'\n",
    "             # f'{ss}'\n",
    "             # f'{tt}'\n",
    "             # f'{uu}'\n",
    "             # f'{vv}'\n",
    "             # f'{ww}'\n",
    "             # f'{xx}'\n",
    "             # f'{yy}'\n",
    "             # f'{zz}'\n",
    "             ]"
   ]
  },
  {
   "cell_type": "code",
   "execution_count": null,
   "outputs": [],
   "source": [
    "# alpha = 'abcdefghijklmnopqrstuvwxyz'\n",
    "# for i in range(26):\n",
    "#     print(f'{alpha[i]} = randint(0,100)')\n",
    "ki = '{'\n",
    "li = '}'\n",
    "alpha = 'abcdefghijklmnopqrstuvwxyz'\n",
    "for i in range(26):\n",
    "    print(f\"f'{ki}{alpha[i]}{alpha[i]}{li}'\")"
   ],
   "metadata": {
    "collapsed": false,
    "pycharm": {
     "name": "#%%\n",
     "is_executing": true
    }
   }
  },
  {
   "cell_type": "code",
   "execution_count": 37,
   "outputs": [],
   "source": [
    "def quizzer(lis):\n",
    "    count = 0\n",
    "    num = 0\n",
    "    for question in lis:\n",
    "        answer = input(question)\n",
    "        print(lis[num])\n",
    "        if answer:\n",
    "            count +=1\n",
    "        num +=1\n",
    "    return count/len(lis)"
   ],
   "metadata": {
    "collapsed": false,
    "pycharm": {
     "name": "#%%\n"
    }
   }
  },
  {
   "cell_type": "code",
   "execution_count": 38,
   "outputs": [
    {
     "name": "stdout",
     "output_type": "stream",
     "text": [
      "considering a right angle with a hypotenuse of 49 and an opposite of 64, what is the angle of theta and what is the adjacent.<PIL.JpegImagePlugin.JpegImageFile image mode=RGB size=456x242 at 0x19AC78EE490>\n"
     ]
    },
    {
     "data": {
      "text/plain": "0.0"
     },
     "execution_count": 38,
     "metadata": {},
     "output_type": "execute_result"
    }
   ],
   "source": [
    "quizzer(questions)"
   ],
   "metadata": {
    "collapsed": false,
    "pycharm": {
     "name": "#%%\n"
    }
   }
  }
 ],
 "metadata": {
  "kernelspec": {
   "display_name": "Python 3",
   "language": "python",
   "name": "python3"
  },
  "language_info": {
   "codemirror_mode": {
    "name": "ipython",
    "version": 2
   },
   "file_extension": ".py",
   "mimetype": "text/x-python",
   "name": "python",
   "nbconvert_exporter": "python",
   "pygments_lexer": "ipython2",
   "version": "2.7.6"
  }
 },
 "nbformat": 4,
 "nbformat_minor": 0
}