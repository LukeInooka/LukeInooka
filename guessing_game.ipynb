{
 "cells": [
  {
   "cell_type": "code",
   "execution_count": 3,
   "id": "f9c49e9c",
   "metadata": {},
   "outputs": [],
   "source": [
    "def guessing_game():\n",
    "    # randomly generate the index of the letter\n",
    "    i = randrange(0, len(x))\n",
    "    # a variable that keeps track of the user's attempts\n",
    "    count_attempts = 1\n",
    "    \n",
    "    try:\n",
    "        # the first try of the user\n",
    "        user_input = int(input(f\"Can you guess how many times the letter '{x[i]}'\\\n",
    "                               \\nhas occured in a text of {sum(y)} words?\\n>>> \"))\n",
    "        \n",
    "        # loop until the user guesses the number\n",
    "        while(user_input != y[i]):\n",
    "            \n",
    "            if (user_input <= y[i] + round(y[i]*0.1) and\n",
    "                user_input > y[i]):\n",
    "                user_input = int(input(''' (1) '''))\n",
    "                count_attempts += 1\n",
    "            \n",
    "            elif (user_input >= y[i] - round(y[i]*0.1)\n",
    "                  and user_input < y[i]):\n",
    "                user_input = int(input(''' (2) '''))\n",
    "                count_attempts += 1\n",
    "            \n",
    "            elif user_input > y[i]:\n",
    "                user_input = int(input(''' (3) '''))\n",
    "                count_attempts += 1\n",
    "            \n",
    "            else: \n",
    "                user_input = int(input(''' (4) '''))\n",
    "                count_attempts += 1\n",
    "        \n",
    "        string = ''\n",
    "        if count_attempts == 1:\n",
    "            string = 'try'\n",
    "        else:\n",
    "            string = 'tries'\n",
    "            \n",
    "        print(f\"\\nCongratulations! You guessed it in {count_attempts} {string}!\\\n",
    "                  \\nThe letter '{x[i]}' has occured {y[i]} times in a text of\\\n",
    "                  \\n{sum(y)} words.\")          \n",
    "    \n",
    "    except ''' Eneter your code here. ''':\n",
    "        print(\"Please, enter only integers.\")"
   ]
  },
  {
   "cell_type": "code",
   "execution_count": 30,
   "outputs": [
    {
     "name": "stdout",
     "output_type": "stream",
     "text": [
      "7 s i n j 9 c u n l t 2 9 k d\n",
      "1.3467841148376465\n"
     ]
    }
   ],
   "source": [
    "letters = 'abcdefghijklmnopqrstuvwxyz123456789'\n",
    "import random\n",
    "quiz = [letters[random.randint(0,34)] for letter in range(15)]\n",
    "print(' '.join(quiz))\n",
    "import time\n",
    "a = time.time()\n",
    "b = input('')\n",
    "if b == '':\n",
    "    c = time.time()\n",
    "print(c-a)"
   ],
   "metadata": {
    "collapsed": false,
    "pycharm": {
     "name": "#%%\n"
    }
   }
  },
  {
   "cell_type": "code",
   "execution_count": 43,
   "outputs": [
    {
     "name": "stdout",
     "output_type": "stream",
     "text": [
      "y 2 z v e 6 p s b 1 j z r l e\n",
      "2.8608882427215576\n"
     ]
    }
   ],
   "source": [
    "import time, random\n",
    "letters = 'abcdefghijklmnopqrstuvwxyz123456789'\n",
    "print(' '.join([letters[random.randint(0, 34)] for letter in range(15)]))\n",
    "a,b = time.time(),input()\n",
    "print(time.time()-a)"
   ],
   "metadata": {
    "collapsed": false,
    "pycharm": {
     "name": "#%%\n"
    }
   }
  }
 ],
 "metadata": {
  "kernelspec": {
   "display_name": "Python 3",
   "language": "python",
   "name": "python3"
  },
  "language_info": {
   "codemirror_mode": {
    "name": "ipython",
    "version": 3
   },
   "file_extension": ".py",
   "mimetype": "text/x-python",
   "name": "python",
   "nbconvert_exporter": "python",
   "pygments_lexer": "ipython3",
   "version": "3.8.8"
  }
 },
 "nbformat": 4,
 "nbformat_minor": 5
}