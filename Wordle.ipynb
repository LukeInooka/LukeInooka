{
 "cells": [
  {
   "cell_type": "code",
   "execution_count": 1,
   "outputs": [],
   "source": [
    "def wordle(green:list,yellow:list,grey:list):\n",
    "    for word in words:\n",
    "        grey_count = 0\n",
    "        for letter in grey:\n",
    "            if letter not in word:\n",
    "                grey_count +=1\n",
    "            if grey_count == len(grey):\n",
    "                l1.append(word)\n",
    "    if len(yellow) != 0 and len(green)!=0:\n",
    "        for word in l1:\n",
    "            yellow_count = 0\n",
    "            for letter in yellow:\n",
    "                if letter[0] in word and word[letter[1]] != letter[0]:\n",
    "                    yellow_count +=1\n",
    "                if yellow_count == len(yellow):\n",
    "                    l2.append(word)\n",
    "        for word in l2:\n",
    "            green_count = 0\n",
    "            for letter in green:\n",
    "                if word[letter[1]] == letter[0]:\n",
    "                    green_count +=1\n",
    "            if green_count == len(green):\n",
    "                l3.append(word)\n",
    "        print(l3)\n",
    "    if len(yellow) == 0 and len(green) ==0:\n",
    "        print(l1)\n",
    "    if len(yellow) ==0 and len(green) != 0:\n",
    "        for word in l1:\n",
    "            green_count = 0\n",
    "            for letter in green:\n",
    "                if word[letter[1]] == letter[0]:\n",
    "                    green_count +=1\n",
    "            if green_count == len(green):\n",
    "                l2.append(word)\n",
    "        print(l2)\n",
    "    if len(yellow) != 0 and len(green) ==0:\n",
    "        for word in l1:\n",
    "            yellow_count = 0\n",
    "            for letter in yellow:\n",
    "                if letter[0] in word and word[letter[1]] != letter[0]:\n",
    "                    yellow_count +=1\n",
    "                if yellow_count == len(yellow):\n",
    "                    l2.append(word)\n",
    "        print(l2)\n"
   ],
   "metadata": {
    "collapsed": false,
    "pycharm": {
     "name": "#%%\n"
    }
   }
  },
  {
   "cell_type": "code",
   "execution_count": 4,
   "outputs": [
    {
     "name": "stdout",
     "output_type": "stream",
     "text": [
      "['bigot', 'bijou', 'bills', 'bimbo', 'bingo', 'bison', 'bitch', 'bitts', 'blimp', 'blink', 'blips', 'bliss', 'blitz', 'blobs', 'block', 'blocs', 'bloom', 'blots', 'blown', 'blows', 'bluff', 'blunt', 'blush', 'bogus', 'boils', 'bolts', 'bombs', 'bongs', 'bonus', 'books', 'booms', 'boons', 'boost', 'booth', 'boots', 'bosom', 'boson', 'bosun', 'botch', 'bough', 'bouts', 'bowls', 'bucks', 'buffs', 'built', 'bulbs', 'bulks', 'bulls', 'bumps', 'bunch', 'bunks', 'busts', 'butts', 'buxom', 'chick', 'chili', 'chill', 'chimp', 'chink', 'chins', 'chips', 'chits', 'chock', 'chomp', 'chops', 'chuck', 'chuff', 'chugs', 'chump', 'chums', 'chunk', 'cinch', 'civic', 'civil', 'click', 'cliff', 'climb', 'cling', 'clink', 'clips', 'clock', 'clogs', 'cloth', 'clots', 'clout', 'clown', 'clubs', 'cluck', 'clump', 'clung', 'cocks', 'coils', 'coins', 'colon', 'colts', 'combs', 'comic', 'congo', 'conic', 'cooks', 'cools', 'coons', 'coops', 'costs', 'couch', 'cough', 'count', 'coups', 'cubic', 'cubit', 'cuffs', 'cuing', 'culls', 'cults', 'cusps', 'ficus', 'fifth', 'fight', 'filch', 'fills', 'films', 'filth', 'finch', 'finis', 'fists', 'flick', 'fling', 'flint', 'flips', 'flits', 'flock', 'flogs', 'flops', 'floss', 'flout', 'flown', 'flows', 'fluff', 'flung', 'flush', 'focus', 'foils', 'foist', 'folio', 'folks', 'fonts', 'fools', 'foots', 'fouls', 'fount', 'fowls', 'fungi', 'futon', 'ghost', 'ghoul', 'gifts', 'gills', 'gilts', 'glint', 'gloom', 'gloss', 'glows', 'gluon', 'going', 'gongs', 'goofs', 'goons', 'goths', 'gowns', 'guilt', 'gulfs', 'gulls', 'gulps', 'gusto', 'gusts', 'highs', 'hight', 'hills', 'hilts', 'hints', 'hippo', 'hitch', 'hocks', 'hocus', 'hoggs', 'hoist', 'honks', 'hoofs', 'hooks', 'hoops', 'hoots', 'hosts', 'howls', 'hulks', 'hullo', 'hulls', 'humps', 'humus', 'hunch', 'hunks', 'hunts', 'husks', 'hutch', 'icing', 'icons', 'igloo', 'infix', 'ingot', 'input', 'inuit', 'ionic', 'jilts', 'jingo', 'jinks', 'joins', 'joint', 'joist', 'jolts', 'joust', 'jowls', 'jumbo', 'jumps', 'junks', 'kicks', 'kills', 'kilns', 'kilts', 'kings', 'kinks', 'kiosk', 'kiwis', 'klick', 'kloof', 'knits', 'knobs', 'knock', 'knoll', 'knots', 'known', 'knows', 'kongo', 'lichi', 'licks', 'lifts', 'light', 'limbo', 'limbs', 'limit', 'limps', 'links', 'lions', 'lisps', 'lists', 'lochs', 'locks', 'locus', 'lofts', 'logic', 'logos', 'loins', 'longs', 'looks', 'looms', 'loops', 'loots', 'lotto', 'lotus', 'louis', 'louts', 'lulls', 'lumps', 'lunch', 'lungs', 'lupin', 'lusts', 'might', 'milks', 'mills', 'mimic', 'minim', 'minks', 'mints', 'minus', 'mists', 'mitts', 'mixup', 'mocks', 'mogul', 'moist', 'molts', 'monks', 'month', 'moons', 'moths', 'motif', 'motto', 'moult', 'mount', 'mouth', 'mucks', 'mucus', 'muffs', 'mufti', 'mulch', 'mumps', 'munch', 'muons', 'music', 'musks', 'musts', 'mutts', 'nguni', 'nicks', 'night', 'ninth', 'nixon', 'nohow', 'nooks', 'noons', 'notch', 'nouns', 'nulls', 'numbs', 'ohmic', 'oinks', 'omits', 'onion', 'opium', 'optic', 'ought', 'ousts', 'outgo', 'owing', 'phlox', 'photo', 'picks', 'pills', 'pilot', 'pimps', 'pinch', 'pings', 'pinks', 'pints', 'pinup', 'pions', 'pious', 'pipit', 'pitch', 'piths', 'piton', 'pivot', 'plops', 'plots', 'pluck', 'plugs', 'plumb', 'plump', 'plums', 'plush', 'pluto', 'pocks', 'point', 'polio', 'polls', 'pooch', 'pools', 'popup', 'posit', 'posts', 'potch', 'pouch', 'poult', 'pouts', 'pubic', 'puffs', 'pulls', 'pulps', 'pumps', 'punch', 'punks', 'punts', 'pupil', 'putti', 'putts', 'quick', 'quiff', 'quill', 'quilt', 'quips', 'quits', 'scifi', 'scoff', 'scoop', 'scoot', 'scots', 'scout', 'scowl', 'scuff', 'scull', 'shift', 'shins', 'ships', 'shock', 'shook', 'shoot', 'shops', 'shots', 'shout', 'shown', 'shows', 'shuns', 'shunt', 'shuts', 'sifts', 'sighs', 'sight', 'signs', 'silks', 'silts', 'sings', 'sinks', 'sinus', 'sixth', 'skill', 'skimp', 'skims', 'skins', 'skips', 'skits', 'skulk', 'skull', 'skunk', 'slick', 'slims', 'sling', 'slink', 'slips', 'slits', 'slobs', 'slogs', 'sloop', 'slops', 'slosh', 'sloth', 'slots', 'slows', 'slugs', 'slump', 'slums', 'slung', 'slunk', 'slush', 'sluts', 'smith', 'smock', 'smogs', 'smuts', 'snick', 'sniff', 'snips', 'snits', 'snobs', 'snoop', 'snout', 'snows', 'snubs', 'snuff', 'socks', 'soils', 'songs', 'sonic', 'soots', 'sotho', 'souks', 'souls', 'soups', 'south', 'spill', 'spilt', 'spins', 'spits', 'split', 'spoil', 'spoof', 'spook', 'spool', 'spoon', 'spots', 'spout', 'squib', 'stick', 'stiff', 'still', 'stilt', 'sting', 'stink', 'stint', 'stock', 'stoic', 'stomp', 'stool', 'stoop', 'stops', 'stout', 'stows', 'stubs', 'stuck', 'stuff', 'stump', 'stung', 'stuns', 'stunt', 'sucks', 'suing', 'suits', 'sulks', 'sumps', 'sushi', 'swift', 'swill', 'swims', 'swing', 'swish', 'swiss', 'swoon', 'swoop', 'swops', 'swots', 'swung', 'thick', 'thigh', 'thing', 'think', 'thins', 'thong', 'thugs', 'thumb', 'thump', 'ticks', 'tight', 'tills', 'tilts', 'tints', 'toils', 'tolls', 'tombs', 'tongs', 'tonic', 'tools', 'tooth', 'topic', 'touch', 'tough', 'touts', 'towns', 'toxic', 'toxin', 'tucks', 'tufts', 'tulip', 'tunic', 'tusks', 'twigs', 'twill', 'twins', 'twist', 'uncut', 'unfit', 'unfix', 'union', 'units', 'unlit', 'until', 'unzip', 'using', 'vigil', 'visit', 'volts', 'vomit', 'vouch', 'which', 'whiff', 'whims', 'whips', 'whisk', 'whist', 'whizz', 'whoop', 'wicks', 'wills', 'wilts', 'winch', 'wings', 'winks', 'wisps', 'witch', 'wombs', 'wools', 'zombi', 'zooms', 'zulus']\n",
      "None\n",
      "['bigot', 'bijou', 'bills', 'bimbo', 'bingo', 'bison', 'bitch', 'bitts', 'blimp', 'blink', 'blips', 'bliss', 'blitz', 'blobs', 'block', 'blocs', 'bloom', 'blots', 'blown', 'blows', 'bluff', 'blunt', 'blush', 'bogus', 'boils', 'bolts', 'bombs', 'bongs', 'bonus', 'books', 'booms', 'boons', 'boost', 'booth', 'boots', 'bosom', 'boson', 'bosun', 'botch', 'bough', 'bouts', 'bowls', 'bucks', 'buffs', 'built', 'bulbs', 'bulks', 'bulls', 'bumps', 'bunch', 'bunks', 'busts', 'butts', 'buxom', 'chick', 'chili', 'chill', 'chimp', 'chink', 'chins', 'chips', 'chits', 'chock', 'chomp', 'chops', 'chuck', 'chuff', 'chugs', 'chump', 'chums', 'chunk', 'cinch', 'civic', 'civil', 'click', 'cliff', 'climb', 'cling', 'clink', 'clips', 'clock', 'clogs', 'cloth', 'clots', 'clout', 'clown', 'clubs', 'cluck', 'clump', 'clung', 'cocks', 'coils', 'coins', 'colon', 'colts', 'combs', 'comic', 'congo', 'conic', 'cooks', 'cools', 'coons', 'coops', 'costs', 'couch', 'cough', 'count', 'coups', 'cubic', 'cubit', 'cuffs', 'cuing', 'culls', 'cults', 'cusps', 'ficus', 'fifth', 'fight', 'filch', 'fills', 'films', 'filth', 'finch', 'finis', 'fists', 'flick', 'fling', 'flint', 'flips', 'flits', 'flock', 'flogs', 'flops', 'floss', 'flout', 'flown', 'flows', 'fluff', 'flung', 'flush', 'focus', 'foils', 'foist', 'folio', 'folks', 'fonts', 'fools', 'foots', 'fouls', 'fount', 'fowls', 'fungi', 'futon', 'ghost', 'ghoul', 'gifts', 'gills', 'gilts', 'glint', 'gloom', 'gloss', 'glows', 'gluon', 'going', 'gongs', 'goofs', 'goons', 'goths', 'gowns', 'guilt', 'gulfs', 'gulls', 'gulps', 'gusto', 'gusts', 'highs', 'hight', 'hills', 'hilts', 'hints', 'hippo', 'hitch', 'hocks', 'hocus', 'hoggs', 'hoist', 'honks', 'hoofs', 'hooks', 'hoops', 'hoots', 'hosts', 'howls', 'hulks', 'hullo', 'hulls', 'humps', 'humus', 'hunch', 'hunks', 'hunts', 'husks', 'hutch', 'icing', 'icons', 'igloo', 'infix', 'ingot', 'input', 'inuit', 'ionic', 'jilts', 'jingo', 'jinks', 'joins', 'joint', 'joist', 'jolts', 'joust', 'jowls', 'jumbo', 'jumps', 'junks', 'kicks', 'kills', 'kilns', 'kilts', 'kings', 'kinks', 'kiosk', 'kiwis', 'klick', 'kloof', 'knits', 'knobs', 'knock', 'knoll', 'knots', 'known', 'knows', 'kongo', 'lichi', 'licks', 'lifts', 'light', 'limbo', 'limbs', 'limit', 'limps', 'links', 'lions', 'lisps', 'lists', 'lochs', 'locks', 'locus', 'lofts', 'logic', 'logos', 'loins', 'longs', 'looks', 'looms', 'loops', 'loots', 'lotto', 'lotus', 'louis', 'louts', 'lulls', 'lumps', 'lunch', 'lungs', 'lupin', 'lusts', 'might', 'milks', 'mills', 'mimic', 'minim', 'minks', 'mints', 'minus', 'mists', 'mitts', 'mixup', 'mocks', 'mogul', 'moist', 'molts', 'monks', 'month', 'moons', 'moths', 'motif', 'motto', 'moult', 'mount', 'mouth', 'mucks', 'mucus', 'muffs', 'mufti', 'mulch', 'mumps', 'munch', 'muons', 'music', 'musks', 'musts', 'mutts', 'nguni', 'nicks', 'night', 'ninth', 'nixon', 'nohow', 'nooks', 'noons', 'notch', 'nouns', 'nulls', 'numbs', 'ohmic', 'oinks', 'omits', 'onion', 'opium', 'optic', 'ought', 'ousts', 'outgo', 'owing', 'phlox', 'photo', 'picks', 'pills', 'pilot', 'pimps', 'pinch', 'pings', 'pinks', 'pints', 'pinup', 'pions', 'pious', 'pipit', 'pitch', 'piths', 'piton', 'pivot', 'plops', 'plots', 'pluck', 'plugs', 'plumb', 'plump', 'plums', 'plush', 'pluto', 'pocks', 'point', 'polio', 'polls', 'pooch', 'pools', 'popup', 'posit', 'posts', 'potch', 'pouch', 'poult', 'pouts', 'pubic', 'puffs', 'pulls', 'pulps', 'pumps', 'punch', 'punks', 'punts', 'pupil', 'putti', 'putts', 'quick', 'quiff', 'quill', 'quilt', 'quips', 'quits', 'scifi', 'scoff', 'scoop', 'scoot', 'scots', 'scout', 'scowl', 'scuff', 'scull', 'shift', 'shins', 'ships', 'shock', 'shook', 'shoot', 'shops', 'shots', 'shout', 'shown', 'shows', 'shuns', 'shunt', 'shuts', 'sifts', 'sighs', 'sight', 'signs', 'silks', 'silts', 'sings', 'sinks', 'sinus', 'sixth', 'skill', 'skimp', 'skims', 'skins', 'skips', 'skits', 'skulk', 'skull', 'skunk', 'slick', 'slims', 'sling', 'slink', 'slips', 'slits', 'slobs', 'slogs', 'sloop', 'slops', 'slosh', 'sloth', 'slots', 'slows', 'slugs', 'slump', 'slums', 'slung', 'slunk', 'slush', 'sluts', 'smith', 'smock', 'smogs', 'smuts', 'snick', 'sniff', 'snips', 'snits', 'snobs', 'snoop', 'snout', 'snows', 'snubs', 'snuff', 'socks', 'soils', 'songs', 'sonic', 'soots', 'sotho', 'souks', 'souls', 'soups', 'south', 'spill', 'spilt', 'spins', 'spits', 'split', 'spoil', 'spoof', 'spook', 'spool', 'spoon', 'spots', 'spout', 'squib', 'stick', 'stiff', 'still', 'stilt', 'sting', 'stink', 'stint', 'stock', 'stoic', 'stomp', 'stool', 'stoop', 'stops', 'stout', 'stows', 'stubs', 'stuck', 'stuff', 'stump', 'stung', 'stuns', 'stunt', 'sucks', 'suing', 'suits', 'sulks', 'sumps', 'sushi', 'swift', 'swill', 'swims', 'swing', 'swish', 'swiss', 'swoon', 'swoop', 'swops', 'swots', 'swung', 'thick', 'thigh', 'thing', 'think', 'thins', 'thong', 'thugs', 'thumb', 'thump', 'ticks', 'tight', 'tills', 'tilts', 'tints', 'toils', 'tolls', 'tombs', 'tongs', 'tonic', 'tools', 'tooth', 'topic', 'touch', 'tough', 'touts', 'towns', 'toxic', 'toxin', 'tucks', 'tufts', 'tulip', 'tunic', 'tusks', 'twigs', 'twill', 'twins', 'twist', 'uncut', 'unfit', 'unfix', 'union', 'units', 'unlit', 'until', 'unzip', 'using', 'vigil', 'visit', 'volts', 'vomit', 'vouch', 'which', 'whiff', 'whims', 'whips', 'whisk', 'whist', 'whizz', 'whoop', 'wicks', 'wills', 'wilts', 'winch', 'wings', 'winks', 'wisps', 'witch', 'wombs', 'wools', 'zombi', 'zooms', 'zulus']\n",
      "None\n"
     ]
    },
    {
     "ename": "TypeError",
     "evalue": "string indices must be integers",
     "output_type": "error",
     "traceback": [
      "\u001B[1;31m---------------------------------------------------------------------------\u001B[0m",
      "\u001B[1;31mTypeError\u001B[0m                                 Traceback (most recent call last)",
      "\u001B[1;32m~\\AppData\\Local\\Temp/ipykernel_10164/135579685.py\u001B[0m in \u001B[0;36m<module>\u001B[1;34m\u001B[0m\n\u001B[0;32m     16\u001B[0m     \u001B[1;32mif\u001B[0m \u001B[0mlen\u001B[0m\u001B[1;33m(\u001B[0m\u001B[0mgrey_input\u001B[0m\u001B[1;33m)\u001B[0m \u001B[1;33m>\u001B[0m \u001B[1;36m1\u001B[0m\u001B[1;33m:\u001B[0m\u001B[1;33m\u001B[0m\u001B[1;33m\u001B[0m\u001B[0m\n\u001B[0;32m     17\u001B[0m         \u001B[0mgreys\u001B[0m \u001B[1;33m=\u001B[0m \u001B[0mlist\u001B[0m\u001B[1;33m(\u001B[0m\u001B[0mgrey_input\u001B[0m\u001B[1;33m.\u001B[0m\u001B[0msplit\u001B[0m\u001B[1;33m(\u001B[0m\u001B[1;34m' '\u001B[0m\u001B[1;33m)\u001B[0m\u001B[1;33m)\u001B[0m\u001B[1;33m\u001B[0m\u001B[1;33m\u001B[0m\u001B[0m\n\u001B[1;32m---> 18\u001B[1;33m     \u001B[0mprint\u001B[0m\u001B[1;33m(\u001B[0m\u001B[0mwordle\u001B[0m\u001B[1;33m(\u001B[0m\u001B[0mgreens\u001B[0m\u001B[1;33m,\u001B[0m\u001B[0myellows\u001B[0m\u001B[1;33m,\u001B[0m\u001B[0mgreys\u001B[0m\u001B[1;33m)\u001B[0m\u001B[1;33m)\u001B[0m\u001B[1;33m\u001B[0m\u001B[1;33m\u001B[0m\u001B[0m\n\u001B[0m",
      "\u001B[1;32m~\\AppData\\Local\\Temp/ipykernel_10164/2137898775.py\u001B[0m in \u001B[0;36mwordle\u001B[1;34m(green, yellow, grey)\u001B[0m\n\u001B[0;32m     43\u001B[0m             \u001B[0myellow_count\u001B[0m \u001B[1;33m=\u001B[0m \u001B[1;36m0\u001B[0m\u001B[1;33m\u001B[0m\u001B[1;33m\u001B[0m\u001B[0m\n\u001B[0;32m     44\u001B[0m             \u001B[1;32mfor\u001B[0m \u001B[0mletter\u001B[0m \u001B[1;32min\u001B[0m \u001B[0myellow\u001B[0m\u001B[1;33m:\u001B[0m\u001B[1;33m\u001B[0m\u001B[1;33m\u001B[0m\u001B[0m\n\u001B[1;32m---> 45\u001B[1;33m                 \u001B[1;32mif\u001B[0m \u001B[0mletter\u001B[0m\u001B[1;33m[\u001B[0m\u001B[1;36m0\u001B[0m\u001B[1;33m]\u001B[0m \u001B[1;32min\u001B[0m \u001B[0mword\u001B[0m \u001B[1;32mand\u001B[0m \u001B[0mword\u001B[0m\u001B[1;33m[\u001B[0m\u001B[0mletter\u001B[0m\u001B[1;33m[\u001B[0m\u001B[1;36m1\u001B[0m\u001B[1;33m]\u001B[0m\u001B[1;33m]\u001B[0m \u001B[1;33m!=\u001B[0m \u001B[0mletter\u001B[0m\u001B[1;33m[\u001B[0m\u001B[1;36m0\u001B[0m\u001B[1;33m]\u001B[0m\u001B[1;33m:\u001B[0m\u001B[1;33m\u001B[0m\u001B[1;33m\u001B[0m\u001B[0m\n\u001B[0m\u001B[0;32m     46\u001B[0m                     \u001B[0myellow_count\u001B[0m \u001B[1;33m+=\u001B[0m\u001B[1;36m1\u001B[0m\u001B[1;33m\u001B[0m\u001B[1;33m\u001B[0m\u001B[0m\n\u001B[0;32m     47\u001B[0m                 \u001B[1;32mif\u001B[0m \u001B[0myellow_count\u001B[0m \u001B[1;33m==\u001B[0m \u001B[0mlen\u001B[0m\u001B[1;33m(\u001B[0m\u001B[0myellow\u001B[0m\u001B[1;33m)\u001B[0m\u001B[1;33m:\u001B[0m\u001B[1;33m\u001B[0m\u001B[1;33m\u001B[0m\u001B[0m\n",
      "\u001B[1;31mTypeError\u001B[0m: string indices must be integers"
     ]
    }
   ],
   "source": [
    "greens = []\n",
    "yellows = []\n",
    "greys = []\n",
    "for i in range(100):\n",
    "    green_input = input('Greens(a1 b2 c3): ')\n",
    "    if len(green_input) > 1:\n",
    "        green_input = list(green_input.split(' '))\n",
    "        for obj in green_input:\n",
    "            greens.append([[obj[0],obj[1]]])\n",
    "    yellow_input = input('yellows(a1 b2 c3): ')\n",
    "    if len(yellow_input) > 1:\n",
    "        yellow_input = list(yellow_input.split(' '))\n",
    "        for obj in yellow_input:\n",
    "            yellows.append([[obj[0],obj[1]]])\n",
    "    grey_input = input('greys(a b c): ')\n",
    "    if len(grey_input) > 1:\n",
    "        greys = list(grey_input.split(' '))\n",
    "        for obj in grey_input:\n",
    "            greys.append([obj[0],obj[1]])\n",
    "    print(wordle(greens,yellows,greys))"
   ],
   "metadata": {
    "collapsed": false,
    "pycharm": {
     "name": "#%%\n"
    }
   }
  },
  {
   "cell_type": "code",
   "execution_count": 5,
   "outputs": [],
   "source": [
    "def wordle(green,yellow,grey):\n",
    "    from wordlist import wordlist\n",
    "    words = wordlist()\n",
    "    l1 = []\n",
    "    l2 = []\n",
    "    l3 = []\n",
    "    for word in words:\n",
    "        grey_count = 0\n",
    "        for letter in grey:\n",
    "            if letter not in word:\n",
    "                grey_count +=1\n",
    "            if grey_count == len(grey):\n",
    "                l1.append(word)\n",
    "    if len(yellow) != 0 and len(green)!=0:\n",
    "        for word in l1:\n",
    "            yellow_count = 0\n",
    "            for letter in yellow:\n",
    "                if letter[0] in word and word[letter[1]] != letter[0]:\n",
    "                    yellow_count +=1\n",
    "                if yellow_count == len(yellow):\n",
    "                    l2.append(word)\n",
    "        for word in l2:\n",
    "            green_count = 0\n",
    "            for letter in green:\n",
    "                if word[letter[1]] == letter[0]:\n",
    "                    green_count +=1\n",
    "            if green_count == len(green):\n",
    "                l3.append(word)\n",
    "        print(l3)\n",
    "    if len(yellow) == 0 and len(green) ==0:\n",
    "        print(l1)\n",
    "    if len(yellow) ==0 and len(green) != 0:\n",
    "        for word in l1:\n",
    "            green_count = 0\n",
    "            for letter in green:\n",
    "                if word[letter[1]] == letter[0]:\n",
    "                    green_count +=1\n",
    "            if green_count == len(green):\n",
    "                l2.append(word)\n",
    "        print(l2)\n",
    "    if len(yellow) != 0 and len(green) ==0:\n",
    "        for word in l1:\n",
    "            yellow_count = 0\n",
    "            for letter in yellow:\n",
    "                if letter[0] in word and word[letter[1]] != letter[0]:\n",
    "                    yellow_count +=1\n",
    "                if yellow_count == len(yellow):\n",
    "                    l2.append(word)\n",
    "        print(l2)"
   ],
   "metadata": {
    "collapsed": false,
    "pycharm": {
     "name": "#%%\n"
    }
   }
  },
  {
   "cell_type": "code",
   "execution_count": 3,
   "outputs": [
    {
     "data": {
      "text/plain": "['slump',\n 'slung',\n 'fluff',\n 'bluff',\n 'snuff',\n 'skulk',\n 'plunk',\n 'skunk',\n 'skull',\n 'swung',\n 'spunk',\n 'lupus',\n 'flunk',\n 'plumb',\n 'slunk',\n 'plump',\n 'flung']"
     },
     "execution_count": 3,
     "metadata": {},
     "output_type": "execute_result"
    }
   ],
   "source": [
    "# maybe = []\n",
    "# grey = ['e','a','t','c','o','r','h','i','y']\n",
    "# for word in words:\n",
    "#     count = 0\n",
    "#     for letter in grey:\n",
    "#         if letter not in word:\n",
    "#             count +=1\n",
    "#         if count == len(grey):\n",
    "#             maybe.append(word)\n",
    "# maybe\n",
    "# green = ['s','n']\n",
    "# maybe1 = []\n",
    "# all = len(green)\n",
    "# for word in maybe:\n",
    "#     count = 0\n",
    "#     for letter in green:\n",
    "#         if letter in word:\n",
    "#             count +=1\n",
    "#         if count == all:\n",
    "#             maybe1.append(word)"
   ],
   "metadata": {
    "collapsed": false,
    "pycharm": {
     "name": "#%%\n"
    }
   }
  },
  {
   "cell_type": "code",
   "execution_count": null,
   "outputs": [],
   "source": [
    "greenl = input('enter green \"letter:number,letter:number\"')\n",
    "yellow"
   ],
   "metadata": {
    "collapsed": false,
    "pycharm": {
     "name": "#%%\n"
    }
   }
  },
  {
   "cell_type": "code",
   "execution_count": 19,
   "outputs": [
    {
     "name": "stdout",
     "output_type": "stream",
     "text": [
      "[270, 0, 90]\n",
      "[280, 10, 100]\n",
      "[290, 20, 110]\n",
      "[300, 30, 120]\n",
      "[310, 40, 130]\n",
      "[320, 50, 140]\n",
      "[330, 60, 150]\n",
      "[340, 70, 160]\n",
      "[350, 80, 170]\n",
      "[190, 280, 10]\n",
      "[200, 290, 20]\n",
      "[210, 300, 30]\n",
      "[220, 310, 40]\n",
      "[230, 320, 50]\n",
      "[240, 330, 60]\n",
      "[250, 340, 70]\n",
      "[260, 350, 80]\n",
      "\n",
      "\n",
      "\n",
      "\n",
      "\n",
      "\n",
      "\n",
      "[0, 90, 180]\n",
      "[10, 100, 190]\n",
      "[20, 110, 200]\n",
      "[30, 120, 210]\n",
      "[40, 130, 220]\n",
      "[50, 140, 230]\n",
      "[60, 150, 240]\n",
      "[70, 160, 250]\n",
      "[80, 170, 260]\n",
      "[90, 180, 270]\n",
      "[100, 190, 280]\n",
      "[110, 200, 290]\n",
      "[120, 210, 300]\n",
      "[130, 220, 310]\n",
      "[140, 230, 320]\n",
      "[150, 240, 330]\n",
      "[160, 250, 340]\n",
      "[170, 260, 350]\n",
      "[180, 270, 360]\n"
     ]
    }
   ],
   "source": [
    "norm = []\n",
    "comp= []\n",
    "for i in range(0,360,10):\n",
    "    if i -90 >= 0:\n",
    "        lim1 = i -90\n",
    "    else:\n",
    "        lim1= i+ 270\n",
    "    if i +90 > 360:\n",
    "        lim2 = i -270\n",
    "    else:\n",
    "        lim2 = i +90\n",
    "    if lim1 < lim2:\n",
    "        norm.append([lim1,i,lim2])\n",
    "    else:\n",
    "        comp.append([lim1,i,lim2])\n",
    "    # print(lim1,i,lim2)\n",
    "for group in comp:\n",
    "    print(group)\n",
    "print('\\n\\n\\n\\n\\n\\n')\n",
    "for group in norm:\n",
    "    print(group)\n",
    "for i in range(0,360):\n",
    "    if (i<lim1) and (i > lim2):\n",
    "        "
   ],
   "metadata": {
    "collapsed": false,
    "pycharm": {
     "name": "#%%\n"
    }
   }
  }
 ],
 "metadata": {
  "kernelspec": {
   "display_name": "Python 3",
   "language": "python",
   "name": "python3"
  },
  "language_info": {
   "codemirror_mode": {
    "name": "ipython",
    "version": 3
   },
   "file_extension": ".py",
   "mimetype": "text/x-python",
   "name": "python",
   "nbconvert_exporter": "python",
   "pygments_lexer": "ipython3",
   "version": "3.8.8"
  }
 },
 "nbformat": 4,
 "nbformat_minor": 1
}