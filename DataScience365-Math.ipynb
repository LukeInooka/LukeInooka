{
 "cells": [
  {
   "cell_type": "code",
   "execution_count": 1,
   "metadata": {
    "collapsed": true,
    "pycharm": {
     "name": "#%%\n"
    }
   },
   "outputs": [],
   "source": [
    "import numpy as np\n",
    "import pandas"
   ]
  },
  {
   "cell_type": "code",
   "execution_count": 2,
   "outputs": [
    {
     "data": {
      "text/plain": "array([[ 5, 12,  6],\n       [-3,  0, 14]])"
     },
     "execution_count": 2,
     "metadata": {},
     "output_type": "execute_result"
    }
   ],
   "source": [
    "m1 = np.array([[5,12,6],[-3,0,14]])\n",
    "m1"
   ],
   "metadata": {
    "collapsed": false,
    "pycharm": {
     "name": "#%%\n"
    }
   }
  },
  {
   "cell_type": "code",
   "execution_count": 11,
   "outputs": [
    {
     "data": {
      "text/plain": "(2, 3)"
     },
     "execution_count": 11,
     "metadata": {},
     "output_type": "execute_result"
    }
   ],
   "source": [
    "m2 = np.array([[9,8,7],[1,3,5]])\n",
    "m1.shape"
   ],
   "metadata": {
    "collapsed": false,
    "pycharm": {
     "name": "#%%\n"
    }
   }
  },
  {
   "cell_type": "code",
   "execution_count": 6,
   "outputs": [
    {
     "data": {
      "text/plain": "array([[-4,  4, -1],\n       [-4, -3,  9]])"
     },
     "execution_count": 6,
     "metadata": {},
     "output_type": "execute_result"
    }
   ],
   "source": [
    "m1 - m2"
   ],
   "metadata": {
    "collapsed": false,
    "pycharm": {
     "name": "#%%\n"
    }
   }
  },
  {
   "cell_type": "code",
   "execution_count": 9,
   "outputs": [
    {
     "data": {
      "text/plain": "32"
     },
     "execution_count": 9,
     "metadata": {},
     "output_type": "execute_result"
    }
   ],
   "source": [
    "v1 = np.array([1,2,3])\n",
    "v2 = np.array([4,5,6])\n",
    "np.dot(v1,v2)"
   ],
   "metadata": {
    "collapsed": false,
    "pycharm": {
     "name": "#%%\n"
    }
   }
  },
  {
   "cell_type": "code",
   "execution_count": 31,
   "outputs": [
    {
     "data": {
      "text/plain": "array([[  26,  -44],\n       [ 111, -104],\n       [ 196, -164],\n       [ 281, -224],\n       [ 366, -284],\n       [ 451, -344]])"
     },
     "execution_count": 31,
     "metadata": {},
     "output_type": "execute_result"
    }
   ],
   "source": [
    "x = np.array([[1,2,3,4,5,],\n",
    "              [6,7,8,9,10],\n",
    "              [11,12,13,14,15],\n",
    "              [16,17,18,19,20],\n",
    "              [21,22,23,24,25],\n",
    "              [26,27,28,29,30]])\n",
    "y = np.array([[6,-1],[8,-4],[2,-2],[7,4],[-6,-9]])\n",
    "np.dot(x,y)"
   ],
   "metadata": {
    "collapsed": false,
    "pycharm": {
     "name": "#%%\n"
    }
   }
  },
  {
   "cell_type": "code",
   "execution_count": 14,
   "outputs": [
    {
     "ename": "ValueError",
     "evalue": "operands could not be broadcast together with shapes (2,3) (3,3) ",
     "output_type": "error",
     "traceback": [
      "\u001B[1;31m---------------------------------------------------------------------------\u001B[0m",
      "\u001B[1;31mValueError\u001B[0m                                Traceback (most recent call last)",
      "\u001B[1;32m~\\AppData\\Local\\Temp/ipykernel_14120/250834845.py\u001B[0m in \u001B[0;36m<module>\u001B[1;34m\u001B[0m\n\u001B[0;32m      5\u001B[0m \u001B[1;33m\u001B[0m\u001B[0m\n\u001B[0;32m      6\u001B[0m \u001B[1;31m# c = b.transpose()\u001B[0m\u001B[1;33m\u001B[0m\u001B[1;33m\u001B[0m\u001B[0m\n\u001B[1;32m----> 7\u001B[1;33m \u001B[0mnp\u001B[0m\u001B[1;33m.\u001B[0m\u001B[0mdot\u001B[0m\u001B[1;33m(\u001B[0m\u001B[0ma\u001B[0m\u001B[1;33m,\u001B[0m\u001B[0mb\u001B[0m\u001B[1;33m)\u001B[0m\u001B[1;33m+\u001B[0m\u001B[1;36m5\u001B[0m\u001B[1;33m*\u001B[0m\u001B[0mc\u001B[0m\u001B[1;33m\u001B[0m\u001B[1;33m\u001B[0m\u001B[0m\n\u001B[0m\u001B[0;32m      8\u001B[0m \u001B[1;33m\u001B[0m\u001B[0m\n",
      "\u001B[1;31mValueError\u001B[0m: operands could not be broadcast together with shapes (2,3) (3,3) "
     ]
    }
   ],
   "source": [
    "# a = np.array([[1,1,1],[1,1,0],[1,1,1],[0,1,1,],[1,0,1],[0,1,1],[1,0,0]])\n",
    "a = np.array([[5,21,6],[11,8,62]])\n",
    "b = np.array([[1,4,2],[0,0,1],[1,0,0]])\n",
    "c = np.array([[5,6,7],[90,11,32],[5,6,19]])\n",
    "# c = b.transpose()\n",
    "np.dot(a,b)+5*c"
   ],
   "metadata": {
    "collapsed": false,
    "pycharm": {
     "name": "#%%\n"
    }
   }
  },
  {
   "cell_type": "code",
   "execution_count": 19,
   "outputs": [
    {
     "name": "stdout",
     "output_type": "stream",
     "text": [
      "fbnd a_1-b_1\n",
      "[[-9 -5]\n",
      " [-4  2]]\n"
     ]
    }
   ],
   "source": [
    "c = np.array([['f','i'],['n','p']])\n",
    "d = np.array([['d','b'],['a','-']])\n",
    "e = np.dot(a,b)\n",
    "c_1 = np.array([[1,0],[5,7]])\n",
    "c_2 = np.array([[0,1],[9,5]])\n",
    "t = c[0][0]+d[0][1]+c[1][0]+d[0][0]+' '+d[1][0]+'_'+'1'+d[1][1]+d[0][1]+'_'+'1'\n",
    "print(t)\n",
    "print(c_1-c_2)"
   ],
   "metadata": {
    "collapsed": false,
    "pycharm": {
     "name": "#%%\n"
    }
   }
  },
  {
   "cell_type": "code",
   "execution_count": 6,
   "outputs": [
    {
     "data": {
      "text/plain": "array([[16,  0],\n       [10, 12]])"
     },
     "execution_count": 6,
     "metadata": {},
     "output_type": "execute_result"
    }
   ],
   "source": [
    "s = np.array([ [[1,2],[3,4]],[[5,6],[7,8]],[[9,10],[11,12]] ])\n",
    "m = np.array([ [[-2,-2],[3,14]],[[15,-2],[7,8]],[[29,10],[21,32]] ])\n",
    "l = s[0]+m[1]\n",
    "l"
   ],
   "metadata": {
    "collapsed": false,
    "pycharm": {
     "name": "#%%\n"
    }
   }
  },
  {
   "cell_type": "code",
   "execution_count": 10,
   "outputs": [
    {
     "ename": "ValueError",
     "evalue": "shapes (2,1) and (2,1) not aligned: 1 (dim 1) != 2 (dim 0)",
     "output_type": "error",
     "traceback": [
      "\u001B[1;31m---------------------------------------------------------------------------\u001B[0m",
      "\u001B[1;31mValueError\u001B[0m                                Traceback (most recent call last)",
      "\u001B[1;32m~\\AppData\\Local\\Temp/ipykernel_14120/1684487096.py\u001B[0m in \u001B[0;36m<module>\u001B[1;34m\u001B[0m\n\u001B[0;32m      1\u001B[0m \u001B[0mc_2\u001B[0m \u001B[1;33m=\u001B[0m \u001B[0mnp\u001B[0m\u001B[1;33m.\u001B[0m\u001B[0marray\u001B[0m\u001B[1;33m(\u001B[0m\u001B[1;33m[\u001B[0m\u001B[1;33m[\u001B[0m\u001B[1;36m3\u001B[0m\u001B[1;33m]\u001B[0m\u001B[1;33m,\u001B[0m\u001B[1;33m[\u001B[0m\u001B[1;36m2\u001B[0m\u001B[1;33m]\u001B[0m\u001B[1;33m]\u001B[0m\u001B[1;33m)\u001B[0m\u001B[1;33m\u001B[0m\u001B[1;33m\u001B[0m\u001B[0m\n\u001B[0;32m      2\u001B[0m \u001B[0mc_3\u001B[0m \u001B[1;33m=\u001B[0m \u001B[0mnp\u001B[0m\u001B[1;33m.\u001B[0m\u001B[0marray\u001B[0m\u001B[1;33m(\u001B[0m\u001B[1;33m[\u001B[0m\u001B[1;33m[\u001B[0m\u001B[1;36m2\u001B[0m\u001B[1;33m]\u001B[0m\u001B[1;33m,\u001B[0m\u001B[1;33m[\u001B[0m\u001B[1;36m3\u001B[0m\u001B[1;33m]\u001B[0m\u001B[1;33m]\u001B[0m\u001B[1;33m)\u001B[0m\u001B[1;33m\u001B[0m\u001B[1;33m\u001B[0m\u001B[0m\n\u001B[1;32m----> 3\u001B[1;33m \u001B[0mnp\u001B[0m\u001B[1;33m.\u001B[0m\u001B[0mdot\u001B[0m\u001B[1;33m(\u001B[0m\u001B[0mc_2\u001B[0m\u001B[1;33m,\u001B[0m\u001B[0mc_3\u001B[0m\u001B[1;33m)\u001B[0m\u001B[1;33m\u001B[0m\u001B[1;33m\u001B[0m\u001B[0m\n\u001B[0m",
      "\u001B[1;32m<__array_function__ internals>\u001B[0m in \u001B[0;36mdot\u001B[1;34m(*args, **kwargs)\u001B[0m\n",
      "\u001B[1;31mValueError\u001B[0m: shapes (2,1) and (2,1) not aligned: 1 (dim 1) != 2 (dim 0)"
     ]
    }
   ],
   "source": [
    "c_2 = np.array([[3],[2]])\n",
    "c_3 = np.array([[2],[3]])\n",
    "np.dot(c_2,c_3)"
   ],
   "metadata": {
    "collapsed": false,
    "pycharm": {
     "name": "#%%\n"
    }
   }
  },
  {
   "cell_type": "code",
   "execution_count": 13,
   "outputs": [
    {
     "data": {
      "text/plain": "array([[18,  9, 26],\n       [ 9,  5, 14],\n       [26, 14, 45]])"
     },
     "execution_count": 13,
     "metadata": {},
     "output_type": "execute_result"
    }
   ],
   "source": [
    "a = np.array([[1,1,4],[1,0,2],[4,2,5]])\n",
    "b = a.transpose()\n",
    "c = np.dot(a,b)\n",
    "c"
   ],
   "metadata": {
    "collapsed": false,
    "pycharm": {
     "name": "#%%\n"
    }
   }
  },
  {
   "cell_type": "code",
   "execution_count": 2,
   "outputs": [
    {
     "ename": "TypeError",
     "evalue": "list indices must be integers or slices, not list",
     "output_type": "error",
     "traceback": [
      "\u001B[1;31m---------------------------------------------------------------------------\u001B[0m",
      "\u001B[1;31mTypeError\u001B[0m                                 Traceback (most recent call last)",
      "\u001B[1;32m~\\AppData\\Local\\Temp/ipykernel_15048/634107257.py\u001B[0m in \u001B[0;36m<module>\u001B[1;34m\u001B[0m\n\u001B[0;32m     88\u001B[0m \u001B[1;32mimport\u001B[0m \u001B[0mrandom\u001B[0m\u001B[1;33m\u001B[0m\u001B[1;33m\u001B[0m\u001B[0m\n\u001B[0;32m     89\u001B[0m \u001B[0ma\u001B[0m \u001B[1;33m=\u001B[0m \u001B[0mrandom\u001B[0m\u001B[1;33m.\u001B[0m\u001B[0msample\u001B[0m\u001B[1;33m(\u001B[0m\u001B[0mrange\u001B[0m\u001B[1;33m(\u001B[0m\u001B[1;33m-\u001B[0m\u001B[1;36m1\u001B[0m\u001B[1;33m,\u001B[0m\u001B[1;36m61\u001B[0m\u001B[1;33m)\u001B[0m\u001B[1;33m,\u001B[0m \u001B[1;36m62\u001B[0m\u001B[1;33m)\u001B[0m\u001B[1;33m\u001B[0m\u001B[1;33m\u001B[0m\u001B[0m\n\u001B[1;32m---> 90\u001B[1;33m \u001B[0mprint\u001B[0m\u001B[1;33m(\u001B[0m\u001B[0mquestions\u001B[0m\u001B[1;33m[\u001B[0m\u001B[0ma\u001B[0m\u001B[1;33m]\u001B[0m\u001B[1;33m)\u001B[0m\u001B[1;33m\u001B[0m\u001B[1;33m\u001B[0m\u001B[0m\n\u001B[0m",
      "\u001B[1;31mTypeError\u001B[0m: list indices must be integers or slices, not list"
     ]
    }
   ],
   "source": [
    "old_questions = [\n",
    "    # 'What is the definition of the following words?: Subset, Empty set, Complement',\n",
    "    # 'What are the two types of events and how are they determined?',\n",
    "    # 'What is the conditional probability used for and what does it determine?',\n",
    "    'Given that P(A│B)>P(B│A) what is the relationship between P(A) and P(B).',\n",
    "    'What is the conditional probability formula?',\n",
    "    'What is the additive law denoted as?',\n",
    "    'What is the multiplication rule denoted as?',\n",
    "    'Formula for the expected value, variance and probability of possible of the Binomial, Uniform, Poisson,students t.',\n",
    "    'What is the value that is included in an exponential distribution',\n",
    "    'What characteristics are shown in the CDF of a exponential distribution',\n",
    "    # 'What is are independent and dependent events denoted as.',\n",
    "    # 'What is the formula for the law of total probability?',\n",
    "    # 'What is the additive law used for?',\n",
    "    # 'What is the multiplication rule used for?',\n",
    "    # 'What is bayes theorem used to calculate',\n",
    "    # 'What is the formula for Bayes theorem?',\n",
    "    # 'In what field is bayes theorem used in.',\n",
    "    # 'What are the two types of distributions and their features?',\n",
    "    # 'How is the type of distribution noted?',\n",
    "    # 'What is the definition of equiprobable?',\n",
    "    # 'What are the features of a Bernoulli Distribution?',\n",
    "    # 'What are the features of a Binomial distribution?',\n",
    "    # 'What are the features of a Poisson distribution?',\n",
    "    # 'How is the binomial, bernoulli, logistic, Poisson, exponential, chi-squared, students t and uniform distribution denoted?',\n",
    "    # 'What is included in the brackets when denoting the previous distributions?',\n",
    "    # 'How does the graph between a discrete and continuous distribution differ?',\n",
    "    # 'Where is the normal distribution usually seen?',\n",
    "    # 'What is the formula for standardization?',\n",
    "    # 'What is the main difference between the students t distribution and normal distribution?',\n",
    "    # 'When is the students t distribution used?',\n",
    "    # 'How is the chi squared distribution calculated?',\n",
    "    # 'What are the features of the chi squared distribution?',\n",
    "    # 'What are the features of the exponential distribution?',\n",
    "    # 'What are the features of the logistic distribution?',\n",
    "    # 'What is a logistic distribution used for?',\n",
    "    # 'What is graph called that represents the distribution of the probability called.',\n",
    "    # 'What is the curve that is created when using a continuous distribution?',\n",
    "    # 'Explain the reasoning behind the notation: P(x>X)=P(x≥X)',\n",
    "    # 'What is the cumulative distribution function?',\n",
    "    # 'What do the following values equate to on a CDF: F(-∞),F(∞)',\n",
    "    # 'What is the 68,95,99.7 rule?',\n",
    "    # 'How is the variability calculated when the variability is not given in a normal distribution?',\n",
    "    # 'How does dividing/ multiplying the affect a normal distribution',\n",
    "    # 'How does summation affect the graph?',\n",
    "    # 'What is a standard Normal distribution?',\n",
    "    # 'If E (y=μ+2.3σ) when not standardized what will the value equal to when standardized.',\n",
    "    # 'What is the formula for variance for a student’s t distribution?',\n",
    "    # 'What is the chi-squared distribution used for?',\n",
    "    # 'How is the expected value and variance calculated for the chi squared distribution?',\n",
    "    # 'What value does the chi squared distribution start from',\n",
    "    # 'What is the chi-squared distribution used for in the real world?',\n",
    "    # 'What distribution do you get when square rooting the chi squared distribution?',\n",
    "    # 'What are the characteristics of the exponential distribution?',\n",
    "    # 'What is the formula for the expected value and the variance for the exponential distribution',\n",
    "    # 'What is one of the most common distributions',\n",
    "    # 'And how is it transformed into a _____ distribution.',\n",
    "    # 'What values are recorded in the logistic distribution',\n",
    "    # 'What is the logistic distribution useful for.',\n",
    "    # 'What does the CDF of a logistic distribution tell us.',\n",
    "    # 'What is the formula for the expected value and variance for a logistic distribution.',\n",
    "    # 'What is the formula for the expected value and variance of a poisson distribution.'\n",
    "    ]\n",
    "questions = [\n",
    "    'Given that P(A│B)>P(B│A) what is the relationship between P(A) and P(B).',\n",
    "    'What is the conditional probability formula?',\n",
    "    'What is the additive law denoted as?',\n",
    "    'What is the multiplication rule denoted as?',\n",
    "    'Formula for the expected value, variance and probability of possible of the Binomial, Uniform, Poisson,students t.',\n",
    "    'What is the value that is included in an exponential distribution',\n",
    "    'What characteristics are shown in the CDF of a exponential distribution',\n",
    "    'What is the formula for variations, permutations and combinations with and without repetition.',\n",
    "    'How are the following denoted and what do they mean: Intersection, Union, mutually exclusive.',\n",
    "    'Given that you draw two cards from a standard deck of cards. Find the probability of getting a spade on the first turn or the second turn.',\n",
    "    'We have three similar bags B1, B2 and B3 containing 4 balls each. B1 contains 2 red and 2 blue balls, B2 contains 3 red and 1 blue ball and B3 contains 1 red and 3 blue balls. One bag is selected at random, and a ball is selected at random from that bag. What is the probability that the ball is red?',\n",
    "    'Students in a math class where 40% are males and 60% are females took a test. 50% of the males and 70% of the females passed the test. What percent of students passed the test?',\n",
    "    'Three factories produce the same tool and supply it to the market. Factory A produces 30% of the tools for the market and the remaining 70% of the tools are produced in factories B and C. 98% of the tools produced in factory A, 95% of the tools produced in factory B and 97% of the tools produced in factory C are not defective. What percent of tools should be produced by factories B and C so that a tool picked at random in the market will have a probability of being non defective equal to 96%?',\n",
    "    'Five percent of a population have a flu and the remaining 95% do not have this flu. A test is used to detect the flu and this test is positive in 95% of people with a flu and is also (falsely) positive in 1% of the people with no flu. If a person from this population is randomly selected and tested, what is the probability that the test is positive?',\n",
    "    'On New Years Eve, the probability of a person having a car accident is 0.09. The probability of a person driving while intoxicated is 0.32 and probability of a person having a car accident while intoxicated is 0.15. What is the probability of a person driving while intoxicated or having a car accident?'\n",
    "    'A basketball player takes 4 independent free throws with a probability of 0.7 of getting a basket on each shot. Let X = the number of baskets he gets. Write out the full probability distribution for X.',\n",
    "    'If a basketball player takes 8 independent free throws, with a probability of 0.7 of getting a basket on each shot, what is the probability that she gets exactly 6 baskets?, What is the expected number of baskets that she gets?'\n",
    "    'A student is given a multiple choice exam with 10 questions, each question with five possible answers. He guesses randomly for each question. What’s P(he will get exactly 6 questions correct)? What is the probability he will get at least 6? What is the expected number of correct answers, and what’s the standard deviation?',\n",
    "    'Suppose that the voting population in Utopia is 300 million and 60% of the voting population intend to vote for Melinda McNulty in the next election. We take a random sample of size 100 from the same voting population and ask each person chosen whether they will vote for Melinda McNulty in the next election or not. Let X be the number of Yesses in our sample. The possible values of X (the number of successes) are 0, 1, 2, 3, · · · , 100. n = 100, p = 0.6, q = 1 − p = 0.4. Calculate the following: (a) What is P(X = 60)? (b) What is P(X 6 20)? (c) What is P(X > 70)? (d) What is P(X < 50)? (e) What is P(50 6 X 6 60)?'\n",
    "\n",
    "]\n",
    "\n",
    "b = 1\n",
    "import random\n",
    "a = random.sample(range(-1,61), 62)\n",
    "print(questions[a])"
   ],
   "metadata": {
    "collapsed": false,
    "pycharm": {
     "name": "#%%\n"
    }
   }
  }
 ],
 "metadata": {
  "kernelspec": {
   "display_name": "Python 3",
   "language": "python",
   "name": "python3"
  },
  "language_info": {
   "codemirror_mode": {
    "name": "ipython",
    "version": 2
   },
   "file_extension": ".py",
   "mimetype": "text/x-python",
   "name": "python",
   "nbconvert_exporter": "python",
   "pygments_lexer": "ipython2",
   "version": "2.7.6"
  }
 },
 "nbformat": 4,
 "nbformat_minor": 0
}