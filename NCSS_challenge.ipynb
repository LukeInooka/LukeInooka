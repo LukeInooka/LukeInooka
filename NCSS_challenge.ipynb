{
 "cells": [
  {
   "cell_type": "code",
   "execution_count": 10,
   "metadata": {
    "collapsed": false,
    "pycharm": {
     "name": "#%%\n"
    }
   },
   "outputs": [
    {
     "name": "stdout",
     "output_type": "stream",
     "text": [
      "a\n",
      "b\n",
      "c\n",
      "Fantastic! Keep looking for ferns!\n"
     ]
    }
   ],
   "source": [
    "plant = input('Which plant did you survey? ').lower()\n",
    "c = int(input('Count: '))\n",
    "a = 0\n",
    "fern = False\n",
    "for letter in plant.lower():\n",
    "    if letter == 'f' and a < len(plant)-3:\n",
    "        if plant[a+1] == 'e':\n",
    "            print('a')\n",
    "            if plant[a+2] == 'r':\n",
    "                print('b')\n",
    "                if plant [a+3] == 'n':\n",
    "                    print('c')\n",
    "                    fern = True\n",
    "    a +=1\n",
    "if fern:\n",
    "    print('Fantastic! Keep looking for ferns!')\n",
    "else:\n",
    "    if int(c) < 6:\n",
    "        print(\"That's low. We'll put\",plant.lower(), \"on the watch list.\")\n",
    "    else:\n",
    "        print(\"Great! Recorded\", c, plant,end=\"\" \"s in this area.\")"
   ]
  },
  {
   "cell_type": "code",
   "execution_count": 1,
   "outputs": [
    {
     "name": "stdout",
     "output_type": "stream",
     "text": [
      "26:\n",
      "27:\n",
      "28:\n",
      "29:\n",
      "30:\n",
      "31:\n",
      "32:\n",
      "33:\n",
      "34:\n",
      "35:\n",
      "36:\n",
      "37:\n",
      "38:\n",
      "39:\n",
      "40:\n",
      "41:\n",
      "42:\n",
      "43:\n",
      "44:\n",
      "45:\n",
      "46:\n",
      "47:\n",
      "48:\n",
      "49:\n",
      "50:\n",
      "51:\n",
      "52:\n",
      "53:\n",
      "54:\n",
      "55:\n",
      "56:\n",
      "57:\n",
      "58:\n",
      "59:\n",
      "60:\n",
      "61:\n",
      "62:\n",
      "63:\n",
      "64:\n",
      "65:\n",
      "66:\n",
      "67:\n",
      "68:\n",
      "69:\n",
      "70:\n",
      "71:\n",
      "72:\n",
      "73:\n",
      "74:\n",
      "75:\n",
      "76:\n",
      "77:\n",
      "78:\n",
      "79:\n",
      "80:\n",
      "81:\n",
      "82:\n",
      "83:\n",
      "84:\n",
      "85:\n",
      "86:\n",
      "87:\n",
      "88:\n",
      "89:\n",
      "90:\n",
      "91:\n",
      "92:\n",
      "93:\n",
      "94:\n",
      "95:\n",
      "96:\n",
      "97:\n",
      "98:\n",
      "99:\n",
      "100:\n",
      "101:\n",
      "102:\n",
      "103:\n",
      "104:\n",
      "105:\n",
      "106:\n",
      "107:\n",
      "108:\n",
      "109:\n",
      "110:\n",
      "111:\n",
      "112:\n",
      "113:\n",
      "114:\n",
      "115:\n",
      "116:\n",
      "117:\n",
      "118:\n",
      "119:\n",
      "120:\n",
      "121:\n",
      "122:\n",
      "123:\n",
      "124:\n",
      "125:\n",
      "126:\n",
      "127:\n",
      "128:\n",
      "129:\n",
      "130:\n",
      "131:\n",
      "132:\n",
      "133:\n",
      "134:\n",
      "135:\n",
      "136:\n",
      "137:\n",
      "138:\n",
      "139:\n",
      "140:\n",
      "141:\n",
      "142:\n",
      "143:\n",
      "144:\n",
      "145:\n",
      "146:\n",
      "147:\n",
      "148:\n",
      "149:\n",
      "150:\n",
      "151:\n",
      "152:\n",
      "153:\n",
      "154:\n",
      "155:\n",
      "156:\n",
      "157:\n",
      "158:\n",
      "159:\n",
      "160:\n",
      "161:\n",
      "162:\n",
      "163:\n",
      "164:\n",
      "165:\n",
      "166:\n",
      "167:\n",
      "168:\n",
      "169:\n",
      "170:\n",
      "171:\n",
      "172:\n",
      "173:\n",
      "174:\n",
      "175:\n",
      "176:\n",
      "177:\n",
      "178:\n",
      "179:\n"
     ]
    }
   ],
   "source": [
    "for i in range(26,180):\n"
   ],
   "metadata": {
    "collapsed": false,
    "pycharm": {
     "name": "#%%\n"
    }
   }
  },
  {
   "cell_type": "code",
   "execution_count": 17,
   "metadata": {
    "collapsed": false,
    "pycharm": {
     "name": "#%%\n"
    }
   },
   "outputs": [
    {
     "name": "stdout",
     "output_type": "stream",
     "text": [
      "asdf on sale for $1146.65.\n"
     ]
    }
   ],
   "source": [
    "def sale_price(original, discount):\n",
    "    # Calculate the sale price here.\n",
    "    return round((1-discount/100)*original,2)\n",
    "# Write the rest of your program here\n",
    "name = input(\"Product: \")\n",
    "og = float(input(\"Original price ($): \"))\n",
    "disc = int(input(\"Discount (%): \"))\n",
    "print(name, 'on sale for $'+str(sale_price(og,disc))+'.')"
   ]
  },
  {
   "cell_type": "code",
   "execution_count": 22,
   "metadata": {
    "collapsed": false,
    "pycharm": {
     "name": "#%%\n"
    }
   },
   "outputs": [
    {
     "name": "stdout",
     "output_type": "stream",
     "text": [
      "Crikey it's cold!\n"
     ]
    }
   ],
   "source": [
    "def to_celsius(f):\n",
    "# Calculate the temperature in Celsius\n",
    "    return round((f-32)*(5/9),1)\n",
    "\n",
    "# Write the rest of your program here\n",
    "words = [\"Crikey it's cold!\",\"Getting a bit nippy!\",\"You beaut beach weather!\",\"Strewth, it's a scorcher!\"]\n",
    "temp = to_celsius(float(input(\"Temp (F): \")))\n",
    "if temp < 5:\n",
    "    print(temp,words[0])\n",
    "elif 5 <= temp <20:\n",
    "    print(temp,words[1])\n",
    "elif 20 <= temp < 35:\n",
    "    print(words[2])\n",
    "else:\n",
    "    print(words[4])"
   ]
  },
  {
   "cell_type": "code",
   "execution_count": 1,
   "metadata": {
    "collapsed": false,
    "pycharm": {
     "name": "#%%\n"
    }
   },
   "outputs": [
    {
     "name": "stdout",
     "output_type": "stream",
     "text": [
      "Haloumi is a cheese!\n"
     ]
    }
   ],
   "source": [
    "cheeses = ['Cheddar', 'Bocconcini', 'Haloumi', 'Paneer', 'Gorgonzola', 'Mozzarella', 'Parmesan', 'Brie', 'Gruyere']\n",
    "answer = input('Cheese: ')\n",
    "if answer in cheeses:\n",
    "    print(f'{answer} is a cheese!')\n",
    "else:\n",
    "    print(f'{answer} might not be a cheese.')"
   ]
  },
  {
   "cell_type": "code",
   "execution_count": 2,
   "metadata": {
    "collapsed": false,
    "pycharm": {
     "name": "#%%\n"
    }
   },
   "outputs": [
    {
     "name": "stdout",
     "output_type": "stream",
     "text": [
      "Announcing the national Totally Tea tour!\n",
      "Visiting these cities...\n",
      "🏙️ Manchester\n",
      "🏙️ Bristol\n",
      "🏙️ Canterbury\n",
      "Get excited for Totally Tea!\n"
     ]
    }
   ],
   "source": [
    "\n",
    "name = input('Tour name: ')\n",
    "cities = input('Cities: ')\n",
    "print(f'Announcing the national {name} tour!\\nVisiting these cities...')\n",
    "for city in cities.split(' '):\n",
    "    print(f'🏙️ {city}')\n",
    "print(f'Get excited for {name}!')"
   ]
  },
  {
   "cell_type": "code",
   "execution_count": 35,
   "metadata": {
    "collapsed": false,
    "pycharm": {
     "name": "#%%\n"
    }
   },
   "outputs": [
    {
     "name": "stdout",
     "output_type": "stream",
     "text": [
      "111 x [ ] = 333\n",
      "111 x [ ] = 444\n",
      "111 x [ ] = 555\n",
      "111 x [ ] = 666\n",
      "111 x [ ] = 777\n",
      "111 x [ ] = 888\n",
      "111 x [ ] = 999\n",
      "111 x [ ] = 1110\n",
      "111 x [ ] = 1221\n",
      "111 x [ ] = 1332\n"
     ]
    }
   ],
   "source": [
    "times = int(input('Times table: '))\n",
    "step = int(input('Step: '))\n",
    "for i in range(3,13):\n",
    "    if i==3:\n",
    "        print(f'{times} x [ ] = {times*i}')\n",
    "    if (i -3)%step ==0:\n",
    "        if i+step<13:\n",
    "            print(f'{times} x [ ] = {times*(i+step)}')"
   ]
  },
  {
   "cell_type": "code",
   "execution_count": 39,
   "metadata": {
    "collapsed": false,
    "pycharm": {
     "name": "#%%\n"
    }
   },
   "outputs": [
    {
     "name": "stdout",
     "output_type": "stream",
     "text": [
      "11 is a Primean  citizen.\n",
      "-7 is a Minutian  citizen.\n",
      "-420 is a Pentadian Minutian Disiphine  citizen.\n",
      "55 is a Pentadian  citizen.\n",
      "Free numbers: 2\n"
     ]
    }
   ],
   "source": [
    "primeans = [2, 3, 5, 7, 11, 13, 17, 19, 23, 29, 31, 37, 41, 43, 47, 53, 59, 61, 67, 71, 73, 79, 83, 89, 97, 101, 103, 107, 109, 113, 127, 131, 137, 139, 149, 151, 157, 163, 167, 173, 179, 181, 191, 193, 197, 199, 211, 223, 227, 229, 233, 239, 241, 251, 257, 263, 269, 271, 277, 281, 283, 293, 307, 311, 313, 317, 331, 337, 347, 349, 353, 359, 367, 373, 379, 383, 389, 397, 401, 409, 419, 421, 431, 433, 439, 443, 449, 457, 461, 463, 467, 479, 487, 491, 499, 503, 509, 521, 523, 541]\n",
    "\n",
    "def check_domain(number):\n",
    "    domains = ''\n",
    "    number = int(number)\n",
    "    if number % 5 == 0:\n",
    "        domains = domains + 'Pentadian '\n",
    "    # Check if it belongs to other domains after this\n",
    "    if number < 0:\n",
    "        domains = domains + 'Minutian '\n",
    "    for num in str(number):\n",
    "        if str(num) =='2':\n",
    "            domains = domains + 'Disiphine '\n",
    "            break\n",
    "    if number in primeans:\n",
    "        domains = domains + 'Primean '\n",
    "    # if domains == ' ':\n",
    "    return domains\n",
    "# Write the rest of your program after this\n",
    "empty = False\n",
    "codes = input('Enter numbers: ')\n",
    "if len(codes) == 0:\n",
    "    empty = True\n",
    "free = 0\n",
    "if not empty:\n",
    "    codes = list(codes.split(' '))\n",
    "    for numb in codes:\n",
    "        citizen = check_domain(int(numb))\n",
    "        if len(citizen)<2:\n",
    "            free += 1\n",
    "        else:\n",
    "            print(f'{numb} is a {citizen} citizen.')\n",
    "    if not empty:\n",
    "        print(f'Free numbers: {free}')"
   ]
  },
  {
   "cell_type": "code",
   "execution_count": 34,
   "metadata": {
    "collapsed": false,
    "pycharm": {
     "name": "#%%\n"
    }
   },
   "outputs": [
    {
     "name": "stdout",
     "output_type": "stream",
     "text": [
      "1 ['']\n"
     ]
    }
   ],
   "source": [
    "codes = list(input('Enter numbers: ').split(' '))\n",
    "print(len(codes),codes)"
   ]
  },
  {
   "cell_type": "code",
   "execution_count": 35,
   "metadata": {
    "collapsed": false,
    "pycharm": {
     "name": "#%%\n"
    }
   },
   "outputs": [
    {
     "data": {
      "text/plain": [
       "0"
      ]
     },
     "execution_count": 35,
     "metadata": {},
     "output_type": "execute_result"
    }
   ],
   "source": [
    "codes = input('Enter numbers: ')\n",
    "len(codes)"
   ]
  },
  {
   "cell_type": "code",
   "execution_count": 7,
   "metadata": {
    "collapsed": false,
    "pycharm": {
     "name": "#%%\n"
    }
   },
   "outputs": [
    {
     "name": "stdout",
     "output_type": "stream",
     "text": [
      "The presents you can afford are:\n",
      "Phone case\n",
      "Oodie\n",
      "Phone recharge\n",
      "Earrings\n",
      "Spotify subscription\n",
      "Big Toblerone\n",
      "Volleyball\n",
      "Fitbit\n",
      "Harry Potter box set\n",
      "New Chucks\n"
     ]
    }
   ],
   "source": [
    "wishlist = {'PS5': 750, 'Phone case': 30, 'Oodie': 90, 'LEGO Hogwarts Castle': 650, 'JBL Headphones': 130, 'Drum kit': 520, 'Phone recharge': 30, 'Earrings': 110, 'Spotify subscription': 60, 'Hockey stick': 130, 'Big Toblerone': 16, 'Volleyball': 90, 'Fitbit': 99, 'Harry Potter box set': 65, 'New Chucks': 70}\n",
    "budget = int(input('How much money do you have to spend? '))\n",
    "print('The presents you can afford are:')\n",
    "for object in wishlist.keys():\n",
    "    if wishlist[object] <= budget:\n",
    "        print(object)"
   ]
  },
  {
   "cell_type": "code",
   "execution_count": 2,
   "metadata": {
    "collapsed": false,
    "pycharm": {
     "name": "#%%\n"
    }
   },
   "outputs": [
    {
     "name": "stdout",
     "output_type": "stream",
     "text": [
      "Nick recommended SypherPK\n",
      "Lily recommended AuronPlay\n",
      "Someone else already recommended that.\n",
      "Max recommended DrLipo\n",
      " recommended \n",
      "a recommended f\n",
      "Playlist complete! Subscribe to:\n",
      "SypherPK: recommended by Nick\n",
      "AuronPlay: recommended by Lily\n",
      "DrLipo: recommended by Max\n",
      ": recommended by \n",
      "f: recommended by a\n"
     ]
    }
   ],
   "source": [
    "reccomendations = {}\n",
    "\n",
    "while len(reccomendations) < 5:\n",
    "    friend = input('Friend: ')\n",
    "    streamer = input('Which stream did they recommend? ')\n",
    "    if streamer not in reccomendations.keys():\n",
    "        print(f'{friend} recommended {streamer}')\n",
    "        reccomendations[streamer] = friend\n",
    "    else:\n",
    "        print('Someone else already recommended that.')\n",
    "print('Playlist complete! Subscribe to:')\n",
    "for object in reccomendations.keys():\n",
    "    print(f'{object}: recommended by {reccomendations[object]}')"
   ]
  },
  {
   "cell_type": "code",
   "execution_count": 12,
   "metadata": {
    "collapsed": false,
    "pycharm": {
     "name": "#%%\n"
    }
   },
   "outputs": [
    {
     "name": "stdout",
     "output_type": "stream",
     "text": [
      "Who's playing Dangerous Mafia?\n",
      "Jack's here, starting with 3 skins worth of DAM!\n",
      "Let's play!\n",
      "End of the game! Let's see how everyone did!\n",
      "Jack can buy 2 skins.\n",
      "Katelynn can buy 3 skins.\n"
     ]
    }
   ],
   "source": [
    "def buy_skins(dam):\n",
    "    # Finish the function to convert DAM to skins\n",
    "    return int(dam/40)\n",
    "print(\"Who's playing Dangerous Mafia?\")\n",
    "player_info = {}\n",
    "newp = input('Name: ')\n",
    "while len(newp) != 0:\n",
    "    starting = int(input('Starting number of DAM: '))\n",
    "    player_info[newp] = starting\n",
    "    print(f\"{newp}'s here, starting with {buy_skins(starting)} skins worth of DAM!\")\n",
    "    newp = input('Name: ')\n",
    "print(\"Let's play!\")\n",
    "playturn = input('Who played? ')\n",
    "while len(playturn) !=0:\n",
    "    change = int(input('DAM won/lost: '))\n",
    "    if playturn not in player_info.keys():\n",
    "        player_info[playturn] = change\n",
    "    else:\n",
    "        player_info[playturn] = (player_info[playturn]+change)\n",
    "    playturn = input('Who played? ')\n",
    "print(\"End of the game! Let's see how everyone did!\")\n",
    "for person in player_info.keys():\n",
    "    print(f'{person} can buy {buy_skins(player_info[person])} skins.')"
   ]
  },
  {
   "cell_type": "code",
   "execution_count": 11,
   "metadata": {
    "collapsed": false,
    "pycharm": {
     "name": "#%%\n"
    }
   },
   "outputs": [
    {
     "data": {
      "text/plain": [
       "{'Luke': 600, 'Rishab': 200, 'Harry': 400}"
      ]
     },
     "execution_count": 11,
     "metadata": {},
     "output_type": "execute_result"
    }
   ],
   "source": [
    "player_info"
   ]
  },
  {
   "cell_type": "code",
   "execution_count": 17,
   "metadata": {
    "collapsed": false,
    "pycharm": {
     "name": "#%%\n"
    }
   },
   "outputs": [
    {
     "ename": "UnicodeDecodeError",
     "evalue": "'charmap' codec can't decode byte 0x9d in position 1528: character maps to <undefined>",
     "output_type": "error",
     "traceback": [
      "\u001B[1;31m---------------------------------------------------------------------------\u001B[0m",
      "\u001B[1;31mUnicodeDecodeError\u001B[0m                        Traceback (most recent call last)",
      "\u001B[1;32m~\\AppData\\Local\\Temp/ipykernel_9380/208083381.py\u001B[0m in \u001B[0;36m<module>\u001B[1;34m\u001B[0m\n\u001B[0;32m      2\u001B[0m \u001B[0mfilename\u001B[0m \u001B[1;33m=\u001B[0m \u001B[0minput\u001B[0m\u001B[1;33m(\u001B[0m\u001B[1;34m'Speech file: '\u001B[0m\u001B[1;33m)\u001B[0m\u001B[1;33m\u001B[0m\u001B[1;33m\u001B[0m\u001B[0m\n\u001B[0;32m      3\u001B[0m \u001B[1;32mwith\u001B[0m \u001B[0mopen\u001B[0m\u001B[1;33m(\u001B[0m\u001B[0mfilename\u001B[0m\u001B[1;33m,\u001B[0m\u001B[1;34m'r'\u001B[0m\u001B[1;33m)\u001B[0m \u001B[1;32mas\u001B[0m \u001B[0mfile\u001B[0m\u001B[1;33m:\u001B[0m\u001B[1;33m\u001B[0m\u001B[1;33m\u001B[0m\u001B[0m\n\u001B[1;32m----> 4\u001B[1;33m     \u001B[0mcontents\u001B[0m \u001B[1;33m=\u001B[0m \u001B[0mfile\u001B[0m\u001B[1;33m.\u001B[0m\u001B[0mread\u001B[0m\u001B[1;33m(\u001B[0m\u001B[1;33m)\u001B[0m\u001B[1;33m\u001B[0m\u001B[1;33m\u001B[0m\u001B[0m\n\u001B[0m\u001B[0;32m      5\u001B[0m \u001B[0mcontents\u001B[0m \u001B[1;33m=\u001B[0m \u001B[0mstr\u001B[0m\u001B[1;33m(\u001B[0m\u001B[0mcontents\u001B[0m\u001B[1;33m)\u001B[0m\u001B[1;33m\u001B[0m\u001B[1;33m\u001B[0m\u001B[0m\n\u001B[0;32m      6\u001B[0m \u001B[0mnew\u001B[0m \u001B[1;33m=\u001B[0m \u001B[0mcontents\u001B[0m\u001B[1;33m.\u001B[0m\u001B[0mstrip\u001B[0m\u001B[1;33m(\u001B[0m\u001B[1;33m)\u001B[0m\u001B[1;33m\u001B[0m\u001B[1;33m\u001B[0m\u001B[0m\n",
      "\u001B[1;32m~\\anaconda3\\lib\\encodings\\cp1252.py\u001B[0m in \u001B[0;36mdecode\u001B[1;34m(self, input, final)\u001B[0m\n\u001B[0;32m     21\u001B[0m \u001B[1;32mclass\u001B[0m \u001B[0mIncrementalDecoder\u001B[0m\u001B[1;33m(\u001B[0m\u001B[0mcodecs\u001B[0m\u001B[1;33m.\u001B[0m\u001B[0mIncrementalDecoder\u001B[0m\u001B[1;33m)\u001B[0m\u001B[1;33m:\u001B[0m\u001B[1;33m\u001B[0m\u001B[1;33m\u001B[0m\u001B[0m\n\u001B[0;32m     22\u001B[0m     \u001B[1;32mdef\u001B[0m \u001B[0mdecode\u001B[0m\u001B[1;33m(\u001B[0m\u001B[0mself\u001B[0m\u001B[1;33m,\u001B[0m \u001B[0minput\u001B[0m\u001B[1;33m,\u001B[0m \u001B[0mfinal\u001B[0m\u001B[1;33m=\u001B[0m\u001B[1;32mFalse\u001B[0m\u001B[1;33m)\u001B[0m\u001B[1;33m:\u001B[0m\u001B[1;33m\u001B[0m\u001B[1;33m\u001B[0m\u001B[0m\n\u001B[1;32m---> 23\u001B[1;33m         \u001B[1;32mreturn\u001B[0m \u001B[0mcodecs\u001B[0m\u001B[1;33m.\u001B[0m\u001B[0mcharmap_decode\u001B[0m\u001B[1;33m(\u001B[0m\u001B[0minput\u001B[0m\u001B[1;33m,\u001B[0m\u001B[0mself\u001B[0m\u001B[1;33m.\u001B[0m\u001B[0merrors\u001B[0m\u001B[1;33m,\u001B[0m\u001B[0mdecoding_table\u001B[0m\u001B[1;33m)\u001B[0m\u001B[1;33m[\u001B[0m\u001B[1;36m0\u001B[0m\u001B[1;33m]\u001B[0m\u001B[1;33m\u001B[0m\u001B[1;33m\u001B[0m\u001B[0m\n\u001B[0m\u001B[0;32m     24\u001B[0m \u001B[1;33m\u001B[0m\u001B[0m\n\u001B[0;32m     25\u001B[0m \u001B[1;32mclass\u001B[0m \u001B[0mStreamWriter\u001B[0m\u001B[1;33m(\u001B[0m\u001B[0mCodec\u001B[0m\u001B[1;33m,\u001B[0m\u001B[0mcodecs\u001B[0m\u001B[1;33m.\u001B[0m\u001B[0mStreamWriter\u001B[0m\u001B[1;33m)\u001B[0m\u001B[1;33m:\u001B[0m\u001B[1;33m\u001B[0m\u001B[1;33m\u001B[0m\u001B[0m\n",
      "\u001B[1;31mUnicodeDecodeError\u001B[0m: 'charmap' codec can't decode byte 0x9d in position 1528: character maps to <undefined>"
     ]
    }
   ],
   "source": [
    "import re\n",
    "filename = input('Speech file: ')\n",
    "with open(filename,'r') as file:\n",
    "    contents = file.read()\n",
    "contents = str(contents)\n",
    "new = contents.strip()\n",
    "wordslis = list(new.splitlines())\n",
    "fwords = []\n",
    "print(wordslis,len(wordslis))\n",
    "for words in wordslis:\n",
    "    print(words)\n",
    "    for word in words:\n",
    "        output = list(words.split(' '))\n",
    "        fwords.append(output)\n",
    "fwords\n",
    "# words = list(contents.split(' '))\n",
    "# print(words)\n",
    "# output = [words[word] for word in range(0,200,5)]\n",
    "# for index,char in enumerate(output):\n",
    "#     output[index] = char.strip('\\n')\n",
    "# print(output)\n",
    "# print(' '.join(output))"
   ]
  },
  {
   "cell_type": "code",
   "execution_count": 36,
   "metadata": {
    "collapsed": false,
    "pycharm": {
     "name": "#%%\n"
    }
   },
   "outputs": [
    {
     "name": "stdout",
     "output_type": "stream",
     "text": [
      "Invalid\n"
     ]
    }
   ],
   "source": [
    "number = list(input('Enter number: '))\n",
    "number.reverse()\n",
    "number2= []\n",
    "for i,num in enumerate(number):\n",
    "    if i != 0:\n",
    "        if i%2 != 0:\n",
    "            doubled = int(num)*2\n",
    "            if doubled > 9:\n",
    "                number2.append(str(doubled)[0])\n",
    "                number2.append(str(doubled)[1])\n",
    "            else:\n",
    "                number2.append(str(doubled))\n",
    "        else:\n",
    "            number2.append(num)\n",
    "total = 0\n",
    "for num in number2:\n",
    "    total += int(num)\n",
    "if (int(number[0]) + total) % 10 == 0:\n",
    "    print('Valid')\n",
    "else:\n",
    "    print('Invalid')"
   ]
  },
  {
   "cell_type": "code",
   "execution_count": 51,
   "metadata": {
    "collapsed": false,
    "pycharm": {
     "name": "#%%\n"
    }
   },
   "outputs": [
    {
     "name": "stdout",
     "output_type": "stream",
     "text": [
      "EASTS versus WESTS\n",
      "EASTS have scored 25:13\n",
      "WESTS have scored 26:38\n",
      "WESTS have scored 40:23\n",
      "WESTS have scored 42:01\n",
      "WESTS 3\n",
      "EASTS 1\n"
     ]
    }
   ],
   "source": [
    "with open('commentary.txt','r') as f:\n",
    "    file = f.read()\n",
    "scores = {file.splitlines()[0].split(' ')[0]: 0, file.splitlines()[0].split(' ')[2]: 0}\n",
    "for line in file.splitlines():\n",
    "    if line.split(' ')[1] != 'versus':\n",
    "        scores[line.split(' ')[0]] +=1\n",
    "if scores[list(scores.keys())[0]] > scores[list(scores.keys())[1]]:\n",
    "    print(f'{list(scores.keys())[0]} {scores[list(scores.keys())[0]]}\\n{list(scores.keys())[1]} {scores[list(scores.keys())[1]]}')\n",
    "else:\n",
    "    print(f'{list(scores.keys())[1]} {scores[list(scores.keys())[1]]}\\n{list(scores.keys())[0]} {scores[list(scores.keys())[0]]}')"
   ]
  },
  {
   "cell_type": "code",
   "execution_count": 62,
   "metadata": {
    "collapsed": false,
    "pycharm": {
     "name": "#%%\n"
    }
   },
   "outputs": [
    {
     "name": "stdout",
     "output_type": "stream",
     "text": [
      "foo\n",
      "rawInput\n",
      "num2words\n",
      "numToSMS\n"
     ]
    }
   ],
   "source": [
    "def to_camel(ident):\n",
    "    # TODO implement this function.\n",
    "    if '_' not in str(ident):\n",
    "        return ident\n",
    "    else:\n",
    "        words = ident.split('_')\n",
    "        final = []\n",
    "        for i,word in enumerate(words):\n",
    "            if i != 0:\n",
    "                final.append(word[0].capitalize()+word[1:])\n",
    "            else:\n",
    "                final.append(word)\n",
    "        return ''.join(final)\n",
    "\n",
    "\n",
    "\n",
    "if __name__ == '__main__':\n",
    "    # Run the example inputs in the question.\n",
    "    print(to_camel('foo'))\n",
    "    print(to_camel('raw_input'))\n",
    "    print(to_camel('num2words'))\n",
    "    print(to_camel('num_to_SMS'))\n"
   ]
  },
  {
   "cell_type": "code",
   "execution_count": 81,
   "metadata": {
    "collapsed": false,
    "pycharm": {
     "name": "#%%\n"
    }
   },
   "outputs": [
    {
     "name": "stdout",
     "output_type": "stream",
     "text": [
      "12103211000 is not autobiographical.\n"
     ]
    }
   ],
   "source": [
    "number = input('Number: ')\n",
    "autobiographical  = False\n",
    "if len(number) > 10:\n",
    "    print(f'{number} is not autobiographical.')\n",
    "else:\n",
    "    for i,num in enumerate(number):\n",
    "        n_count = str(number.count(str(i)))\n",
    "        if str(num) == n_count:\n",
    "            autobiographical = True\n",
    "    if autobiographical:\n",
    "        print(f'{number} is autobiographical.')\n",
    "    else:\n",
    "        print(f'{number} is not autobiographical.')"
   ]
  },
  {
   "cell_type": "code",
   "execution_count": 75,
   "outputs": [
    {
     "name": "stdout",
     "output_type": "stream",
     "text": [
      "['slph', 'slph']\n"
     ]
    }
   ],
   "source": [
    "the_list = ['SLPHA','SLPHA']\n",
    "word_list = []\n",
    "for word in the_list:\n",
    "    old_word = word\n",
    "    if 'a' in word.lower():\n",
    "        word = word.lower().replace('a','')\n",
    "    if ' e' in word.lower():\n",
    "        word = word.lower().replace('e','')\n",
    "    if 'i' in word.lower():\n",
    "        word = word.lower().replace('i','')\n",
    "    if 'o' in word.lower():\n",
    "        word = word.lower().replace('o','')\n",
    "    if 'u' in word.lower():\n",
    "        word = word.lower().replace('u','')\n",
    "    word_list.append((old_word,word))\n",
    "\n",
    "word_list.sort(key=lambda pair:pair[1])\n",
    "\n",
    "final_list = []\n",
    "for i in word_list:\n",
    "    final_list.append(i[1])\n",
    "print(final_list)"
   ],
   "metadata": {
    "collapsed": false,
    "pycharm": {
     "name": "#%%\n"
    }
   }
  },
  {
   "cell_type": "code",
   "execution_count": 40,
   "outputs": [
    {
     "name": "stdout",
     "output_type": "stream",
     "text": [
      "1984: Alex, Jacqui, Stephen, Una\n",
      "Animal Farm: Alex, Paula, Stephen\n",
      "Catch-22: Kenny, Una\n",
      "Gone With the Wind: Alex, Jacqui, Kenny, Paula, Una\n"
     ]
    }
   ],
   "source": [
    "user = ' '\n",
    "record = {}\n",
    "friends_list = []\n",
    "while len(user) != 0:\n",
    "    user = input('Book read: ')\n",
    "    if len(user) == 0:\n",
    "        pass\n",
    "    else:\n",
    "        title,friend = user.split(':')\n",
    "        if friend not in friends_list:\n",
    "            friends_list.append(friend)\n",
    "        if title in record.keys():\n",
    "            record[title].append(friend)\n",
    "        else:\n",
    "            record[title] = [friend]\n",
    "record = dict(sorted(record.items()))\n",
    "\n",
    "for obj in record:\n",
    "    not_read = []\n",
    "    have_read = record[obj]\n",
    "    if len(have_read) == len(friends_list):\n",
    "        print(f'{obj}: Everyone has read this!')\n",
    "    else:\n",
    "        for person in friends_list:\n",
    "            if person not in have_read:\n",
    "                not_read.append(person)\n",
    "        not_read.sort()\n",
    "        print(f'{obj}: {\", \".join(not_read)}')"
   ],
   "metadata": {
    "collapsed": false,
    "pycharm": {
     "name": "#%%\n"
    }
   }
  },
  {
   "cell_type": "code",
   "execution_count": 33,
   "outputs": [
    {
     "name": "stdout",
     "output_type": "stream",
     "text": [
      "['asdfa', 'asdfasd', 'zsdfsd']\n",
      "['axcv', 'zsdkjf']\n",
      "{'asdf': ['asdfa', 'asdfasd', 'zsdfsd'], 'zjsldkf': ['axcv', 'zsdkjf']}\n"
     ]
    }
   ],
   "source": [
    "a = {'asdf':['asdfasd','zsdfsd','asdfa'],'zjsldkf':['zsdkjf','axcv']}\n",
    "a = dict(sorted(a.items()))\n",
    "for obj in record.keys():\n",
    "    values = a[obj]\n",
    "    values.sort()\n",
    "    print(values)\n",
    "    a[obj] = values\n",
    "print(a)"
   ],
   "metadata": {
    "collapsed": false,
    "pycharm": {
     "name": "#%%\n"
    }
   }
  },
  {
   "cell_type": "code",
   "execution_count": 83,
   "outputs": [
    {
     "name": "stdout",
     "output_type": "stream",
     "text": [
      "[('Mr. Sinister', 2, 'Cautiously Evil'), ('Mystique', 0, 'Insignificantly Evil')]\n"
     ]
    }
   ],
   "source": [
    "def author_rankings(thread_list):\n",
    "    # TODO: Determine (author, upvotes, ranking) over all threads.\n",
    "    stats = {}\n",
    "    report = []\n",
    "    for thread in thread_list:\n",
    "        for post in thread['posts']:\n",
    "            author = post['author']\n",
    "            upvote = post['upvotes']\n",
    "            if upvote == 0:\n",
    "                status = 'Insignificantly Evil'\n",
    "            elif upvote < 20:\n",
    "                status = 'Cautiously Evil'\n",
    "            elif upvote < 100:\n",
    "                status = 'Justifiably Evil'\n",
    "            elif upvote < 500:\n",
    "                status = 'Wickedly Evil'\n",
    "            else:\n",
    "                status = 'Diabolically Evil'\n",
    "            if author not in stats.keys():\n",
    "                stats[author] = [upvote,status]\n",
    "            else:\n",
    "                stats[author][0] += upvote\n",
    "\n",
    "        for post in stats.keys():\n",
    "            upvote = stats[post][0]\n",
    "            if upvote == 0:\n",
    "                status = 'Insignificantly Evil'\n",
    "            elif upvote < 20:\n",
    "                status = 'Cautiously Evil'\n",
    "            elif upvote < 100:\n",
    "                status = 'Justifiably Evil'\n",
    "            elif upvote < 500:\n",
    "                status = 'Wickedly Evil'\n",
    "            else:\n",
    "                status = 'Diabolically Evil'\n",
    "            stats[post][1] = status\n",
    "    for obj in stats.keys():\n",
    "        report.append((obj,stats[obj][0],stats[obj][1]))\n",
    "    report = sorted(report,key=lambda x: x[0])\n",
    "    report = sorted(report,key=lambda x: x[1],reverse=True)\n",
    "    return report\n",
    "\n",
    "if __name__ == '__main__':\n",
    "    # Example calls to your function.\n",
    "    print(author_rankings([\n",
    "        {\n",
    "            'title': 'Invade Manhattan, anyone?',\n",
    "            'tags': ['world-domination', 'hangout'],\n",
    "            'posts': [\n",
    "                {\n",
    "                    'author': 'Mr. Sinister',\n",
    "                    'content': \"I'm thinking 9 pm?\",\n",
    "                    'upvotes': 2,\n",
    "                }\n",
    "            ]\n",
    "        },\n",
    "        {\n",
    "            'title': 'Interested in a weekly meetup?',\n",
    "            'tags': ['introductions', 'hangout'],\n",
    "            'posts': [\n",
    "                {\n",
    "                    'author': 'Mystique',\n",
    "                    'content': \"Sounds fun!\",\n",
    "                    'upvotes': 0,\n",
    "                },\n",
    "            ],\n",
    "        }\n",
    "    ]))\n"
   ],
   "metadata": {
    "collapsed": false,
    "pycharm": {
     "name": "#%%\n"
    }
   }
  },
  {
   "cell_type": "code",
   "execution_count": null,
   "outputs": [],
   "source": [
    "import random\n",
    "\n",
    "\n",
    "def generate_sentence(start_token, filenames):\n",
    "    # TODO\n",
    "    return ''\n",
    "\n",
    "\n",
    "if __name__ == '__main__':\n",
    "    # The random number generator is initialised to zero here purely\n",
    "    # for your own testing so that each time you run your code during\n",
    "    # development, you will get the same output. Remove this to get\n",
    "    # different output each time you run your code with the same input.\n",
    "    random.seed(0)\n",
    "\n",
    "    # Run the examples in the question.\n",
    "    for i in range(4):\n",
    "        print(generate_sentence('There', ['single.txt']))\n",
    "    print('=' * 80)\n",
    "    for i in range(4):\n",
    "        print(generate_sentence('the', ['jab.txt']))\n",
    "    print('=' * 80)\n",
    "    for i in range(4):\n",
    "        print(generate_sentence('It', ['dracula.txt', 'pandp.txt']))\n",
    "    print('=' * 80)\n",
    "    for i in range(10):\n",
    "        print(generate_sentence('Once', ['dracula.txt', 'jb.txt', 'pandp.txt', 'totc.txt']))\n",
    "    print('=' * 80)\n",
    "    for i in range(8):\n",
    "        print(generate_sentence('cat', ['single.txt', 'textwraps.txt']))\n",
    "    print('=' * 80)"
   ],
   "metadata": {
    "collapsed": false,
    "pycharm": {
     "name": "#%%\n"
    }
   }
  }
 ],
 "metadata": {
  "kernelspec": {
   "display_name": "Python 3.9.7 ('base')",
   "language": "python",
   "name": "python3"
  },
  "language_info": {
   "codemirror_mode": {
    "name": "ipython",
    "version": 3
   },
   "file_extension": ".py",
   "mimetype": "text/x-python",
   "name": "python",
   "nbconvert_exporter": "python",
   "pygments_lexer": "ipython3",
   "version": "3.9.7"
  },
  "vscode": {
   "interpreter": {
    "hash": "8782f1db2fc9175f635e50d17fb256754f4c30bb3d9e6908653c7442ee3779f4"
   }
  }
 },
 "nbformat": 4,
 "nbformat_minor": 0
}