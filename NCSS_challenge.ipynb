{
 "cells": [
  {
   "cell_type": "code",
   "execution_count": 10,
   "metadata": {
    "collapsed": true
   },
   "outputs": [
    {
     "name": "stdout",
     "output_type": "stream",
     "text": [
      "a\n",
      "b\n",
      "c\n",
      "Fantastic! Keep looking for ferns!\n"
     ]
    }
   ],
   "source": [
    "plant = input('Which plant did you survey? ').lower()\n",
    "c = int(input('Count: '))\n",
    "a = 0\n",
    "fern = False\n",
    "for letter in plant.lower():\n",
    "    if letter == 'f' and a < len(plant)-3:\n",
    "        if plant[a+1] == 'e':\n",
    "            print('a')\n",
    "            if plant[a+2] == 'r':\n",
    "                print('b')\n",
    "                if plant [a+3] == 'n':\n",
    "                    print('c')\n",
    "                    fern = True\n",
    "    a +=1\n",
    "if fern:\n",
    "    print('Fantastic! Keep looking for ferns!')\n",
    "else:\n",
    "    if int(c) < 6:\n",
    "        print(\"That's low. We'll put\",plant.lower(), \"on the watch list.\")\n",
    "    else:\n",
    "        print(\"Great! Recorded\", c, plant,end=\"\" \"s in this area.\")"
   ]
  },
  {
   "cell_type": "code",
   "execution_count": 17,
   "outputs": [
    {
     "name": "stdout",
     "output_type": "stream",
     "text": [
      "asdf on sale for $1146.65.\n"
     ]
    }
   ],
   "source": [
    "def sale_price(original, discount):\n",
    "    # Calculate the sale price here.\n",
    "    return round((1-discount/100)*original,2)\n",
    "# Write the rest of your program here\n",
    "name = input(\"Product: \")\n",
    "og = float(input(\"Original price ($): \"))\n",
    "disc = int(input(\"Discount (%): \"))\n",
    "print(name, 'on sale for $'+str(sale_price(og,disc))+'.')"
   ],
   "metadata": {
    "collapsed": false,
    "pycharm": {
     "name": "#%%\n"
    }
   }
  },
  {
   "cell_type": "code",
   "execution_count": 22,
   "outputs": [
    {
     "name": "stdout",
     "output_type": "stream",
     "text": [
      "Crikey it's cold!\n"
     ]
    }
   ],
   "source": [
    "def to_celsius(f):\n",
    "# Calculate the temperature in Celsius\n",
    "    return round((f-32)*(5/9),1)\n",
    "\n",
    "# Write the rest of your program here\n",
    "words = [\"Crikey it's cold!\",\"Getting a bit nippy!\",\"You beaut beach weather!\",\"Strewth, it's a scorcher!\"]\n",
    "temp = to_celsius(float(input(\"Temp (F): \")))\n",
    "if temp < 5:\n",
    "    print(temp,words[0])\n",
    "elif 5 <= temp <20:\n",
    "    print(temp,words[1])\n",
    "elif 20 <= temp < 35:\n",
    "    print(words[2])\n",
    "else:\n",
    "    print(words[4])"
   ],
   "metadata": {
    "collapsed": false,
    "pycharm": {
     "name": "#%%\n"
    }
   }
  },
  {
   "cell_type": "code",
   "execution_count": 1,
   "outputs": [
    {
     "name": "stdout",
     "output_type": "stream",
     "text": [
      "Haloumi is a cheese!\n"
     ]
    }
   ],
   "source": [
    "cheeses = ['Cheddar', 'Bocconcini', 'Haloumi', 'Paneer', 'Gorgonzola', 'Mozzarella', 'Parmesan', 'Brie', 'Gruyere']\n",
    "answer = input('Cheese: ')\n",
    "if answer in cheeses:\n",
    "    print(f'{answer} is a cheese!')\n",
    "else:\n",
    "    print(f'{answer} might not be a cheese.')"
   ],
   "metadata": {
    "collapsed": false,
    "pycharm": {
     "name": "#%%\n"
    }
   }
  },
  {
   "cell_type": "code",
   "execution_count": 2,
   "outputs": [
    {
     "name": "stdout",
     "output_type": "stream",
     "text": [
      "Announcing the national Totally Tea tour!\n",
      "Visiting these cities...\n",
      "🏙️ Manchester\n",
      "🏙️ Bristol\n",
      "🏙️ Canterbury\n",
      "Get excited for Totally Tea!\n"
     ]
    }
   ],
   "source": [
    "\n",
    "name = input('Tour name: ')\n",
    "cities = input('Cities: ')\n",
    "print(f'Announcing the national {name} tour!\\nVisiting these cities...')\n",
    "for city in cities.split(' '):\n",
    "    print(f'🏙️ {city}')\n",
    "print(f'Get excited for {name}!')"
   ],
   "metadata": {
    "collapsed": false,
    "pycharm": {
     "name": "#%%\n"
    }
   }
  },
  {
   "cell_type": "code",
   "execution_count": 35,
   "outputs": [
    {
     "name": "stdout",
     "output_type": "stream",
     "text": [
      "111 x [ ] = 333\n",
      "111 x [ ] = 444\n",
      "111 x [ ] = 555\n",
      "111 x [ ] = 666\n",
      "111 x [ ] = 777\n",
      "111 x [ ] = 888\n",
      "111 x [ ] = 999\n",
      "111 x [ ] = 1110\n",
      "111 x [ ] = 1221\n",
      "111 x [ ] = 1332\n"
     ]
    }
   ],
   "source": [
    "times = int(input('Times table: '))\n",
    "step = int(input('Step: '))\n",
    "for i in range(3,13):\n",
    "    if i==3:\n",
    "        print(f'{times} x [ ] = {times*i}')\n",
    "    if (i -3)%step ==0:\n",
    "        if i+step<13:\n",
    "            print(f'{times} x [ ] = {times*(i+step)}')"
   ],
   "metadata": {
    "collapsed": false,
    "pycharm": {
     "name": "#%%\n"
    }
   }
  },
  {
   "cell_type": "code",
   "execution_count": 39,
   "outputs": [
    {
     "name": "stdout",
     "output_type": "stream",
     "text": [
      "11 is a Primean  citizen.\n",
      "-7 is a Minutian  citizen.\n",
      "-420 is a Pentadian Minutian Disiphine  citizen.\n",
      "55 is a Pentadian  citizen.\n",
      "Free numbers: 2\n"
     ]
    }
   ],
   "source": [
    "primeans = [2, 3, 5, 7, 11, 13, 17, 19, 23, 29, 31, 37, 41, 43, 47, 53, 59, 61, 67, 71, 73, 79, 83, 89, 97, 101, 103, 107, 109, 113, 127, 131, 137, 139, 149, 151, 157, 163, 167, 173, 179, 181, 191, 193, 197, 199, 211, 223, 227, 229, 233, 239, 241, 251, 257, 263, 269, 271, 277, 281, 283, 293, 307, 311, 313, 317, 331, 337, 347, 349, 353, 359, 367, 373, 379, 383, 389, 397, 401, 409, 419, 421, 431, 433, 439, 443, 449, 457, 461, 463, 467, 479, 487, 491, 499, 503, 509, 521, 523, 541]\n",
    "\n",
    "def check_domain(number):\n",
    "    domains = ''\n",
    "    number = int(number)\n",
    "    if number % 5 == 0:\n",
    "        domains = domains + 'Pentadian '\n",
    "    # Check if it belongs to other domains after this\n",
    "    if number < 0:\n",
    "        domains = domains + 'Minutian '\n",
    "    for num in str(number):\n",
    "        if str(num) =='2':\n",
    "            domains = domains + 'Disiphine '\n",
    "            break\n",
    "    if number in primeans:\n",
    "        domains = domains + 'Primean '\n",
    "    # if domains == ' ':\n",
    "    return domains\n",
    "# Write the rest of your program after this\n",
    "empty = False\n",
    "codes = input('Enter numbers: ')\n",
    "if len(codes) == 0:\n",
    "    empty = True\n",
    "free = 0\n",
    "if not empty:\n",
    "    codes = list(codes.split(' '))\n",
    "    for numb in codes:\n",
    "        citizen = check_domain(int(numb))\n",
    "        if len(citizen)<2:\n",
    "            free += 1\n",
    "        else:\n",
    "            print(f'{numb} is a {citizen} citizen.')\n",
    "    if not empty:\n",
    "        print(f'Free numbers: {free}')"
   ],
   "metadata": {
    "collapsed": false,
    "pycharm": {
     "name": "#%%\n"
    }
   }
  },
  {
   "cell_type": "code",
   "execution_count": 34,
   "outputs": [
    {
     "name": "stdout",
     "output_type": "stream",
     "text": [
      "1 ['']\n"
     ]
    }
   ],
   "source": [
    "codes = list(input('Enter numbers: ').split(' '))\n",
    "print(len(codes),codes)"
   ],
   "metadata": {
    "collapsed": false,
    "pycharm": {
     "name": "#%%\n"
    }
   }
  },
  {
   "cell_type": "code",
   "execution_count": 35,
   "outputs": [
    {
     "data": {
      "text/plain": "0"
     },
     "execution_count": 35,
     "metadata": {},
     "output_type": "execute_result"
    }
   ],
   "source": [
    "codes = input('Enter numbers: ')\n",
    "len(codes)"
   ],
   "metadata": {
    "collapsed": false,
    "pycharm": {
     "name": "#%%\n"
    }
   }
  },
  {
   "cell_type": "code",
   "execution_count": 7,
   "outputs": [
    {
     "name": "stdout",
     "output_type": "stream",
     "text": [
      "The presents you can afford are:\n",
      "Phone case\n",
      "Oodie\n",
      "Phone recharge\n",
      "Earrings\n",
      "Spotify subscription\n",
      "Big Toblerone\n",
      "Volleyball\n",
      "Fitbit\n",
      "Harry Potter box set\n",
      "New Chucks\n"
     ]
    }
   ],
   "source": [
    "wishlist = {'PS5': 750, 'Phone case': 30, 'Oodie': 90, 'LEGO Hogwarts Castle': 650, 'JBL Headphones': 130, 'Drum kit': 520, 'Phone recharge': 30, 'Earrings': 110, 'Spotify subscription': 60, 'Hockey stick': 130, 'Big Toblerone': 16, 'Volleyball': 90, 'Fitbit': 99, 'Harry Potter box set': 65, 'New Chucks': 70}\n",
    "budget = int(input('How much money do you have to spend? '))\n",
    "print('The presents you can afford are:')\n",
    "for object in wishlist.keys():\n",
    "    if wishlist[object] <= budget:\n",
    "        print(object)"
   ],
   "metadata": {
    "collapsed": false,
    "pycharm": {
     "name": "#%%\n"
    }
   }
  },
  {
   "cell_type": "code",
   "execution_count": 2,
   "outputs": [
    {
     "name": "stdout",
     "output_type": "stream",
     "text": [
      "Nick recommended SypherPK\n",
      "Lily recommended AuronPlay\n",
      "Someone else already recommended that.\n",
      "Max recommended DrLipo\n",
      " recommended \n",
      "a recommended f\n",
      "Playlist complete! Subscribe to:\n",
      "SypherPK: recommended by Nick\n",
      "AuronPlay: recommended by Lily\n",
      "DrLipo: recommended by Max\n",
      ": recommended by \n",
      "f: recommended by a\n"
     ]
    }
   ],
   "source": [
    "reccomendations = {}\n",
    "\n",
    "while len(reccomendations) < 5:\n",
    "    friend = input('Friend: ')\n",
    "    streamer = input('Which stream did they recommend? ')\n",
    "    if streamer not in reccomendations.keys():\n",
    "        print(f'{friend} recommended {streamer}')\n",
    "        reccomendations[streamer] = friend\n",
    "    else:\n",
    "        print('Someone else already recommended that.')\n",
    "print('Playlist complete! Subscribe to:')\n",
    "for object in reccomendations.keys():\n",
    "    print(f'{object}: recommended by {reccomendations[object]}')"
   ],
   "metadata": {
    "collapsed": false,
    "pycharm": {
     "name": "#%%\n"
    }
   }
  },
  {
   "cell_type": "code",
   "execution_count": 12,
   "outputs": [
    {
     "name": "stdout",
     "output_type": "stream",
     "text": [
      "Who's playing Dangerous Mafia?\n",
      "Jack's here, starting with 3 skins worth of DAM!\n",
      "Let's play!\n",
      "End of the game! Let's see how everyone did!\n",
      "Jack can buy 2 skins.\n",
      "Katelynn can buy 3 skins.\n"
     ]
    }
   ],
   "source": [
    "def buy_skins(dam):\n",
    "    # Finish the function to convert DAM to skins\n",
    "    return int(dam/40)\n",
    "print(\"Who's playing Dangerous Mafia?\")\n",
    "player_info = {}\n",
    "newp = input('Name: ')\n",
    "while len(newp) != 0:\n",
    "    starting = int(input('Starting number of DAM: '))\n",
    "    player_info[newp] = starting\n",
    "    print(f\"{newp}'s here, starting with {buy_skins(starting)} skins worth of DAM!\")\n",
    "    newp = input('Name: ')\n",
    "print(\"Let's play!\")\n",
    "playturn = input('Who played? ')\n",
    "while len(playturn) !=0:\n",
    "    change = int(input('DAM won/lost: '))\n",
    "    if playturn not in player_info.keys():\n",
    "        player_info[playturn] = change\n",
    "    else:\n",
    "        player_info[playturn] = (player_info[playturn]+change)\n",
    "    playturn = input('Who played? ')\n",
    "print(\"End of the game! Let's see how everyone did!\")\n",
    "for person in player_info.keys():\n",
    "    print(f'{person} can buy {buy_skins(player_info[person])} skins.')"
   ],
   "metadata": {
    "collapsed": false,
    "pycharm": {
     "name": "#%%\n"
    }
   }
  },
  {
   "cell_type": "code",
   "execution_count": 11,
   "outputs": [
    {
     "data": {
      "text/plain": "{'Luke': 600, 'Rishab': 200, 'Harry': 400}"
     },
     "execution_count": 11,
     "metadata": {},
     "output_type": "execute_result"
    }
   ],
   "source": [
    "player_info"
   ],
   "metadata": {
    "collapsed": false,
    "pycharm": {
     "name": "#%%\n"
    }
   }
  },
  {
   "cell_type": "code",
   "execution_count": 17,
   "outputs": [
    {
     "ename": "UnicodeDecodeError",
     "evalue": "'charmap' codec can't decode byte 0x9d in position 1528: character maps to <undefined>",
     "output_type": "error",
     "traceback": [
      "\u001B[1;31m---------------------------------------------------------------------------\u001B[0m",
      "\u001B[1;31mUnicodeDecodeError\u001B[0m                        Traceback (most recent call last)",
      "\u001B[1;32m~\\AppData\\Local\\Temp/ipykernel_9380/208083381.py\u001B[0m in \u001B[0;36m<module>\u001B[1;34m\u001B[0m\n\u001B[0;32m      2\u001B[0m \u001B[0mfilename\u001B[0m \u001B[1;33m=\u001B[0m \u001B[0minput\u001B[0m\u001B[1;33m(\u001B[0m\u001B[1;34m'Speech file: '\u001B[0m\u001B[1;33m)\u001B[0m\u001B[1;33m\u001B[0m\u001B[1;33m\u001B[0m\u001B[0m\n\u001B[0;32m      3\u001B[0m \u001B[1;32mwith\u001B[0m \u001B[0mopen\u001B[0m\u001B[1;33m(\u001B[0m\u001B[0mfilename\u001B[0m\u001B[1;33m,\u001B[0m\u001B[1;34m'r'\u001B[0m\u001B[1;33m)\u001B[0m \u001B[1;32mas\u001B[0m \u001B[0mfile\u001B[0m\u001B[1;33m:\u001B[0m\u001B[1;33m\u001B[0m\u001B[1;33m\u001B[0m\u001B[0m\n\u001B[1;32m----> 4\u001B[1;33m     \u001B[0mcontents\u001B[0m \u001B[1;33m=\u001B[0m \u001B[0mfile\u001B[0m\u001B[1;33m.\u001B[0m\u001B[0mread\u001B[0m\u001B[1;33m(\u001B[0m\u001B[1;33m)\u001B[0m\u001B[1;33m\u001B[0m\u001B[1;33m\u001B[0m\u001B[0m\n\u001B[0m\u001B[0;32m      5\u001B[0m \u001B[0mcontents\u001B[0m \u001B[1;33m=\u001B[0m \u001B[0mstr\u001B[0m\u001B[1;33m(\u001B[0m\u001B[0mcontents\u001B[0m\u001B[1;33m)\u001B[0m\u001B[1;33m\u001B[0m\u001B[1;33m\u001B[0m\u001B[0m\n\u001B[0;32m      6\u001B[0m \u001B[0mnew\u001B[0m \u001B[1;33m=\u001B[0m \u001B[0mcontents\u001B[0m\u001B[1;33m.\u001B[0m\u001B[0mstrip\u001B[0m\u001B[1;33m(\u001B[0m\u001B[1;33m)\u001B[0m\u001B[1;33m\u001B[0m\u001B[1;33m\u001B[0m\u001B[0m\n",
      "\u001B[1;32m~\\anaconda3\\lib\\encodings\\cp1252.py\u001B[0m in \u001B[0;36mdecode\u001B[1;34m(self, input, final)\u001B[0m\n\u001B[0;32m     21\u001B[0m \u001B[1;32mclass\u001B[0m \u001B[0mIncrementalDecoder\u001B[0m\u001B[1;33m(\u001B[0m\u001B[0mcodecs\u001B[0m\u001B[1;33m.\u001B[0m\u001B[0mIncrementalDecoder\u001B[0m\u001B[1;33m)\u001B[0m\u001B[1;33m:\u001B[0m\u001B[1;33m\u001B[0m\u001B[1;33m\u001B[0m\u001B[0m\n\u001B[0;32m     22\u001B[0m     \u001B[1;32mdef\u001B[0m \u001B[0mdecode\u001B[0m\u001B[1;33m(\u001B[0m\u001B[0mself\u001B[0m\u001B[1;33m,\u001B[0m \u001B[0minput\u001B[0m\u001B[1;33m,\u001B[0m \u001B[0mfinal\u001B[0m\u001B[1;33m=\u001B[0m\u001B[1;32mFalse\u001B[0m\u001B[1;33m)\u001B[0m\u001B[1;33m:\u001B[0m\u001B[1;33m\u001B[0m\u001B[1;33m\u001B[0m\u001B[0m\n\u001B[1;32m---> 23\u001B[1;33m         \u001B[1;32mreturn\u001B[0m \u001B[0mcodecs\u001B[0m\u001B[1;33m.\u001B[0m\u001B[0mcharmap_decode\u001B[0m\u001B[1;33m(\u001B[0m\u001B[0minput\u001B[0m\u001B[1;33m,\u001B[0m\u001B[0mself\u001B[0m\u001B[1;33m.\u001B[0m\u001B[0merrors\u001B[0m\u001B[1;33m,\u001B[0m\u001B[0mdecoding_table\u001B[0m\u001B[1;33m)\u001B[0m\u001B[1;33m[\u001B[0m\u001B[1;36m0\u001B[0m\u001B[1;33m]\u001B[0m\u001B[1;33m\u001B[0m\u001B[1;33m\u001B[0m\u001B[0m\n\u001B[0m\u001B[0;32m     24\u001B[0m \u001B[1;33m\u001B[0m\u001B[0m\n\u001B[0;32m     25\u001B[0m \u001B[1;32mclass\u001B[0m \u001B[0mStreamWriter\u001B[0m\u001B[1;33m(\u001B[0m\u001B[0mCodec\u001B[0m\u001B[1;33m,\u001B[0m\u001B[0mcodecs\u001B[0m\u001B[1;33m.\u001B[0m\u001B[0mStreamWriter\u001B[0m\u001B[1;33m)\u001B[0m\u001B[1;33m:\u001B[0m\u001B[1;33m\u001B[0m\u001B[1;33m\u001B[0m\u001B[0m\n",
      "\u001B[1;31mUnicodeDecodeError\u001B[0m: 'charmap' codec can't decode byte 0x9d in position 1528: character maps to <undefined>"
     ]
    }
   ],
   "source": [
    "import re\n",
    "filename = input('Speech file: ')\n",
    "with open(filename,'r') as file:\n",
    "    contents = file.read()\n",
    "contents = str(contents)\n",
    "new = contents.strip()\n",
    "wordslis = list(new.splitlines())\n",
    "fwords = []\n",
    "print(wordslis,len(wordslis))\n",
    "for words in wordslis:\n",
    "    print(words)\n",
    "    for word in words:\n",
    "        output = list(words.split(' '))\n",
    "        fwords.append(output)\n",
    "fwords\n",
    "# words = list(contents.split(' '))\n",
    "# print(words)\n",
    "# output = [words[word] for word in range(0,200,5)]\n",
    "# for index,char in enumerate(output):\n",
    "#     output[index] = char.strip('\\n')\n",
    "# print(output)\n",
    "# print(' '.join(output))"
   ],
   "metadata": {
    "collapsed": false,
    "pycharm": {
     "name": "#%%\n"
    }
   }
  },
  {
   "cell_type": "code",
   "execution_count": 3,
   "outputs": [
    {
     "name": "stdout",
     "output_type": "stream",
     "text": [
      "abc\n",
      "\n",
      "\n"
     ]
    }
   ],
   "source": [
    "a = 'abc\\n\\n'\n",
    "b= a.splitlines()\n",
    "print(a)"
   ],
   "metadata": {
    "collapsed": false,
    "pycharm": {
     "name": "#%%\n"
    }
   }
  },
  {
   "cell_type": "code",
   "execution_count": null,
   "outputs": [],
   "source": [],
   "metadata": {
    "collapsed": false,
    "pycharm": {
     "name": "#%%\n"
    }
   }
  }
 ],
 "metadata": {
  "kernelspec": {
   "display_name": "Python 3",
   "language": "python",
   "name": "python3"
  },
  "language_info": {
   "codemirror_mode": {
    "name": "ipython",
    "version": 2
   },
   "file_extension": ".py",
   "mimetype": "text/x-python",
   "name": "python",
   "nbconvert_exporter": "python",
   "pygments_lexer": "ipython2",
   "version": "2.7.6"
  }
 },
 "nbformat": 4,
 "nbformat_minor": 0
}