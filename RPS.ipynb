{
 "cells": [
  {
   "cell_type": "code",
   "execution_count": 24,
   "id": "b10df338",
   "metadata": {},
   "outputs": [],
   "source": [
    "## Rock, Paper, Scissors\n",
    "\n",
    "# Import random module for the computer's choice\n",
    "import random\n",
    "random.seed = 365\n",
    "\n",
    "# Mapping of numbers to rock, paper & scissors\n",
    "int2choice = {0:'R', 1:'P', 2:'S'}\n",
    "\n",
    "# Class to play the game\n",
    "class RPS_Game(object):\n",
    "    \n",
    "    # Initialize the game\n",
    "    def __init__(self,num_rounds):\n",
    "        self.num_rounds = num_rounds # record the total number of rounds\n",
    "        self.counter_pc_wins = 0     # how many rounds are won by the PC\n",
    "        self.draws = 0               # how many rounds end in a draw\n",
    "        print(f\"Start of Rock-Paper-Scissors Game - {num_rounds} rounds.\")\n",
    "        \n",
    "    # The play() method implements the game logic\n",
    "    def play(self):\n",
    "        for nr in range(self.num_rounds):\n",
    "            print(f\"It's round No. {nr+1}.\")\n",
    "            user_choice = chr(ord(input(\"Your Choice: \")) + ord('A') - ord('a'))\n",
    "            print(user_choice)\n",
    "            # Validation is required\n",
    "            while user_choice not in {'R', 'P', 'S'}:\n",
    "                print(\"Invalid move. Please enter 'R', 'P' or 'S'.\")\n",
    "                ''' Your code for Question 2 goes here. '''\n",
    "                                \n",
    "            # Computer choice\n",
    "            pc_choice = int2choice[random.randint(0, 2)]\n",
    "            print(f\"Computer's choice: {pc_choice}\")\n",
    "            \n",
    "            # if\n",
    "            #\n",
    "            # elif\n",
    "            #\n",
    "            # else:\n",
    "                \n",
    "            # Keep track of the game's progress\n",
    "            print(f\"Current result: PC {self.counter_pc_wins} - \",end='')\n",
    "            print(f\"You {nr-self.draws-self.counter_pc_wins}\")\n",
    "            print('-'*30)"
   ]
  },
  {
   "cell_type": "markdown",
   "id": "a0db6a62",
   "metadata": {},
   "source": [
    "## Questions 2 and 6"
   ]
  },
  {
   "cell_type": "markdown",
   "id": "9d957932",
   "metadata": {},
   "source": [
    "### Declare an RPS_Game object where 6 instances of RPS are played. Run the game"
   ]
  },
  {
   "cell_type": "code",
   "execution_count": 26,
   "id": "f1d6e1d8",
   "metadata": {},
   "outputs": [
    {
     "name": "stdout",
     "output_type": "stream",
     "text": [
      "Start of Rock-Paper-Scissors Game - 5 rounds.\n"
     ]
    }
   ],
   "source": [
    "a = RPS_Game(5)"
   ]
  },
  {
   "cell_type": "code",
   "execution_count": 12,
   "outputs": [],
   "source": [
    "# a = pass\n",
    "def a():\n",
    "    for i in range(10):\n",
    "        pass"
   ],
   "metadata": {
    "collapsed": false,
    "pycharm": {
     "name": "#%%\n"
    }
   }
  },
  {
   "cell_type": "code",
   "execution_count": 15,
   "outputs": [],
   "source": [
    "from numpy import zeros\n",
    "def addition(m1,m2):\n",
    "    result = zeros((3,3))\n",
    "    for i in range(3):\n",
    "        for j in range(3):\n",
    "            result[i][j] = m1[]"
   ],
   "metadata": {
    "collapsed": false,
    "pycharm": {
     "name": "#%%\n"
    }
   }
  },
  {
   "cell_type": "code",
   "execution_count": 17,
   "outputs": [
    {
     "name": "stdout",
     "output_type": "stream",
     "text": [
      "[[0. 0. 0.]\n",
      " [0. 0. 0.]\n",
      " [0. 0. 0.]]\n"
     ]
    }
   ],
   "source": [
    "print(zeros((3,3)))"
   ],
   "metadata": {
    "collapsed": false,
    "pycharm": {
     "name": "#%%\n"
    }
   }
  },
  {
   "cell_type": "code",
   "execution_count": 18,
   "outputs": [],
   "source": [
    "a= [[5,3,2],[4,7,1],[6,1,8]]\n",
    "b= [[5,9,5],[4,1,3],[6,0,8]]"
   ],
   "metadata": {
    "collapsed": false,
    "pycharm": {
     "name": "#%%\n"
    }
   }
  },
  {
   "cell_type": "code",
   "execution_count": 22,
   "outputs": [],
   "source": [
    "a.append([1,2,3])\n",
    "for i in range(3):\n",
    "    b[i].append(i+4)"
   ],
   "metadata": {
    "collapsed": false,
    "pycharm": {
     "name": "#%%\n"
    }
   }
  },
  {
   "cell_type": "code",
   "execution_count": 28,
   "outputs": [],
   "source": [
    "for i in range(3):\n",
    "    pass"
   ],
   "metadata": {
    "collapsed": false,
    "pycharm": {
     "name": "#%%\n"
    }
   }
  }
 ],
 "metadata": {
  "kernelspec": {
   "display_name": "Python 3",
   "language": "python",
   "name": "python3"
  },
  "language_info": {
   "codemirror_mode": {
    "name": "ipython",
    "version": 3
   },
   "file_extension": ".py",
   "mimetype": "text/x-python",
   "name": "python",
   "nbconvert_exporter": "python",
   "pygments_lexer": "ipython3",
   "version": "3.8.8"
  }
 },
 "nbformat": 4,
 "nbformat_minor": 5
}