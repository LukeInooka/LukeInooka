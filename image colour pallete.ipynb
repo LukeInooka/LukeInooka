{
 "cells": [
  {
   "cell_type": "code",
   "execution_count": 10,
   "metadata": {
    "collapsed": true
   },
   "outputs": [
    {
     "name": "stdout",
     "output_type": "stream",
     "text": [
      "PNG (835, 1181) RGBA\n"
     ]
    }
   ],
   "source": [
    "import numpy as np\n",
    "from PIL import Image\n",
    "pic = Image.open('download.png')\n",
    "def summary(img):\n",
    "    return img.format, img.size,img.mode,img.dtype,img.shape\n",
    "print(pic.format,pic.size,pic.mode)"
   ]
  },
  {
   "cell_type": "code",
   "execution_count": 17,
   "outputs": [
    {
     "name": "stdout",
     "output_type": "stream",
     "text": [
      "float32\n",
      "(1181, 835, 4)\n"
     ]
    },
    {
     "data": {
      "text/plain": "<Figure size 432x288 with 1 Axes>",
      "image/png": "[encoded data removed]"
     },
     "metadata": {
      "needs_background": "light"
     },
     "output_type": "display_data"
    }
   ],
   "source": [
    "from matplotlib import image\n",
    "from matplotlib import pyplot\n",
    "pic = image.imread('download.png')\n",
    "print(pic.dtype)\n",
    "print(pic.shape)\n",
    "pyplot.imshow(pic)\n",
    "pyplot.show()"
   ],
   "metadata": {
    "collapsed": false,
    "pycharm": {
     "name": "#%%\n"
    }
   }
  },
  {
   "cell_type": "code",
   "execution_count": 20,
   "outputs": [
    {
     "name": "stdout",
     "output_type": "stream",
     "text": [
      "[[[1.         1.         1.         1.        ]\n",
      "  [1.         1.         1.         1.        ]\n",
      "  [1.         1.         1.         1.        ]\n",
      "  ...\n",
      "  [0.34509805 0.0627451  0.0627451  1.        ]\n",
      "  [0.34509805 0.0627451  0.0627451  1.        ]\n",
      "  [0.34509805 0.0627451  0.0627451  1.        ]]\n",
      "\n",
      " [[1.         1.         1.         1.        ]\n",
      "  [1.         1.         1.         1.        ]\n",
      "  [1.         1.         1.         1.        ]\n",
      "  ...\n",
      "  [0.34509805 0.0627451  0.0627451  1.        ]\n",
      "  [0.34509805 0.0627451  0.0627451  1.        ]\n",
      "  [0.34509805 0.0627451  0.0627451  1.        ]]\n",
      "\n",
      " [[1.         1.         1.         1.        ]\n",
      "  [1.         1.         1.         1.        ]\n",
      "  [1.         1.         1.         1.        ]\n",
      "  ...\n",
      "  [0.34509805 0.0627451  0.0627451  1.        ]\n",
      "  [0.34509805 0.0627451  0.0627451  1.        ]\n",
      "  [0.34509805 0.0627451  0.0627451  1.        ]]\n",
      "\n",
      " ...\n",
      "\n",
      " [[1.         1.         1.         1.        ]\n",
      "  [1.         1.         1.         1.        ]\n",
      "  [1.         1.         1.         1.        ]\n",
      "  ...\n",
      "  [0.34509805 0.0627451  0.0627451  1.        ]\n",
      "  [0.34509805 0.0627451  0.0627451  1.        ]\n",
      "  [0.34509805 0.0627451  0.0627451  1.        ]]\n",
      "\n",
      " [[1.         1.         1.         1.        ]\n",
      "  [1.         1.         1.         1.        ]\n",
      "  [1.         1.         1.         1.        ]\n",
      "  ...\n",
      "  [0.34509805 0.0627451  0.0627451  1.        ]\n",
      "  [0.34509805 0.0627451  0.0627451  1.        ]\n",
      "  [0.34509805 0.0627451  0.0627451  1.        ]]\n",
      "\n",
      " [[1.         1.         1.         1.        ]\n",
      "  [1.         1.         1.         1.        ]\n",
      "  [1.         1.         1.         1.        ]\n",
      "  ...\n",
      "  [0.34509805 0.0627451  0.0627451  1.        ]\n",
      "  [0.34509805 0.0627451  0.0627451  1.        ]\n",
      "  [0.34509805 0.0627451  0.0627451  1.        ]]]\n"
     ]
    }
   ],
   "source": [
    "from numpy import asarray\n",
    "\n",
    "data = asarray(pic)\n",
    "print(data)"
   ],
   "metadata": {
    "collapsed": false,
    "pycharm": {
     "name": "#%%\n"
    }
   }
  }
 ],
 "metadata": {
  "kernelspec": {
   "display_name": "Python 3",
   "language": "python",
   "name": "python3"
  },
  "language_info": {
   "codemirror_mode": {
    "name": "ipython",
    "version": 2
   },
   "file_extension": ".py",
   "mimetype": "text/x-python",
   "name": "python",
   "nbconvert_exporter": "python",
   "pygments_lexer": "ipython2",
   "version": "2.7.6"
  }
 },
 "nbformat": 4,
 "nbformat_minor": 0
}