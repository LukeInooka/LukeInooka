{
 "cells": [
  {
   "cell_type": "markdown",
   "source": [
    "## Steps:\n",
    "1. Find the list index value of the letters\n",
    "2. add the number to the newly discovered values\n",
    "3. fix when the list index is out of range\n",
    "4. return the newly cyphered message\n",
    "\n",
    "## Find the list index value of the letters\n",
    "### options:\n",
    "#### a. use index function going through all values until all values are found\n",
    "\n",
    "#### b. use enumerate loop\n",
    "    for i, j in enumerate(alphabet):\n",
    "        if j == letter:\n",
    "            numeric_list.append(j)\n",
    "#### c. import tool\n"
   ],
   "metadata": {
    "collapsed": false,
    "pycharm": {
     "name": "#%% md\n"
    }
   }
  },
  {
   "cell_type": "code",
   "execution_count": 30,
   "outputs": [],
   "source": [
    "# For timing the speed compared to index() and pandas series function\n",
    "def cypher(message, number):\n",
    "    alphabet = ['a', 'b', 'c', 'd', 'e', 'f', 'g', 'h', 'i', 'j', 'k', 'l', 'm', 'n', 'o', 'p', 'q', 'r', 's', 't', 'u', 'v', 'w', 'x', 'y', 'z',' ']\n",
    "    cap = 25 - number\n",
    "    anagram = []\n",
    "    if number % 26 == 0:\n",
    "        return message\n",
    "\n",
    "    # For every letter in the message, run through all the values (j) and index (i) until the list value is equal to the letter appending to the list.\n",
    "    # The second factor for the if statements are to tackle the issue when the number is over the list index. Solved through subtracting the number by 26 restarting the values.\n",
    "    for letter in message.lower():\n",
    "        if letter == ' ':\n",
    "            anagram.append(' ')\n",
    "        else:\n",
    "            for i,j in enumerate(alphabet):\n",
    "                if j == letter and i <= cap and letter != ' ':\n",
    "                    new = alphabet[number+i]\n",
    "                    if new == ' ':\n",
    "                        anagram.append(alphabet[number+i-1])\n",
    "                    else:\n",
    "                        anagram.append(new)\n",
    "                elif j == letter and i > cap and letter != ' ':\n",
    "                    anagram.append(alphabet[number+i-26])\n",
    "    return ''.join(anagram)"
   ],
   "metadata": {
    "collapsed": false,
    "pycharm": {
     "name": "#%%\n"
    }
   }
  },
  {
   "cell_type": "code",
   "execution_count": 33,
   "outputs": [],
   "source": [
    "def cypher2(message, number):\n",
    "    alphabet = 'abcdefghijklmnopqrstuvwxyz'\n",
    "    anagram = ''\n",
    "    number = number % 26\n",
    "    if number == 0:\n",
    "        return message\n",
    "    # for every letter in message lower case: find the letter and make sure that the shift number is under the cap or subtract by an extra 26 to get the original number.\n",
    "    for letter in str(message).lower():\n",
    "        if letter not in alphabet:\n",
    "            anagram += ' '\n",
    "        else:\n",
    "            ai = alphabet.find(letter)\n",
    "            if (ai+1) + number <= 26:\n",
    "                anagram += alphabet[ai+number]\n",
    "            else:\n",
    "                anagram += alphabet[ai+number-26]\n",
    "    return ''.join(anagram)"
   ],
   "metadata": {
    "collapsed": false,
    "pycharm": {
     "name": "#%%\n"
    }
   }
  },
  {
   "cell_type": "code",
   "execution_count": 25,
   "outputs": [
    {
     "data": {
      "text/plain": "'uijt jt b ufyu uibu ibt nboz mfuufst'"
     },
     "execution_count": 25,
     "metadata": {},
     "output_type": "execute_result"
    }
   ],
   "source": [
    "cypher2('this is a text that has many letters',1)"
   ],
   "metadata": {
    "collapsed": false,
    "pycharm": {
     "name": "#%%\n"
    }
   }
  },
  {
   "cell_type": "code",
   "execution_count": null,
   "outputs": [],
   "source": [
    "# l  = ['a']\n",
    "# a = l.index('h')\n",
    "# list(series[series == 'bar'].index)"
   ],
   "metadata": {
    "collapsed": false,
    "pycharm": {
     "name": "#%%\n"
    }
   }
  },
  {
   "cell_type": "code",
   "execution_count": 26,
   "outputs": [
    {
     "ename": "KeyboardInterrupt",
     "evalue": "",
     "output_type": "error",
     "traceback": [
      "\u001B[1;31m---------------------------------------------------------------------------\u001B[0m",
      "\u001B[1;31mKeyboardInterrupt\u001B[0m                         Traceback (most recent call last)",
      "\u001B[1;32m~\\AppData\\Local\\Temp/ipykernel_16660/231741522.py\u001B[0m in \u001B[0;36m<module>\u001B[1;34m\u001B[0m\n\u001B[0;32m      3\u001B[0m \u001B[0ma\u001B[0m \u001B[1;33m=\u001B[0m \u001B[1;33m[\u001B[0m\u001B[1;34m'a'\u001B[0m\u001B[1;33m,\u001B[0m \u001B[1;34m'b'\u001B[0m\u001B[1;33m,\u001B[0m \u001B[1;34m'c'\u001B[0m\u001B[1;33m,\u001B[0m \u001B[1;34m'd'\u001B[0m\u001B[1;33m,\u001B[0m \u001B[1;34m'e'\u001B[0m\u001B[1;33m,\u001B[0m \u001B[1;34m'f'\u001B[0m\u001B[1;33m,\u001B[0m \u001B[1;34m'g'\u001B[0m\u001B[1;33m,\u001B[0m \u001B[1;34m'h'\u001B[0m\u001B[1;33m,\u001B[0m \u001B[1;34m'i'\u001B[0m\u001B[1;33m,\u001B[0m \u001B[1;34m'j'\u001B[0m\u001B[1;33m,\u001B[0m \u001B[1;34m'k'\u001B[0m\u001B[1;33m,\u001B[0m \u001B[1;34m'l'\u001B[0m\u001B[1;33m,\u001B[0m \u001B[1;34m'm'\u001B[0m\u001B[1;33m,\u001B[0m \u001B[1;34m'n'\u001B[0m\u001B[1;33m,\u001B[0m \u001B[1;34m'o'\u001B[0m\u001B[1;33m,\u001B[0m \u001B[1;34m'p'\u001B[0m\u001B[1;33m,\u001B[0m \u001B[1;34m'q'\u001B[0m\u001B[1;33m,\u001B[0m \u001B[1;34m'r'\u001B[0m\u001B[1;33m,\u001B[0m \u001B[1;34m's'\u001B[0m\u001B[1;33m,\u001B[0m \u001B[1;34m't'\u001B[0m\u001B[1;33m,\u001B[0m \u001B[1;34m'u'\u001B[0m\u001B[1;33m,\u001B[0m \u001B[1;34m'v'\u001B[0m\u001B[1;33m,\u001B[0m \u001B[1;34m'w'\u001B[0m\u001B[1;33m,\u001B[0m \u001B[1;34m'x'\u001B[0m\u001B[1;33m,\u001B[0m \u001B[1;34m'y'\u001B[0m\u001B[1;33m,\u001B[0m \u001B[1;34m'z'\u001B[0m\u001B[1;33m,\u001B[0m\u001B[1;34m' '\u001B[0m\u001B[1;33m]\u001B[0m\u001B[1;33m\u001B[0m\u001B[1;33m\u001B[0m\u001B[0m\n\u001B[0;32m      4\u001B[0m \u001B[1;32mfor\u001B[0m \u001B[0mn\u001B[0m \u001B[1;32min\u001B[0m \u001B[0mrange\u001B[0m\u001B[1;33m(\u001B[0m\u001B[1;36m1\u001B[0m\u001B[1;33m,\u001B[0m\u001B[1;36m10000000\u001B[0m\u001B[1;33m)\u001B[0m\u001B[1;33m:\u001B[0m\u001B[1;33m\u001B[0m\u001B[1;33m\u001B[0m\u001B[0m\n\u001B[1;32m----> 5\u001B[1;33m     \u001B[0ml\u001B[0m \u001B[1;33m=\u001B[0m \u001B[0mrandint\u001B[0m\u001B[1;33m(\u001B[0m\u001B[1;36m1\u001B[0m\u001B[1;33m,\u001B[0m\u001B[1;36m26\u001B[0m\u001B[1;33m)\u001B[0m\u001B[1;33m\u001B[0m\u001B[1;33m\u001B[0m\u001B[0m\n\u001B[0m\u001B[0;32m      6\u001B[0m     \u001B[0mtest\u001B[0m\u001B[1;33m.\u001B[0m\u001B[0mappend\u001B[0m\u001B[1;33m(\u001B[0m\u001B[0ma\u001B[0m\u001B[1;33m[\u001B[0m\u001B[0ml\u001B[0m\u001B[1;33m]\u001B[0m\u001B[1;33m)\u001B[0m\u001B[1;33m\u001B[0m\u001B[1;33m\u001B[0m\u001B[0m\n\u001B[0;32m      7\u001B[0m \u001B[0mtest\u001B[0m \u001B[1;33m=\u001B[0m \u001B[1;34m''\u001B[0m\u001B[1;33m.\u001B[0m\u001B[0mjoin\u001B[0m\u001B[1;33m(\u001B[0m\u001B[0mtest\u001B[0m\u001B[1;33m)\u001B[0m\u001B[1;33m\u001B[0m\u001B[1;33m\u001B[0m\u001B[0m\n",
      "\u001B[1;32m~\\anaconda3\\lib\\random.py\u001B[0m in \u001B[0;36mrandint\u001B[1;34m(self, a, b)\u001B[0m\n\u001B[0;32m    336\u001B[0m         \"\"\"\n\u001B[0;32m    337\u001B[0m \u001B[1;33m\u001B[0m\u001B[0m\n\u001B[1;32m--> 338\u001B[1;33m         \u001B[1;32mreturn\u001B[0m \u001B[0mself\u001B[0m\u001B[1;33m.\u001B[0m\u001B[0mrandrange\u001B[0m\u001B[1;33m(\u001B[0m\u001B[0ma\u001B[0m\u001B[1;33m,\u001B[0m \u001B[0mb\u001B[0m\u001B[1;33m+\u001B[0m\u001B[1;36m1\u001B[0m\u001B[1;33m)\u001B[0m\u001B[1;33m\u001B[0m\u001B[1;33m\u001B[0m\u001B[0m\n\u001B[0m\u001B[0;32m    339\u001B[0m \u001B[1;33m\u001B[0m\u001B[0m\n\u001B[0;32m    340\u001B[0m \u001B[1;33m\u001B[0m\u001B[0m\n",
      "\u001B[1;31mKeyboardInterrupt\u001B[0m: "
     ]
    }
   ],
   "source": [
    "from random import randint\n",
    "test = []\n",
    "a = ['a', 'b', 'c', 'd', 'e', 'f', 'g', 'h', 'i', 'j', 'k', 'l', 'm', 'n', 'o', 'p', 'q', 'r', 's', 't', 'u', 'v', 'w', 'x', 'y', 'z',' ']\n",
    "for n in range(1,10000000):\n",
    "    l = randint(1,26)\n",
    "    test.append(a[l])\n",
    "test = ''.join(test)"
   ],
   "metadata": {
    "collapsed": false,
    "pycharm": {
     "name": "#%%\n"
    }
   }
  },
  {
   "cell_type": "code",
   "execution_count": 34,
   "outputs": [
    {
     "ename": "AttributeError",
     "evalue": "'list' object has no attribute 'lower'",
     "output_type": "error",
     "traceback": [
      "\u001B[1;31m---------------------------------------------------------------------------\u001B[0m",
      "\u001B[1;31mAttributeError\u001B[0m                            Traceback (most recent call last)",
      "\u001B[1;32m~\\AppData\\Local\\Temp/ipykernel_16660/3048287308.py\u001B[0m in \u001B[0;36m<module>\u001B[1;34m\u001B[0m\n\u001B[0;32m      3\u001B[0m \u001B[0mt0\u001B[0m \u001B[1;33m=\u001B[0m \u001B[0mtime\u001B[0m\u001B[1;33m.\u001B[0m\u001B[0mtime\u001B[0m\u001B[1;33m(\u001B[0m\u001B[1;33m)\u001B[0m\u001B[1;33m\u001B[0m\u001B[1;33m\u001B[0m\u001B[0m\n\u001B[0;32m      4\u001B[0m \u001B[1;32mfor\u001B[0m \u001B[0mb\u001B[0m \u001B[1;32min\u001B[0m \u001B[0mrange\u001B[0m\u001B[1;33m(\u001B[0m\u001B[0mn\u001B[0m\u001B[1;33m)\u001B[0m\u001B[1;33m:\u001B[0m\u001B[1;33m\u001B[0m\u001B[1;33m\u001B[0m\u001B[0m\n\u001B[1;32m----> 5\u001B[1;33m     \u001B[0mcypher\u001B[0m\u001B[1;33m(\u001B[0m\u001B[0mtest\u001B[0m\u001B[1;33m,\u001B[0m\u001B[1;36m10\u001B[0m\u001B[1;33m)\u001B[0m\u001B[1;33m\u001B[0m\u001B[1;33m\u001B[0m\u001B[0m\n\u001B[0m\u001B[0;32m      6\u001B[0m \u001B[0mt1\u001B[0m \u001B[1;33m=\u001B[0m \u001B[0mtime\u001B[0m\u001B[1;33m.\u001B[0m\u001B[0mtime\u001B[0m\u001B[1;33m(\u001B[0m\u001B[1;33m)\u001B[0m\u001B[1;33m\u001B[0m\u001B[1;33m\u001B[0m\u001B[0m\n\u001B[0;32m      7\u001B[0m \u001B[1;33m\u001B[0m\u001B[0m\n",
      "\u001B[1;32m~\\AppData\\Local\\Temp/ipykernel_16660/3354370929.py\u001B[0m in \u001B[0;36mcypher\u001B[1;34m(message, number)\u001B[0m\n\u001B[0;32m      9\u001B[0m     \u001B[1;31m# For every letter in the message, run through all the values (j) and index (i) until the list value is equal to the letter appending to the list.\u001B[0m\u001B[1;33m\u001B[0m\u001B[1;33m\u001B[0m\u001B[0m\n\u001B[0;32m     10\u001B[0m     \u001B[1;31m# The second factor for the if statements are to tackle the issue when the number is over the list index. Solved through subtracting the number by 26 restarting the values.\u001B[0m\u001B[1;33m\u001B[0m\u001B[1;33m\u001B[0m\u001B[0m\n\u001B[1;32m---> 11\u001B[1;33m     \u001B[1;32mfor\u001B[0m \u001B[0mletter\u001B[0m \u001B[1;32min\u001B[0m \u001B[0mmessage\u001B[0m\u001B[1;33m.\u001B[0m\u001B[0mlower\u001B[0m\u001B[1;33m(\u001B[0m\u001B[1;33m)\u001B[0m\u001B[1;33m:\u001B[0m\u001B[1;33m\u001B[0m\u001B[1;33m\u001B[0m\u001B[0m\n\u001B[0m\u001B[0;32m     12\u001B[0m         \u001B[1;32mif\u001B[0m \u001B[0mletter\u001B[0m \u001B[1;33m==\u001B[0m \u001B[1;34m' '\u001B[0m\u001B[1;33m:\u001B[0m\u001B[1;33m\u001B[0m\u001B[1;33m\u001B[0m\u001B[0m\n\u001B[0;32m     13\u001B[0m             \u001B[0managram\u001B[0m\u001B[1;33m.\u001B[0m\u001B[0mappend\u001B[0m\u001B[1;33m(\u001B[0m\u001B[1;34m' '\u001B[0m\u001B[1;33m)\u001B[0m\u001B[1;33m\u001B[0m\u001B[1;33m\u001B[0m\u001B[0m\n",
      "\u001B[1;31mAttributeError\u001B[0m: 'list' object has no attribute 'lower'"
     ]
    }
   ],
   "source": [
    "import time\n",
    "n = 1\n",
    "t0 = time.time()\n",
    "for b in range(n):\n",
    "    cypher(test,10)\n",
    "t1 = time.time()\n",
    "\n",
    "total_n = t1-t0"
   ],
   "metadata": {
    "collapsed": false,
    "pycharm": {
     "name": "#%%\n"
    }
   }
  },
  {
   "cell_type": "code",
   "execution_count": 35,
   "outputs": [],
   "source": [
    "n = 1\n",
    "t2 = time.time()\n",
    "for b in range(n):\n",
    "    cypher2(test,10)\n",
    "t3 = time.time()\n",
    "\n",
    "total_n2 = t3-t2"
   ],
   "metadata": {
    "collapsed": false,
    "pycharm": {
     "name": "#%%\n"
    }
   }
  },
  {
   "cell_type": "code",
   "execution_count": 36,
   "outputs": [
    {
     "ename": "NameError",
     "evalue": "name 'total_n' is not defined",
     "output_type": "error",
     "traceback": [
      "\u001B[1;31m---------------------------------------------------------------------------\u001B[0m",
      "\u001B[1;31mNameError\u001B[0m                                 Traceback (most recent call last)",
      "\u001B[1;32m~\\AppData\\Local\\Temp/ipykernel_16660/4116451813.py\u001B[0m in \u001B[0;36m<module>\u001B[1;34m\u001B[0m\n\u001B[1;32m----> 1\u001B[1;33m \u001B[0mtotal_n\u001B[0m\u001B[1;33m\u001B[0m\u001B[1;33m\u001B[0m\u001B[0m\n\u001B[0m",
      "\u001B[1;31mNameError\u001B[0m: name 'total_n' is not defined"
     ]
    }
   ],
   "source": [
    "total_n"
   ],
   "metadata": {
    "collapsed": false,
    "pycharm": {
     "name": "#%%\n"
    }
   }
  },
  {
   "cell_type": "code",
   "execution_count": 37,
   "outputs": [
    {
     "data": {
      "text/plain": "14.229010820388794"
     },
     "execution_count": 37,
     "metadata": {},
     "output_type": "execute_result"
    }
   ],
   "source": [
    "total_n2"
   ],
   "metadata": {
    "collapsed": false,
    "pycharm": {
     "name": "#%%\n"
    }
   }
  }
 ],
 "metadata": {
  "kernelspec": {
   "display_name": "Python 3",
   "language": "python",
   "name": "python3"
  },
  "language_info": {
   "codemirror_mode": {
    "name": "ipython",
    "version": 2
   },
   "file_extension": ".py",
   "mimetype": "text/x-python",
   "name": "python",
   "nbconvert_exporter": "python",
   "pygments_lexer": "ipython2",
   "version": "2.7.6"
  }
 },
 "nbformat": 4,
 "nbformat_minor": 0
}