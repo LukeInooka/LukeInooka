{
 "cells": [
  {
   "cell_type": "markdown",
   "metadata": {
    "collapsed": true,
    "pycharm": {
     "name": "#%% md\n"
    }
   },
   "source": [
    "# Write a few lines of code that will open and read text file line by line to a variable. Use a try and except block to handle the event of the file not existing.\n"
   ]
  },
  {
   "cell_type": "code",
   "execution_count": 7,
   "outputs": [
    {
     "name": "stdout",
     "output_type": "stream",
     "text": [
      "We couldn't find a file with that name\n"
     ]
    }
   ],
   "source": [
    "file_path = input(\"What's the file path: \")\n",
    "try:\n",
    "    with open(file_path,'r') as file:\n",
    "        contents = file\n",
    "except FileNotFoundError as err:\n",
    "    print(err)\n",
    "    print(\"We couldn't find a file with that name\")\n"
   ],
   "metadata": {
    "collapsed": false,
    "pycharm": {
     "name": "#%%\n"
    }
   }
  },
  {
   "cell_type": "code",
   "execution_count": 12,
   "outputs": [],
   "source": [
    "def division(x:float,y:float)->float:\n",
    "    return x/y"
   ],
   "metadata": {
    "collapsed": false,
    "pycharm": {
     "name": "#%%\n"
    }
   }
  },
  {
   "cell_type": "code",
   "execution_count": 18,
   "outputs": [
    {
     "name": "stdout",
     "output_type": "stream",
     "text": [
      "unsupported operand type(s) for /: 'int' and 'str'\n",
      "One of your inputs are not a number\n"
     ]
    }
   ],
   "source": [
    "try:\n",
    "    division(3/'potatp')\n",
    "except ZeroDivisionError as err:\n",
    "    print(err)\n",
    "    print(\" You can't have a zero on the emonit\")\n",
    "except TypeError as err:\n",
    "    print(err)\n",
    "    print('One of your inputs are not a number')"
   ],
   "metadata": {
    "collapsed": false,
    "pycharm": {
     "name": "#%%\n"
    }
   }
  },
  {
   "cell_type": "code",
   "execution_count": null,
   "outputs": [],
   "source": [
    "print(\"entering\")\n",
    "try:\n",
    "    division(3,0)\n",
    "except()"
   ],
   "metadata": {
    "collapsed": false,
    "pycharm": {
     "name": "#%%\n"
    }
   }
  }
 ],
 "metadata": {
  "kernelspec": {
   "display_name": "Python 3",
   "language": "python",
   "name": "python3"
  },
  "language_info": {
   "codemirror_mode": {
    "name": "ipython",
    "version": 2
   },
   "file_extension": ".py",
   "mimetype": "text/x-python",
   "name": "python",
   "nbconvert_exporter": "python",
   "pygments_lexer": "ipython2",
   "version": "2.7.6"
  }
 },
 "nbformat": 4,
 "nbformat_minor": 0
}