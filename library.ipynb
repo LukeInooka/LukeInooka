{
 "cells": [
  {
   "cell_type": "code",
   "execution_count": 45,
   "id": "9e08f5ad",
   "metadata": {},
   "outputs": [],
   "source": [
    "from datetime import date\n",
    "from datetime import timedelta\n",
    "\n",
    "class LibraryItem(object):\n",
    "    '''\n",
    "        Attributes\n",
    "        ----------\n",
    "        item_number: unique number of the item\n",
    "        status: available or borrowed\n",
    "        borrowing_stats: statistics about the item\n",
    "    '''\n",
    "    \n",
    "    def __init__(self, item_number):\n",
    "        self.item_number = item_number\n",
    "        self.status = 'available'\n",
    "        self.borrowing_stats = dict()\n",
    "        \n",
    "    def borrow_item(self, personal_number):\n",
    "        if self.status == 'available':\n",
    "            self.borrowing_stats[personal_number] = {'Borrowed on':date.today(), \n",
    "                                                     'Return by':date.today()+timedelta(days=30), \n",
    "                                                     'Returned on':'-'}\n",
    "            self.status = 'borrowed'\n",
    "        else:\n",
    "            print('Item is already borrowed.')\n",
    "        \n",
    "    def return_item(self, personal_number):\n",
    "        pass\n",
    "        \n",
    "    def get_info(self):\n",
    "        print(f'Item type: Library item\\\n",
    "        \\nItem number: {self.item_number}\\n')\n",
    "        \n",
    "        # print(f'The item is currently {self.status}.\\n')\n",
    "        \n",
    "        for k, v in self.borrowing_stats.items():\n",
    "            print(k,v)\n",
    "            ''' Enter your code for question 4. '''\n",
    "            ''' Enter your code for question 5. '''\n",
    "            for k1,v1 in v.items():\n",
    "                print(f'{k1}: {v1}')\n",
    "            # print(v.items())\n",
    "            \n",
    "class Book(LibraryItem):\n",
    "    '''Books in the library'''\n",
    "    \n",
    "    def __init__(self, item_number, title, author, publisher):\n",
    "        super().__init__(item_number)\n",
    "        self.title = title\n",
    "        self.author = author\n",
    "        self.publisher = publisher\n",
    "        \n",
    "    def get_info(self):\n",
    "        pass\n",
    "            \n",
    "class CD(LibraryItem):\n",
    "    '''CDs in the library'''\n",
    "    \n",
    "    def __init__(self, item_number, title):\n",
    "        super().__init__(item_number)\n",
    "        self.title = title\n",
    "        \n",
    "    def get_info(self):\n",
    "        pass\n",
    "    \n",
    "class Member():\n",
    "    pass"
   ]
  },
  {
   "cell_type": "markdown",
   "id": "25a9b839",
   "metadata": {},
   "source": [
    "### Question 1"
   ]
  },
  {
   "cell_type": "code",
   "execution_count": 47,
   "id": "9a70c2ad",
   "metadata": {},
   "outputs": [],
   "source": [
    "item1 = LibraryItem(123)\n",
    "item2 = LibraryItem(124)\n",
    "book = Book(125, 'Matilda', 'Roald Dahl', 'Jonathan Cape')\n",
    "cd = CD(126, 'Matilda')"
   ]
  },
  {
   "cell_type": "markdown",
   "id": "c979a407",
   "metadata": {},
   "source": [
    "### Question 5"
   ]
  },
  {
   "cell_type": "code",
   "execution_count": 49,
   "id": "4b379a1a",
   "metadata": {},
   "outputs": [
    {
     "name": "stdout",
     "output_type": "stream",
     "text": [
      "Item is already borrowed.\n",
      "Item is already borrowed.\n"
     ]
    }
   ],
   "source": [
    "item1.borrow_item('98-1201')\n",
    "book.borrow_item(1)"
   ]
  },
  {
   "cell_type": "code",
   "execution_count": 50,
   "outputs": [],
   "source": [
    "item2.borrow_item(10)"
   ],
   "metadata": {
    "collapsed": false,
    "pycharm": {
     "name": "#%%\n"
    }
   }
  },
  {
   "cell_type": "code",
   "execution_count": 51,
   "outputs": [
    {
     "name": "stdout",
     "output_type": "stream",
     "text": [
      "Item type: Library item        \n",
      "Item number: 124\n",
      "\n",
      "10 {'Borrowed on': datetime.date(2022, 4, 12), 'Return by': datetime.date(2022, 5, 12), 'Returned on': '-'}\n",
      "Borrowed on: 2022-04-12\n",
      "Return by: 2022-05-12\n",
      "Returned on: -\n"
     ]
    }
   ],
   "source": [
    "item2.get_info()"
   ],
   "metadata": {
    "collapsed": false,
    "pycharm": {
     "name": "#%%\n"
    }
   }
  },
  {
   "cell_type": "code",
   "execution_count": 23,
   "outputs": [
    {
     "ename": "NameError",
     "evalue": "name 'v' is not defined",
     "output_type": "error",
     "traceback": [
      "\u001B[1;31m---------------------------------------------------------------------------\u001B[0m",
      "\u001B[1;31mNameError\u001B[0m                                 Traceback (most recent call last)",
      "\u001B[1;32m~\\AppData\\Local\\Temp/ipykernel_17456/164879347.py\u001B[0m in \u001B[0;36m<module>\u001B[1;34m\u001B[0m\n\u001B[1;32m----> 1\u001B[1;33m \u001B[0mv\u001B[0m\u001B[1;33m.\u001B[0m\u001B[0mitems\u001B[0m\u001B[1;33m\u001B[0m\u001B[1;33m\u001B[0m\u001B[0m\n\u001B[0m",
      "\u001B[1;31mNameError\u001B[0m: name 'v' is not defined"
     ]
    }
   ],
   "source": [
    "v.items"
   ],
   "metadata": {
    "collapsed": false,
    "pycharm": {
     "name": "#%%\n"
    }
   }
  },
  {
   "cell_type": "code",
   "execution_count": 57,
   "outputs": [
    {
     "name": "stdout",
     "output_type": "stream",
     "text": [
      "2\n"
     ]
    }
   ],
   "source": [
    "import random\n",
    "print(random.randint(0,2))"
   ],
   "metadata": {
    "collapsed": false,
    "pycharm": {
     "name": "#%%\n"
    }
   }
  }
 ],
 "metadata": {
  "kernelspec": {
   "display_name": "Python 3",
   "language": "python",
   "name": "python3"
  },
  "language_info": {
   "codemirror_mode": {
    "name": "ipython",
    "version": 3
   },
   "file_extension": ".py",
   "mimetype": "text/x-python",
   "name": "python",
   "nbconvert_exporter": "python",
   "pygments_lexer": "ipython3",
   "version": "3.8.8"
  }
 },
 "nbformat": 4,
 "nbformat_minor": 5
}